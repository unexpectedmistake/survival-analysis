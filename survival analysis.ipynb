{
 "cells": [
  {
   "cell_type": "markdown",
   "id": "797dec05",
   "metadata": {},
   "source": [
    "## Survival Analysis"
   ]
  },
  {
   "cell_type": "markdown",
   "id": "aaa39b44",
   "metadata": {},
   "source": [
    "Materials:\n",
    "- A Guide to Model Selection For Survival Analysis [Link](https://towardsdatascience.com/a-guide-to-model-selection-for-survival-analysis-2500b211c733)\n",
    "- Survival Analysis — Part A [Link](https://towardsdatascience.com/survival-analysis-part-a-70213df21c2e)\n",
    "- The Cox Proportional Hazards Model [Link](https://towardsdatascience.com/the-cox-proportional-hazards-model-35e60e554d8f)\n",
    "- The Stratified Cox Proportional Hazards Regression Model [Link](https://towardsdatascience.com/the-stratified-cox-proportional-hazards-regression-model-fa1fa5de2bb1)"
   ]
  },
  {
   "cell_type": "markdown",
   "id": "c23f6173",
   "metadata": {},
   "source": [
    "Dataset load"
   ]
  },
  {
   "cell_type": "code",
   "execution_count": 13,
   "id": "6ffba247",
   "metadata": {
    "ExecuteTime": {
     "end_time": "2022-08-28T15:28:06.769487Z",
     "start_time": "2022-08-28T15:28:06.729267Z"
    }
   },
   "outputs": [
    {
     "data": {
      "text/html": [
       "<div>\n",
       "<style scoped>\n",
       "    .dataframe tbody tr th:only-of-type {\n",
       "        vertical-align: middle;\n",
       "    }\n",
       "\n",
       "    .dataframe tbody tr th {\n",
       "        vertical-align: top;\n",
       "    }\n",
       "\n",
       "    .dataframe thead th {\n",
       "        text-align: right;\n",
       "    }\n",
       "</style>\n",
       "<table border=\"1\" class=\"dataframe\">\n",
       "  <thead>\n",
       "    <tr style=\"text-align: right;\">\n",
       "      <th></th>\n",
       "      <th>week</th>\n",
       "      <th>arrest</th>\n",
       "      <th>fin</th>\n",
       "      <th>age</th>\n",
       "      <th>race</th>\n",
       "      <th>wexp</th>\n",
       "      <th>mar</th>\n",
       "      <th>paro</th>\n",
       "      <th>prio</th>\n",
       "    </tr>\n",
       "  </thead>\n",
       "  <tbody>\n",
       "    <tr>\n",
       "      <th>0</th>\n",
       "      <td>20</td>\n",
       "      <td>1</td>\n",
       "      <td>0</td>\n",
       "      <td>27</td>\n",
       "      <td>1</td>\n",
       "      <td>0</td>\n",
       "      <td>0</td>\n",
       "      <td>1</td>\n",
       "      <td>3</td>\n",
       "    </tr>\n",
       "    <tr>\n",
       "      <th>1</th>\n",
       "      <td>17</td>\n",
       "      <td>1</td>\n",
       "      <td>0</td>\n",
       "      <td>18</td>\n",
       "      <td>1</td>\n",
       "      <td>0</td>\n",
       "      <td>0</td>\n",
       "      <td>1</td>\n",
       "      <td>8</td>\n",
       "    </tr>\n",
       "    <tr>\n",
       "      <th>2</th>\n",
       "      <td>25</td>\n",
       "      <td>1</td>\n",
       "      <td>0</td>\n",
       "      <td>19</td>\n",
       "      <td>0</td>\n",
       "      <td>1</td>\n",
       "      <td>0</td>\n",
       "      <td>1</td>\n",
       "      <td>13</td>\n",
       "    </tr>\n",
       "    <tr>\n",
       "      <th>3</th>\n",
       "      <td>52</td>\n",
       "      <td>0</td>\n",
       "      <td>1</td>\n",
       "      <td>23</td>\n",
       "      <td>1</td>\n",
       "      <td>1</td>\n",
       "      <td>1</td>\n",
       "      <td>1</td>\n",
       "      <td>1</td>\n",
       "    </tr>\n",
       "    <tr>\n",
       "      <th>4</th>\n",
       "      <td>52</td>\n",
       "      <td>0</td>\n",
       "      <td>0</td>\n",
       "      <td>19</td>\n",
       "      <td>0</td>\n",
       "      <td>1</td>\n",
       "      <td>0</td>\n",
       "      <td>1</td>\n",
       "      <td>3</td>\n",
       "    </tr>\n",
       "  </tbody>\n",
       "</table>\n",
       "</div>"
      ],
      "text/plain": [
       "   week  arrest  fin  age  race  wexp  mar  paro  prio\n",
       "0    20       1    0   27     1     0    0     1     3\n",
       "1    17       1    0   18     1     0    0     1     8\n",
       "2    25       1    0   19     0     1    0     1    13\n",
       "3    52       0    1   23     1     1    1     1     1\n",
       "4    52       0    0   19     0     1    0     1     3"
      ]
     },
     "execution_count": 13,
     "metadata": {},
     "output_type": "execute_result"
    }
   ],
   "source": [
    "import pandas as pd\n",
    "from lifelines.datasets import load_rossi\n",
    "\n",
    "# load data set\n",
    "df = load_rossi()\n",
    "df.head()"
   ]
  },
  {
   "cell_type": "code",
   "execution_count": null,
   "id": "57d4a636",
   "metadata": {},
   "outputs": [],
   "source": []
  },
  {
   "cell_type": "markdown",
   "id": "5ff49b65",
   "metadata": {},
   "source": [
    "### 1 - Kaplan Meier Model\n",
    "The Kaplan-Meier model is arguably the most well-known model in survival analysis.\n",
    "\n",
    "It is classified as a non-parametric model, meaning that it does not assume the distribution of the data. It generates a survival function with only the information provided."
   ]
  },
  {
   "cell_type": "markdown",
   "id": "372bb6fe",
   "metadata": {
    "ExecuteTime": {
     "end_time": "2022-08-28T15:26:02.707084Z",
     "start_time": "2022-08-28T15:26:02.695026Z"
    }
   },
   "source": [
    "The Kaplan Meier model computes the survival function with the formula:"
   ]
  },
  {
   "cell_type": "markdown",
   "id": "89dbf97b",
   "metadata": {
    "ExecuteTime": {
     "end_time": "2022-08-28T15:21:32.356169Z",
     "start_time": "2022-08-28T15:21:32.332893Z"
    }
   },
   "source": [
    "$S(t) = \\prod\\limits_{i:t_t \\leq t}(1-\\dfrac{d_i}{n_i})$"
   ]
  },
  {
   "cell_type": "code",
   "execution_count": 16,
   "id": "89ec06cc",
   "metadata": {
    "ExecuteTime": {
     "end_time": "2022-08-28T15:28:37.526173Z",
     "start_time": "2022-08-28T15:28:37.493402Z"
    }
   },
   "outputs": [
    {
     "data": {
      "text/plain": [
       "<lifelines.KaplanMeierFitter:\"KM_estimate\", fitted with 432 total observations, 318 right-censored observations>"
      ]
     },
     "execution_count": 16,
     "metadata": {},
     "output_type": "execute_result"
    }
   ],
   "source": [
    "from lifelines import KaplanMeierFitter\n",
    "import matplotlib.pyplot as plt\n",
    "\n",
    "# fit data into Kaplan Meier estimator\n",
    "kmf = KaplanMeierFitter()\n",
    "kmf.fit(durations=df['week'], \n",
    "        event_observed=df['arrest'])"
   ]
  },
  {
   "cell_type": "code",
   "execution_count": 17,
   "id": "8df525aa",
   "metadata": {
    "ExecuteTime": {
     "end_time": "2022-08-28T15:28:38.503529Z",
     "start_time": "2022-08-28T15:28:38.345082Z"
    }
   },
   "outputs": [
    {
     "data": {
      "image/png": "[encoded data removed]",
      "text/plain": [
       "<Figure size 432x288 with 1 Axes>"
      ]
     },
     "metadata": {
      "needs_background": "light"
     },
     "output_type": "display_data"
    }
   ],
   "source": [
    "# plot survival curve\n",
    "kmf.plot(ci_show=False)\n",
    "plt.ylabel('Survival Rate')\n",
    "plt.title('Survival Curve')\n",
    "plt.show()"
   ]
  },
  {
   "cell_type": "code",
   "execution_count": null,
   "id": "feda8107",
   "metadata": {},
   "outputs": [],
   "source": []
  },
  {
   "cell_type": "markdown",
   "id": "ed60a5f9",
   "metadata": {},
   "source": [
    "The survival functions of different groups can be compared with the log-rank test, a non-parametric hypothesis test."
   ]
  },
  {
   "cell_type": "markdown",
   "id": "33027aac",
   "metadata": {},
   "source": [
    "As an example, we can compare the survival functions of subjects with and without financial aid to see if financial aid affects the survival duration using the logrank_test method"
   ]
  },
  {
   "cell_type": "code",
   "execution_count": 4,
   "id": "04251823",
   "metadata": {
    "ExecuteTime": {
     "end_time": "2022-08-28T15:05:15.656310Z",
     "start_time": "2022-08-28T15:05:15.649364Z"
    }
   },
   "outputs": [],
   "source": [
    "from lifelines.statistics import logrank_test\n",
    "\n",
    "# separating subjects with and without financial aid\n",
    "df_fin = df[df['fin']==1]\n",
    "df_no_fin = df[df['fin']==0]\n"
   ]
  },
  {
   "cell_type": "code",
   "execution_count": 5,
   "id": "b09096ab",
   "metadata": {
    "ExecuteTime": {
     "end_time": "2022-08-28T15:05:16.625087Z",
     "start_time": "2022-08-28T15:05:16.587269Z"
    }
   },
   "outputs": [
    {
     "name": "stdout",
     "output_type": "stream",
     "text": [
      "P-value: 0.050116117409005845\n"
     ]
    }
   ],
   "source": [
    "# perform log rank test to compare subjects with and without aid\n",
    "results = logrank_test(durations_A=df_fin['week'],\n",
    "                      event_observed_A=df_fin['arrest'],\n",
    "                      durations_B=df_no_fin['week'],\n",
    "                      event_observed_B=df_no_fin['arrest'])\n",
    "results = results.summary\n",
    "print(f'P-value: {results.p[0]}')"
   ]
  },
  {
   "cell_type": "markdown",
   "id": "349b8506",
   "metadata": {},
   "source": [
    "p-value < 0.05 (below the 5% level)is statistical significant which denotes that we have to regret null hypothesis and to extract the information that survival functions are significantly different."
   ]
  },
  {
   "cell_type": "markdown",
   "id": "e814da6d",
   "metadata": {},
   "source": [
    "The benefit of the Kaplan Meier model is that it is intuitive and easy to interpret. As it makes few underlying assumptions, **this model is often used as a baseline in survival analysis.**"
   ]
  },
  {
   "cell_type": "code",
   "execution_count": null,
   "id": "33c5a9ef",
   "metadata": {},
   "outputs": [],
   "source": []
  },
  {
   "cell_type": "code",
   "execution_count": 4,
   "id": "831be7b7",
   "metadata": {
    "ExecuteTime": {
     "end_time": "2022-08-28T14:35:38.001962Z",
     "start_time": "2022-08-28T14:35:37.981173Z"
    }
   },
   "outputs": [
    {
     "name": "stdout",
     "output_type": "stream",
     "text": [
      "      T  E    group\n",
      "0   6.0  1  miR-137\n",
      "1  13.0  1  miR-137\n",
      "2  13.0  1  miR-137\n",
      "3  13.0  1  miR-137\n",
      "4  19.0  1  miR-137\n"
     ]
    }
   ],
   "source": [
    "from lifelines.datasets import load_waltons\n",
    "df = load_waltons() # returns a Pandas DataFrame\n",
    "\n",
    "print(df.head())\n",
    "T = df['T']\n",
    "E = df['E']"
   ]
  },
  {
   "cell_type": "code",
   "execution_count": 6,
   "id": "04a600c1",
   "metadata": {
    "ExecuteTime": {
     "end_time": "2022-08-28T14:35:40.986316Z",
     "start_time": "2022-08-28T14:35:40.966857Z"
    },
    "scrolled": true
   },
   "outputs": [
    {
     "data": {
      "text/plain": [
       "<lifelines.KaplanMeierFitter:\"KM_estimate\", fitted with 163 total observations, 7 right-censored observations>"
      ]
     },
     "execution_count": 6,
     "metadata": {},
     "output_type": "execute_result"
    }
   ],
   "source": [
    "from lifelines import KaplanMeierFitter\n",
    "kmf = KaplanMeierFitter()\n",
    "kmf.fit(T, event_observed=E)  # or, more succinctly, kmf.fit(T, E)"
   ]
  },
  {
   "cell_type": "code",
   "execution_count": 16,
   "id": "0bd08306",
   "metadata": {
    "ExecuteTime": {
     "end_time": "2022-08-28T14:37:34.620091Z",
     "start_time": "2022-08-28T14:37:34.608665Z"
    }
   },
   "outputs": [
    {
     "data": {
      "text/html": [
       "<div>\n",
       "<style scoped>\n",
       "    .dataframe tbody tr th:only-of-type {\n",
       "        vertical-align: middle;\n",
       "    }\n",
       "\n",
       "    .dataframe tbody tr th {\n",
       "        vertical-align: top;\n",
       "    }\n",
       "\n",
       "    .dataframe thead th {\n",
       "        text-align: right;\n",
       "    }\n",
       "</style>\n",
       "<table border=\"1\" class=\"dataframe\">\n",
       "  <thead>\n",
       "    <tr style=\"text-align: right;\">\n",
       "      <th></th>\n",
       "      <th>KM_estimate</th>\n",
       "    </tr>\n",
       "    <tr>\n",
       "      <th>timeline</th>\n",
       "      <th></th>\n",
       "    </tr>\n",
       "  </thead>\n",
       "  <tbody>\n",
       "    <tr>\n",
       "      <th>0.0</th>\n",
       "      <td>1.000000</td>\n",
       "    </tr>\n",
       "    <tr>\n",
       "      <th>6.0</th>\n",
       "      <td>0.993865</td>\n",
       "    </tr>\n",
       "    <tr>\n",
       "      <th>7.0</th>\n",
       "      <td>0.987730</td>\n",
       "    </tr>\n",
       "    <tr>\n",
       "      <th>9.0</th>\n",
       "      <td>0.969210</td>\n",
       "    </tr>\n",
       "    <tr>\n",
       "      <th>13.0</th>\n",
       "      <td>0.950690</td>\n",
       "    </tr>\n",
       "  </tbody>\n",
       "</table>\n",
       "</div>"
      ],
      "text/plain": [
       "          KM_estimate\n",
       "timeline             \n",
       "0.0          1.000000\n",
       "6.0          0.993865\n",
       "7.0          0.987730\n",
       "9.0          0.969210\n",
       "13.0         0.950690"
      ]
     },
     "execution_count": 16,
     "metadata": {},
     "output_type": "execute_result"
    }
   ],
   "source": [
    "kmf.survival_function_.head()"
   ]
  },
  {
   "cell_type": "code",
   "execution_count": 11,
   "id": "c9dc35fb",
   "metadata": {
    "ExecuteTime": {
     "end_time": "2022-08-28T14:36:08.452012Z",
     "start_time": "2022-08-28T14:36:08.440415Z"
    }
   },
   "outputs": [
    {
     "data": {
      "text/html": [
       "<div>\n",
       "<style scoped>\n",
       "    .dataframe tbody tr th:only-of-type {\n",
       "        vertical-align: middle;\n",
       "    }\n",
       "\n",
       "    .dataframe tbody tr th {\n",
       "        vertical-align: top;\n",
       "    }\n",
       "\n",
       "    .dataframe thead th {\n",
       "        text-align: right;\n",
       "    }\n",
       "</style>\n",
       "<table border=\"1\" class=\"dataframe\">\n",
       "  <thead>\n",
       "    <tr style=\"text-align: right;\">\n",
       "      <th></th>\n",
       "      <th>KM_estimate</th>\n",
       "    </tr>\n",
       "    <tr>\n",
       "      <th>timeline</th>\n",
       "      <th></th>\n",
       "    </tr>\n",
       "  </thead>\n",
       "  <tbody>\n",
       "    <tr>\n",
       "      <th>0.0</th>\n",
       "      <td>0.000000</td>\n",
       "    </tr>\n",
       "    <tr>\n",
       "      <th>6.0</th>\n",
       "      <td>0.006135</td>\n",
       "    </tr>\n",
       "    <tr>\n",
       "      <th>7.0</th>\n",
       "      <td>0.012270</td>\n",
       "    </tr>\n",
       "    <tr>\n",
       "      <th>9.0</th>\n",
       "      <td>0.030790</td>\n",
       "    </tr>\n",
       "    <tr>\n",
       "      <th>13.0</th>\n",
       "      <td>0.049310</td>\n",
       "    </tr>\n",
       "  </tbody>\n",
       "</table>\n",
       "</div>"
      ],
      "text/plain": [
       "          KM_estimate\n",
       "timeline             \n",
       "0.0          0.000000\n",
       "6.0          0.006135\n",
       "7.0          0.012270\n",
       "9.0          0.030790\n",
       "13.0         0.049310"
      ]
     },
     "execution_count": 11,
     "metadata": {},
     "output_type": "execute_result"
    }
   ],
   "source": [
    "kmf.cumulative_density_.head()"
   ]
  },
  {
   "cell_type": "code",
   "execution_count": 14,
   "id": "d337cbb6",
   "metadata": {
    "ExecuteTime": {
     "end_time": "2022-08-28T14:37:11.043527Z",
     "start_time": "2022-08-28T14:37:10.902130Z"
    }
   },
   "outputs": [
    {
     "data": {
      "text/plain": [
       "<AxesSubplot:xlabel='timeline'>"
      ]
     },
     "execution_count": 14,
     "metadata": {},
     "output_type": "execute_result"
    },
    {
     "data": {
      "image/png": "[encoded data removed]",
      "text/plain": [
       "<Figure size 432x288 with 1 Axes>"
      ]
     },
     "metadata": {
      "needs_background": "light"
     },
     "output_type": "display_data"
    }
   ],
   "source": [
    "kmf.plot_survival_function()"
   ]
  },
  {
   "cell_type": "markdown",
   "id": "b63aac04",
   "metadata": {
    "heading_collapsed": true
   },
   "source": [
    "### 2 - Exponential Model\n",
    "The Exponential model is another popular model in survival analysis. Unlike the Kaplan Meier model, it is a parametric model, meaning that it assumes that the data fits a specific distribution.\n",
    "\n",
    "The survival function of the Exponential model is derived from the formula:"
   ]
  },
  {
   "cell_type": "markdown",
   "id": "7c17a9ac",
   "metadata": {
    "ExecuteTime": {
     "end_time": "2022-08-28T15:26:50.177866Z",
     "start_time": "2022-08-28T15:26:50.159686Z"
    },
    "hidden": true
   },
   "source": [
    "$S(t) = exp(-\\dfrac{t}{\\lambda})$"
   ]
  },
  {
   "cell_type": "markdown",
   "id": "4e93b78e",
   "metadata": {
    "ExecuteTime": {
     "end_time": "2022-08-28T15:28:50.603110Z",
     "start_time": "2022-08-28T15:28:50.580525Z"
    },
    "hidden": true
   },
   "source": [
    "The hazard rate of the Exponential model is derived from the formula:"
   ]
  },
  {
   "cell_type": "markdown",
   "id": "9ab18202",
   "metadata": {
    "ExecuteTime": {
     "end_time": "2022-08-28T15:27:10.979642Z",
     "start_time": "2022-08-28T15:27:10.970023Z"
    },
    "hidden": true
   },
   "source": [
    "$h(t) = \\dfrac{1}{\\lambda}$"
   ]
  },
  {
   "cell_type": "markdown",
   "id": "50e0a21f",
   "metadata": {
    "hidden": true
   },
   "source": [
    "The exponential model assumes that the hazard rate is constant. In other words, the risk of the event of interest occurring remains the same throughout the period of observation."
   ]
  },
  {
   "cell_type": "code",
   "execution_count": 14,
   "id": "e04de9a3",
   "metadata": {
    "ExecuteTime": {
     "end_time": "2022-08-28T15:28:20.243490Z",
     "start_time": "2022-08-28T15:28:20.145712Z"
    },
    "hidden": true
   },
   "outputs": [
    {
     "data": {
      "text/plain": [
       "<lifelines.ExponentialFitter:\"Exponential_estimate\", fitted with 432 total observations, 318 right-censored observations>"
      ]
     },
     "execution_count": 14,
     "metadata": {},
     "output_type": "execute_result"
    }
   ],
   "source": [
    "from lifelines import ExponentialFitter\n",
    "\n",
    "# fit data into Exponential estimator\n",
    "ef = ExponentialFitter()\n",
    "ef.fit(durations=df['week'], \n",
    "        event_observed=df['arrest'])"
   ]
  },
  {
   "cell_type": "code",
   "execution_count": 15,
   "id": "0bb444b6",
   "metadata": {
    "ExecuteTime": {
     "end_time": "2022-08-28T15:28:21.312373Z",
     "start_time": "2022-08-28T15:28:21.170956Z"
    },
    "hidden": true
   },
   "outputs": [
    {
     "data": {
      "image/png": "[encoded data removed]",
      "text/plain": [
       "<Figure size 432x288 with 1 Axes>"
      ]
     },
     "metadata": {
      "needs_background": "light"
     },
     "output_type": "display_data"
    }
   ],
   "source": [
    "# plot survival curve\n",
    "ef.survival_function_.plot()\n",
    "plt.xlabel('Time (weeks)')\n",
    "plt.ylabel('Survival Rate')\n",
    "plt.title('Survival Curve')\n",
    "plt.show()"
   ]
  },
  {
   "cell_type": "code",
   "execution_count": null,
   "id": "d2eb399e",
   "metadata": {
    "hidden": true
   },
   "outputs": [],
   "source": []
  },
  {
   "cell_type": "code",
   "execution_count": 19,
   "id": "e3c371c2",
   "metadata": {
    "ExecuteTime": {
     "end_time": "2022-08-28T15:29:12.321860Z",
     "start_time": "2022-08-28T15:29:12.317141Z"
    },
    "hidden": true
   },
   "outputs": [
    {
     "name": "stdout",
     "output_type": "stream",
     "text": [
      "λ = 173.76318376751396\n"
     ]
    }
   ],
   "source": [
    "# compute lambda\n",
    "lambda_value = ef.lambda_\n",
    "print(f'λ = {lambda_value}')"
   ]
  },
  {
   "cell_type": "code",
   "execution_count": 20,
   "id": "f1b60ef5",
   "metadata": {
    "ExecuteTime": {
     "end_time": "2022-08-28T15:29:19.255334Z",
     "start_time": "2022-08-28T15:29:19.241061Z"
    },
    "hidden": true
   },
   "outputs": [
    {
     "data": {
      "text/html": [
       "<div>\n",
       "<style scoped>\n",
       "    .dataframe tbody tr th:only-of-type {\n",
       "        vertical-align: middle;\n",
       "    }\n",
       "\n",
       "    .dataframe tbody tr th {\n",
       "        vertical-align: top;\n",
       "    }\n",
       "\n",
       "    .dataframe thead th {\n",
       "        text-align: right;\n",
       "    }\n",
       "</style>\n",
       "<table border=\"1\" class=\"dataframe\">\n",
       "  <thead>\n",
       "    <tr style=\"text-align: right;\">\n",
       "      <th></th>\n",
       "      <th>Hazard Rate</th>\n",
       "      <th>Cummulative Hazard</th>\n",
       "    </tr>\n",
       "  </thead>\n",
       "  <tbody>\n",
       "    <tr>\n",
       "      <th>1.000000</th>\n",
       "      <td>0.005755</td>\n",
       "      <td>0.005755</td>\n",
       "    </tr>\n",
       "    <tr>\n",
       "      <th>1.118329</th>\n",
       "      <td>0.005755</td>\n",
       "      <td>0.006436</td>\n",
       "    </tr>\n",
       "    <tr>\n",
       "      <th>1.236659</th>\n",
       "      <td>0.005755</td>\n",
       "      <td>0.007117</td>\n",
       "    </tr>\n",
       "    <tr>\n",
       "      <th>1.354988</th>\n",
       "      <td>0.005755</td>\n",
       "      <td>0.007798</td>\n",
       "    </tr>\n",
       "    <tr>\n",
       "      <th>1.473318</th>\n",
       "      <td>0.005755</td>\n",
       "      <td>0.008479</td>\n",
       "    </tr>\n",
       "  </tbody>\n",
       "</table>\n",
       "</div>"
      ],
      "text/plain": [
       "          Hazard Rate  Cummulative Hazard\n",
       "1.000000     0.005755            0.005755\n",
       "1.118329     0.005755            0.006436\n",
       "1.236659     0.005755            0.007117\n",
       "1.354988     0.005755            0.007798\n",
       "1.473318     0.005755            0.008479"
      ]
     },
     "execution_count": 20,
     "metadata": {},
     "output_type": "execute_result"
    }
   ],
   "source": [
    "hazard_df = pd.concat([ef.hazard_, ef.cumulative_hazard_], axis=1)\n",
    "hazard_df.columns = ['Hazard Rate', 'Cummulative Hazard']\n",
    "hazard_df.head()"
   ]
  },
  {
   "cell_type": "markdown",
   "id": "56eaafc6",
   "metadata": {
    "hidden": true
   },
   "source": [
    "Overall, the Exponential model provides substantial information on the survival function and the hazard function. Moreover, it can be used to compare the hazard rates of different groups.\n",
    "\n",
    "However, it makes the strong assumption that the hazard rate is constant at any given time, which may not suit the time-to-event data of interest."
   ]
  },
  {
   "cell_type": "code",
   "execution_count": null,
   "id": "abf306d8",
   "metadata": {
    "hidden": true
   },
   "outputs": [],
   "source": []
  },
  {
   "cell_type": "markdown",
   "id": "94044283",
   "metadata": {
    "heading_collapsed": true
   },
   "source": [
    "### 3 - Weibull Model\n",
    "Another parametric model one can consider is the Weibull model."
   ]
  },
  {
   "cell_type": "code",
   "execution_count": null,
   "id": "b996c4a8",
   "metadata": {
    "hidden": true
   },
   "outputs": [],
   "source": [
    "The survival rate in a Weibull model is determined by the following formula:"
   ]
  },
  {
   "cell_type": "markdown",
   "id": "f757d586",
   "metadata": {
    "ExecuteTime": {
     "end_time": "2022-08-28T15:30:39.371264Z",
     "start_time": "2022-08-28T15:30:39.361619Z"
    },
    "hidden": true
   },
   "source": [
    "$S(t) = exp(-(\\dfrac{t}{\\lambda})^\\rho)$"
   ]
  },
  {
   "cell_type": "code",
   "execution_count": null,
   "id": "4bccccdd",
   "metadata": {
    "hidden": true
   },
   "outputs": [],
   "source": [
    "The hazard rate in a Weibull model is determined by the following formula:"
   ]
  },
  {
   "cell_type": "markdown",
   "id": "675449d6",
   "metadata": {
    "ExecuteTime": {
     "end_time": "2022-08-28T15:31:20.218646Z",
     "start_time": "2022-08-28T15:31:20.208072Z"
    },
    "hidden": true
   },
   "source": [
    "$h(t) = \\dfrac{\\rho}{\\lambda}(\\dfrac{t}{\\lambda})^{\\rho-1}$"
   ]
  },
  {
   "cell_type": "markdown",
   "id": "2b7968d5",
   "metadata": {
    "hidden": true
   },
   "source": [
    "The data distribution in the Weibull model is determined by the two parameters: λ and ρ.\n",
    "\n",
    "The λ parameter indicates how long it takes for 63.2% of the subjects to experience the event.\n",
    "\n",
    "The ρ parameter indicates whether the hazard rate is increasing, decreasing, or constant. If ρ is greater than 1, the hazard rate is constantly increasing. If ρ is less than 1, the hazard rate is constantly decreasing."
   ]
  },
  {
   "cell_type": "markdown",
   "id": "45127bc5",
   "metadata": {
    "hidden": true
   },
   "source": [
    "In other words, the Weibull model assumes that the change in hazard rate is linear. The hazard rate can always increase, always decrease, or stay the same. However, the hazard rate can not fluctuate."
   ]
  },
  {
   "cell_type": "code",
   "execution_count": 23,
   "id": "54066d26",
   "metadata": {
    "ExecuteTime": {
     "end_time": "2022-08-28T15:33:48.063880Z",
     "start_time": "2022-08-28T15:33:47.894188Z"
    },
    "hidden": true
   },
   "outputs": [
    {
     "data": {
      "text/plain": [
       "<lifelines.WeibullFitter:\"Weibull_estimate\", fitted with 432 total observations, 318 right-censored observations>"
      ]
     },
     "execution_count": 23,
     "metadata": {},
     "output_type": "execute_result"
    }
   ],
   "source": [
    "from lifelines import WeibullFitter\n",
    "\n",
    "# fit data into Weibull estimator\n",
    "wf = WeibullFitter()\n",
    "wf.fit(durations=df['week'], \n",
    "        event_observed=df['arrest'])\n",
    "\n"
   ]
  },
  {
   "cell_type": "code",
   "execution_count": 24,
   "id": "559ce661",
   "metadata": {
    "ExecuteTime": {
     "end_time": "2022-08-28T15:33:49.449499Z",
     "start_time": "2022-08-28T15:33:49.280982Z"
    },
    "hidden": true
   },
   "outputs": [
    {
     "data": {
      "image/png": "[encoded data removed]",
      "text/plain": [
       "<Figure size 432x288 with 1 Axes>"
      ]
     },
     "metadata": {
      "needs_background": "light"
     },
     "output_type": "display_data"
    }
   ],
   "source": [
    "wf.survival_function_.plot()\n",
    "plt.xlabel('Time (weeks)')\n",
    "plt.ylabel('Survival Rate')\n",
    "plt.title('Survival Curve')\n",
    "plt.show()"
   ]
  },
  {
   "cell_type": "code",
   "execution_count": 25,
   "id": "27cbf253",
   "metadata": {
    "ExecuteTime": {
     "end_time": "2022-08-28T15:33:58.383662Z",
     "start_time": "2022-08-28T15:33:58.378020Z"
    },
    "hidden": true
   },
   "outputs": [
    {
     "name": "stdout",
     "output_type": "stream",
     "text": [
      "λ= 123.67708708943374\n",
      "ρ= 1.3651415090782515\n"
     ]
    }
   ],
   "source": [
    "# compute lambda and rho\n",
    "lambda_value = wf.lambda_\n",
    "rho_value = wf.rho_\n",
    "print(f'λ= {lambda_value}')\n",
    "print(f'ρ= {rho_value}')"
   ]
  },
  {
   "cell_type": "markdown",
   "id": "6a9ff679",
   "metadata": {
    "hidden": true
   },
   "source": [
    "Since the ρ value is greater than 1, the hazard rate in this model is always increasing.\n",
    "\n",
    "We can confirm this by deriving the hazard rate and cumulative hazard function."
   ]
  },
  {
   "cell_type": "code",
   "execution_count": 26,
   "id": "6eb1a773",
   "metadata": {
    "ExecuteTime": {
     "end_time": "2022-08-28T15:34:16.331151Z",
     "start_time": "2022-08-28T15:34:16.319827Z"
    },
    "hidden": true
   },
   "outputs": [
    {
     "data": {
      "text/html": [
       "<div>\n",
       "<style scoped>\n",
       "    .dataframe tbody tr th:only-of-type {\n",
       "        vertical-align: middle;\n",
       "    }\n",
       "\n",
       "    .dataframe tbody tr th {\n",
       "        vertical-align: top;\n",
       "    }\n",
       "\n",
       "    .dataframe thead th {\n",
       "        text-align: right;\n",
       "    }\n",
       "</style>\n",
       "<table border=\"1\" class=\"dataframe\">\n",
       "  <thead>\n",
       "    <tr style=\"text-align: right;\">\n",
       "      <th></th>\n",
       "      <th>Hazard Rate</th>\n",
       "      <th>Cummulative Hazard</th>\n",
       "    </tr>\n",
       "  </thead>\n",
       "  <tbody>\n",
       "    <tr>\n",
       "      <th>1.000000</th>\n",
       "      <td>0.001901</td>\n",
       "      <td>0.001392</td>\n",
       "    </tr>\n",
       "    <tr>\n",
       "      <th>1.118329</th>\n",
       "      <td>0.001980</td>\n",
       "      <td>0.001622</td>\n",
       "    </tr>\n",
       "    <tr>\n",
       "      <th>1.236659</th>\n",
       "      <td>0.002054</td>\n",
       "      <td>0.001861</td>\n",
       "    </tr>\n",
       "    <tr>\n",
       "      <th>1.354988</th>\n",
       "      <td>0.002124</td>\n",
       "      <td>0.002108</td>\n",
       "    </tr>\n",
       "    <tr>\n",
       "      <th>1.473318</th>\n",
       "      <td>0.002190</td>\n",
       "      <td>0.002363</td>\n",
       "    </tr>\n",
       "  </tbody>\n",
       "</table>\n",
       "</div>"
      ],
      "text/plain": [
       "          Hazard Rate  Cummulative Hazard\n",
       "1.000000     0.001901            0.001392\n",
       "1.118329     0.001980            0.001622\n",
       "1.236659     0.002054            0.001861\n",
       "1.354988     0.002124            0.002108\n",
       "1.473318     0.002190            0.002363"
      ]
     },
     "execution_count": 26,
     "metadata": {},
     "output_type": "execute_result"
    }
   ],
   "source": [
    "# Compute hazard function and cumulative hazard function\n",
    "hazard_df = pd.concat([wf.hazard_, wf.cumulative_hazard_], axis=1)\n",
    "hazard_df.columns = ['Hazard Rate', 'Cummulative Hazard']\n",
    "hazard_df.head()"
   ]
  },
  {
   "cell_type": "markdown",
   "id": "867df63e",
   "metadata": {
    "hidden": true
   },
   "source": [
    "Similar to the Exponential model, the Weibull model is capable of computing many of the relevant metrics in the survival analysis.\n",
    "\n",
    "However, its results are based on the strong assumption that the hazard rate changes linearly across time, which may not suit the time-to-event data in question."
   ]
  },
  {
   "cell_type": "code",
   "execution_count": null,
   "id": "6dc97c62",
   "metadata": {
    "hidden": true
   },
   "outputs": [],
   "source": []
  },
  {
   "cell_type": "markdown",
   "id": "a693a090",
   "metadata": {},
   "source": [
    "### 4 - Cox Proportional-Hazards Model\n",
    "Although the Exponential model and the Weibull model can evaluate covariates, they can only examine each covariate individually."
   ]
  },
  {
   "cell_type": "markdown",
   "id": "7b1e4a9b",
   "metadata": {},
   "source": [
    "If the goal is to conduct a survival analysis that examines time-to-event data with respect to multiple variables at once, the Cox Proportional-Hazards model (also known as the Cox model) can be the preferable alternative."
   ]
  },
  {
   "cell_type": "markdown",
   "id": "aaebac36",
   "metadata": {},
   "source": [
    "It is based on the following hazard rate formula:"
   ]
  },
  {
   "cell_type": "markdown",
   "id": "19c599c1",
   "metadata": {
    "ExecuteTime": {
     "end_time": "2022-08-28T15:36:48.713606Z",
     "start_time": "2022-08-28T15:36:48.706211Z"
    }
   },
   "source": [
    "$h(t|x) = b_0(t) exp( \\sum\\limits_{i=1}^{n}(x_i-\\bar{x_i}) )$"
   ]
  },
  {
   "cell_type": "markdown",
   "id": "b3401467",
   "metadata": {},
   "source": [
    "The Cox model allows the hazard rate to fluctuate, as opposed to the parametric models where the hazard rate adheres to a fixed pattern."
   ]
  },
  {
   "cell_type": "markdown",
   "id": "f9ea6b43",
   "metadata": {},
   "source": [
    "The model is, however, dependent on **the proportional hazards assumption** <br/>\n",
    "It assumes that the hazard ratios between groups remain constant. In other words, no matter how the hazard rates of the subjects change during the period of observation, the hazard rate of one group relative to the other will always stay the same."
   ]
  },
  {
   "cell_type": "code",
   "execution_count": 30,
   "id": "3c769b3d",
   "metadata": {
    "ExecuteTime": {
     "end_time": "2022-08-28T15:40:46.588789Z",
     "start_time": "2022-08-28T15:40:46.471498Z"
    }
   },
   "outputs": [
    {
     "data": {
      "text/plain": [
       "<lifelines.CoxPHFitter: fitted with 432 total observations, 318 right-censored observations>"
      ]
     },
     "execution_count": 30,
     "metadata": {},
     "output_type": "execute_result"
    }
   ],
   "source": [
    "from lifelines import CoxPHFitter\n",
    "\n",
    "# fit the Cox Proportional-Hazards model\n",
    "cf = CoxPHFitter()\n",
    "cf.fit(df, 'week', 'arrest')\n"
   ]
  },
  {
   "cell_type": "code",
   "execution_count": 31,
   "id": "47661010",
   "metadata": {
    "ExecuteTime": {
     "end_time": "2022-08-28T15:40:47.451484Z",
     "start_time": "2022-08-28T15:40:47.311272Z"
    }
   },
   "outputs": [
    {
     "data": {
      "image/png": "[encoded data removed]",
      "text/plain": [
       "<Figure size 432x288 with 1 Axes>"
      ]
     },
     "metadata": {
      "needs_background": "light"
     },
     "output_type": "display_data"
    }
   ],
   "source": [
    "# baseline survival plot\n",
    "cf.baseline_survival_.plot()\n",
    "plt.title('Baseline Survival')\n",
    "plt.xlabel('Time (weeks)')\n",
    "plt.ylabel('Survival Function')\n",
    "plt.show()"
   ]
  },
  {
   "cell_type": "code",
   "execution_count": 32,
   "id": "9087bd2f",
   "metadata": {
    "ExecuteTime": {
     "end_time": "2022-08-28T15:40:58.535698Z",
     "start_time": "2022-08-28T15:40:58.495433Z"
    }
   },
   "outputs": [
    {
     "data": {
      "text/html": [
       "<div>\n",
       "<style scoped>\n",
       "    .dataframe tbody tr th:only-of-type {\n",
       "        vertical-align: middle;\n",
       "    }\n",
       "\n",
       "    .dataframe tbody tr th {\n",
       "        vertical-align: top;\n",
       "    }\n",
       "\n",
       "    .dataframe thead th {\n",
       "        text-align: right;\n",
       "    }\n",
       "</style>\n",
       "<table border=\"1\" class=\"dataframe\">\n",
       "  <thead>\n",
       "    <tr style=\"text-align: right;\">\n",
       "      <th></th>\n",
       "      <th>coef</th>\n",
       "      <th>exp(coef)</th>\n",
       "      <th>se(coef)</th>\n",
       "      <th>coef lower 95%</th>\n",
       "      <th>coef upper 95%</th>\n",
       "      <th>exp(coef) lower 95%</th>\n",
       "      <th>exp(coef) upper 95%</th>\n",
       "      <th>cmp to</th>\n",
       "      <th>z</th>\n",
       "      <th>p</th>\n",
       "      <th>-log2(p)</th>\n",
       "    </tr>\n",
       "    <tr>\n",
       "      <th>covariate</th>\n",
       "      <th></th>\n",
       "      <th></th>\n",
       "      <th></th>\n",
       "      <th></th>\n",
       "      <th></th>\n",
       "      <th></th>\n",
       "      <th></th>\n",
       "      <th></th>\n",
       "      <th></th>\n",
       "      <th></th>\n",
       "      <th></th>\n",
       "    </tr>\n",
       "  </thead>\n",
       "  <tbody>\n",
       "    <tr>\n",
       "      <th>fin</th>\n",
       "      <td>-0.379422</td>\n",
       "      <td>0.684257</td>\n",
       "      <td>0.191379</td>\n",
       "      <td>-0.754519</td>\n",
       "      <td>-0.004325</td>\n",
       "      <td>0.470237</td>\n",
       "      <td>0.995684</td>\n",
       "      <td>0.0</td>\n",
       "      <td>-1.982565</td>\n",
       "      <td>0.047416</td>\n",
       "      <td>4.398479</td>\n",
       "    </tr>\n",
       "    <tr>\n",
       "      <th>age</th>\n",
       "      <td>-0.057438</td>\n",
       "      <td>0.944181</td>\n",
       "      <td>0.021999</td>\n",
       "      <td>-0.100556</td>\n",
       "      <td>-0.014320</td>\n",
       "      <td>0.904335</td>\n",
       "      <td>0.985782</td>\n",
       "      <td>0.0</td>\n",
       "      <td>-2.610869</td>\n",
       "      <td>0.009031</td>\n",
       "      <td>6.790860</td>\n",
       "    </tr>\n",
       "    <tr>\n",
       "      <th>race</th>\n",
       "      <td>0.313900</td>\n",
       "      <td>1.368753</td>\n",
       "      <td>0.307993</td>\n",
       "      <td>-0.289755</td>\n",
       "      <td>0.917555</td>\n",
       "      <td>0.748447</td>\n",
       "      <td>2.503162</td>\n",
       "      <td>0.0</td>\n",
       "      <td>1.019179</td>\n",
       "      <td>0.308118</td>\n",
       "      <td>1.698445</td>\n",
       "    </tr>\n",
       "    <tr>\n",
       "      <th>wexp</th>\n",
       "      <td>-0.149796</td>\n",
       "      <td>0.860884</td>\n",
       "      <td>0.212224</td>\n",
       "      <td>-0.565748</td>\n",
       "      <td>0.266156</td>\n",
       "      <td>0.567935</td>\n",
       "      <td>1.304939</td>\n",
       "      <td>0.0</td>\n",
       "      <td>-0.705837</td>\n",
       "      <td>0.480290</td>\n",
       "      <td>1.058023</td>\n",
       "    </tr>\n",
       "    <tr>\n",
       "      <th>mar</th>\n",
       "      <td>-0.433704</td>\n",
       "      <td>0.648104</td>\n",
       "      <td>0.381868</td>\n",
       "      <td>-1.182152</td>\n",
       "      <td>0.314744</td>\n",
       "      <td>0.306618</td>\n",
       "      <td>1.369908</td>\n",
       "      <td>0.0</td>\n",
       "      <td>-1.135743</td>\n",
       "      <td>0.256064</td>\n",
       "      <td>1.965422</td>\n",
       "    </tr>\n",
       "    <tr>\n",
       "      <th>paro</th>\n",
       "      <td>-0.084871</td>\n",
       "      <td>0.918631</td>\n",
       "      <td>0.195757</td>\n",
       "      <td>-0.468547</td>\n",
       "      <td>0.298805</td>\n",
       "      <td>0.625911</td>\n",
       "      <td>1.348247</td>\n",
       "      <td>0.0</td>\n",
       "      <td>-0.433554</td>\n",
       "      <td>0.664612</td>\n",
       "      <td>0.589415</td>\n",
       "    </tr>\n",
       "    <tr>\n",
       "      <th>prio</th>\n",
       "      <td>0.091497</td>\n",
       "      <td>1.095814</td>\n",
       "      <td>0.028649</td>\n",
       "      <td>0.035347</td>\n",
       "      <td>0.147647</td>\n",
       "      <td>1.035979</td>\n",
       "      <td>1.159104</td>\n",
       "      <td>0.0</td>\n",
       "      <td>3.193777</td>\n",
       "      <td>0.001404</td>\n",
       "      <td>9.475989</td>\n",
       "    </tr>\n",
       "  </tbody>\n",
       "</table>\n",
       "</div>"
      ],
      "text/plain": [
       "               coef  exp(coef)  se(coef)  coef lower 95%  coef upper 95%  \\\n",
       "covariate                                                                  \n",
       "fin       -0.379422   0.684257  0.191379       -0.754519       -0.004325   \n",
       "age       -0.057438   0.944181  0.021999       -0.100556       -0.014320   \n",
       "race       0.313900   1.368753  0.307993       -0.289755        0.917555   \n",
       "wexp      -0.149796   0.860884  0.212224       -0.565748        0.266156   \n",
       "mar       -0.433704   0.648104  0.381868       -1.182152        0.314744   \n",
       "paro      -0.084871   0.918631  0.195757       -0.468547        0.298805   \n",
       "prio       0.091497   1.095814  0.028649        0.035347        0.147647   \n",
       "\n",
       "           exp(coef) lower 95%  exp(coef) upper 95%  cmp to         z  \\\n",
       "covariate                                                               \n",
       "fin                   0.470237             0.995684     0.0 -1.982565   \n",
       "age                   0.904335             0.985782     0.0 -2.610869   \n",
       "race                  0.748447             2.503162     0.0  1.019179   \n",
       "wexp                  0.567935             1.304939     0.0 -0.705837   \n",
       "mar                   0.306618             1.369908     0.0 -1.135743   \n",
       "paro                  0.625911             1.348247     0.0 -0.433554   \n",
       "prio                  1.035979             1.159104     0.0  3.193777   \n",
       "\n",
       "                  p  -log2(p)  \n",
       "covariate                      \n",
       "fin        0.047416  4.398479  \n",
       "age        0.009031  6.790860  \n",
       "race       0.308118  1.698445  \n",
       "wexp       0.480290  1.058023  \n",
       "mar        0.256064  1.965422  \n",
       "paro       0.664612  0.589415  \n",
       "prio       0.001404  9.475989  "
      ]
     },
     "execution_count": 32,
     "metadata": {},
     "output_type": "execute_result"
    }
   ],
   "source": [
    "# show the summary\n",
    "cf.summary"
   ]
  },
  {
   "cell_type": "markdown",
   "id": "5912c1ad",
   "metadata": {},
   "source": [
    "This means that being getting financial aid changes the hazard rate by a factor of 0.68 (i.e., a 32% decrease)."
   ]
  },
  {
   "cell_type": "markdown",
   "id": "46246597",
   "metadata": {},
   "source": [
    "Of course, the Cox model is only suitable if its assumption of proportional hazards befits the time-to-event data. To justify the use of the model, one can test this assumption using the check_assumptions method."
   ]
  },
  {
   "cell_type": "code",
   "execution_count": 33,
   "id": "56167f8f",
   "metadata": {
    "ExecuteTime": {
     "end_time": "2022-08-28T15:42:04.472533Z",
     "start_time": "2022-08-28T15:42:04.252743Z"
    }
   },
   "outputs": [
    {
     "name": "stdout",
     "output_type": "stream",
     "text": [
      "The ``p_value_threshold`` is set at 0.01. Even under the null hypothesis of no violations, some\n",
      "covariates will be below the threshold by chance. This is compounded when there are many covariates.\n",
      "Similarly, when there are lots of observations, even minor deviances from the proportional hazard\n",
      "assumption will be flagged.\n",
      "\n",
      "With that in mind, it's best to use a combination of statistical tests and visual tests to determine\n",
      "the most serious violations. Produce visual plots using ``check_assumptions(..., show_plots=True)``\n",
      "and looking for non-constant lines. See link [A] below for a full example.\n",
      "\n"
     ]
    },
    {
     "name": "stderr",
     "output_type": "stream",
     "text": [
      "/Users/antonermak/opt/anaconda3/lib/python3.9/site-packages/lifelines/statistics.py:143: FutureWarning: In future versions `DataFrame.to_latex` is expected to utilise the base implementation of `Styler.to_latex` for formatting and rendering. The arguments signature may therefore change. It is recommended instead to use `DataFrame.style.to_latex` which also contains additional functionality.\n",
      "  return self.summary.to_latex()\n"
     ]
    },
    {
     "data": {
      "text/html": [
       "<div>\n",
       "<style scoped>\n",
       "    .dataframe tbody tr th:only-of-type {\n",
       "        vertical-align: middle;\n",
       "    }\n",
       "\n",
       "    .dataframe tbody tr th {\n",
       "        vertical-align: top;\n",
       "    }\n",
       "\n",
       "    .dataframe thead th {\n",
       "        text-align: right;\n",
       "    }\n",
       "</style>\n",
       "<table border=\"1\" class=\"dataframe\">\n",
       "  <tbody>\n",
       "    <tr>\n",
       "      <th>null_distribution</th>\n",
       "      <td>chi squared</td>\n",
       "    </tr>\n",
       "    <tr>\n",
       "      <th>degrees_of_freedom</th>\n",
       "      <td>1</td>\n",
       "    </tr>\n",
       "    <tr>\n",
       "      <th>model</th>\n",
       "      <td>&lt;lifelines.CoxPHFitter: fitted with 432 total ...</td>\n",
       "    </tr>\n",
       "    <tr>\n",
       "      <th>test_name</th>\n",
       "      <td>proportional_hazard_test</td>\n",
       "    </tr>\n",
       "  </tbody>\n",
       "</table>\n",
       "</div><table border=\"1\" class=\"dataframe\">\n",
       "  <thead>\n",
       "    <tr style=\"text-align: right;\">\n",
       "      <th></th>\n",
       "      <th></th>\n",
       "      <th>test_statistic</th>\n",
       "      <th>p</th>\n",
       "      <th>-log2(p)</th>\n",
       "    </tr>\n",
       "  </thead>\n",
       "  <tbody>\n",
       "    <tr>\n",
       "      <th rowspan=\"2\" valign=\"top\">age</th>\n",
       "      <th>km</th>\n",
       "      <td>11.03</td>\n",
       "      <td>&lt;0.005</td>\n",
       "      <td>10.12</td>\n",
       "    </tr>\n",
       "    <tr>\n",
       "      <th>rank</th>\n",
       "      <td>11.45</td>\n",
       "      <td>&lt;0.005</td>\n",
       "      <td>10.45</td>\n",
       "    </tr>\n",
       "    <tr>\n",
       "      <th rowspan=\"2\" valign=\"top\">fin</th>\n",
       "      <th>km</th>\n",
       "      <td>0.02</td>\n",
       "      <td>0.89</td>\n",
       "      <td>0.17</td>\n",
       "    </tr>\n",
       "    <tr>\n",
       "      <th>rank</th>\n",
       "      <td>0.02</td>\n",
       "      <td>0.90</td>\n",
       "      <td>0.15</td>\n",
       "    </tr>\n",
       "    <tr>\n",
       "      <th rowspan=\"2\" valign=\"top\">mar</th>\n",
       "      <th>km</th>\n",
       "      <td>0.60</td>\n",
       "      <td>0.44</td>\n",
       "      <td>1.19</td>\n",
       "    </tr>\n",
       "    <tr>\n",
       "      <th>rank</th>\n",
       "      <td>0.71</td>\n",
       "      <td>0.40</td>\n",
       "      <td>1.32</td>\n",
       "    </tr>\n",
       "    <tr>\n",
       "      <th rowspan=\"2\" valign=\"top\">paro</th>\n",
       "      <th>km</th>\n",
       "      <td>0.12</td>\n",
       "      <td>0.73</td>\n",
       "      <td>0.45</td>\n",
       "    </tr>\n",
       "    <tr>\n",
       "      <th>rank</th>\n",
       "      <td>0.13</td>\n",
       "      <td>0.71</td>\n",
       "      <td>0.49</td>\n",
       "    </tr>\n",
       "    <tr>\n",
       "      <th rowspan=\"2\" valign=\"top\">prio</th>\n",
       "      <th>km</th>\n",
       "      <td>0.02</td>\n",
       "      <td>0.88</td>\n",
       "      <td>0.18</td>\n",
       "    </tr>\n",
       "    <tr>\n",
       "      <th>rank</th>\n",
       "      <td>0.02</td>\n",
       "      <td>0.89</td>\n",
       "      <td>0.17</td>\n",
       "    </tr>\n",
       "    <tr>\n",
       "      <th rowspan=\"2\" valign=\"top\">race</th>\n",
       "      <th>km</th>\n",
       "      <td>1.44</td>\n",
       "      <td>0.23</td>\n",
       "      <td>2.12</td>\n",
       "    </tr>\n",
       "    <tr>\n",
       "      <th>rank</th>\n",
       "      <td>1.43</td>\n",
       "      <td>0.23</td>\n",
       "      <td>2.11</td>\n",
       "    </tr>\n",
       "    <tr>\n",
       "      <th rowspan=\"2\" valign=\"top\">wexp</th>\n",
       "      <th>km</th>\n",
       "      <td>7.48</td>\n",
       "      <td>0.01</td>\n",
       "      <td>7.32</td>\n",
       "    </tr>\n",
       "    <tr>\n",
       "      <th>rank</th>\n",
       "      <td>7.31</td>\n",
       "      <td>0.01</td>\n",
       "      <td>7.19</td>\n",
       "    </tr>\n",
       "  </tbody>\n",
       "</table>"
      ],
      "text/latex": [
       "\\begin{tabular}{llrrr}\n",
       "\\toprule\n",
       "     &      &  test\\_statistic &         p &   -log2(p) \\\\\n",
       "\\midrule\n",
       "age & km &       11.030294 &  0.000896 &  10.123651 \\\\\n",
       "     & rank &       11.453497 &  0.000714 &  10.452605 \\\\\n",
       "fin & km &        0.019130 &  0.889994 &   0.168132 \\\\\n",
       "     & rank &        0.015056 &  0.902343 &   0.148252 \\\\\n",
       "mar & km &        0.600874 &  0.438245 &   1.190192 \\\\\n",
       "     & rank &        0.709474 &  0.399619 &   1.323304 \\\\\n",
       "paro & km &        0.115721 &  0.733723 &   0.446693 \\\\\n",
       "     & rank &        0.134266 &  0.714049 &   0.485905 \\\\\n",
       "prio & km &        0.022546 &  0.880645 &   0.183368 \\\\\n",
       "     & rank &        0.018834 &  0.890843 &   0.166757 \\\\\n",
       "race & km &        1.437456 &  0.230551 &   2.116839 \\\\\n",
       "     & rank &        1.426479 &  0.232340 &   2.105691 \\\\\n",
       "wexp & km &        7.475471 &  0.006255 &   7.320885 \\\\\n",
       "     & rank &        7.314934 &  0.006838 &   7.192127 \\\\\n",
       "\\bottomrule\n",
       "\\end{tabular}\n"
      ],
      "text/plain": [
       "<lifelines.StatisticalResult: proportional_hazard_test>\n",
       " null_distribution = chi squared\n",
       "degrees_of_freedom = 1\n",
       "             model = <lifelines.CoxPHFitter: fitted with 432 total observations, 318 right-censored observations>\n",
       "         test_name = proportional_hazard_test\n",
       "\n",
       "---\n",
       "           test_statistic      p  -log2(p)\n",
       "age  km             11.03 <0.005     10.12\n",
       "     rank           11.45 <0.005     10.45\n",
       "fin  km              0.02   0.89      0.17\n",
       "     rank            0.02   0.90      0.15\n",
       "mar  km              0.60   0.44      1.19\n",
       "     rank            0.71   0.40      1.32\n",
       "paro km              0.12   0.73      0.45\n",
       "     rank            0.13   0.71      0.49\n",
       "prio km              0.02   0.88      0.18\n",
       "     rank            0.02   0.89      0.17\n",
       "race km              1.44   0.23      2.12\n",
       "     rank            1.43   0.23      2.11\n",
       "wexp km              7.48   0.01      7.32\n",
       "     rank            7.31   0.01      7.19"
      ]
     },
     "metadata": {},
     "output_type": "display_data"
    },
    {
     "name": "stdout",
     "output_type": "stream",
     "text": [
      "\n",
      "\n",
      "1. Variable 'age' failed the non-proportional test: p-value is 0.0007.\n",
      "\n",
      "   Advice 1: the functional form of the variable 'age' might be incorrect. That is, there may be\n",
      "non-linear terms missing. The proportional hazard test used is very sensitive to incorrect\n",
      "functional forms. See documentation in link [D] below on how to specify a functional form.\n",
      "\n",
      "   Advice 2: try binning the variable 'age' using pd.cut, and then specify it in `strata=['age',\n",
      "...]` in the call in `.fit`. See documentation in link [B] below.\n",
      "\n",
      "   Advice 3: try adding an interaction term with your time variable. See documentation in link [C]\n",
      "below.\n",
      "\n",
      "\n",
      "2. Variable 'wexp' failed the non-proportional test: p-value is 0.0063.\n",
      "\n",
      "   Advice: with so few unique values (only 2), you can include `strata=['wexp', ...]` in the call in\n",
      "`.fit`. See documentation in link [E] below.\n",
      "\n",
      "---\n",
      "[A]  https://lifelines.readthedocs.io/en/latest/jupyter_notebooks/Proportional%20hazard%20assumption.html\n",
      "[B]  https://lifelines.readthedocs.io/en/latest/jupyter_notebooks/Proportional%20hazard%20assumption.html#Bin-variable-and-stratify-on-it\n",
      "[C]  https://lifelines.readthedocs.io/en/latest/jupyter_notebooks/Proportional%20hazard%20assumption.html#Introduce-time-varying-covariates\n",
      "[D]  https://lifelines.readthedocs.io/en/latest/jupyter_notebooks/Proportional%20hazard%20assumption.html#Modify-the-functional-form\n",
      "[E]  https://lifelines.readthedocs.io/en/latest/jupyter_notebooks/Proportional%20hazard%20assumption.html#Stratification\n",
      "\n"
     ]
    },
    {
     "data": {
      "text/plain": [
       "[]"
      ]
     },
     "execution_count": 33,
     "metadata": {},
     "output_type": "execute_result"
    }
   ],
   "source": [
    "# check assumptions\n",
    "cf.check_assumptions(training_df=df)"
   ]
  },
  {
   "cell_type": "code",
   "execution_count": null,
   "id": "0e98102b",
   "metadata": {},
   "outputs": [],
   "source": []
  },
  {
   "cell_type": "code",
   "execution_count": null,
   "id": "40e56331",
   "metadata": {},
   "outputs": [],
   "source": []
  },
  {
   "cell_type": "code",
   "execution_count": null,
   "id": "1b190c82",
   "metadata": {},
   "outputs": [],
   "source": []
  }
 ],
 "metadata": {
  "kernelspec": {
   "display_name": "Python 3 (ipykernel)",
   "language": "python",
   "name": "python3"
  },
  "language_info": {
   "codemirror_mode": {
    "name": "ipython",
    "version": 3
   },
   "file_extension": ".py",
   "mimetype": "text/x-python",
   "name": "python",
   "nbconvert_exporter": "python",
   "pygments_lexer": "ipython3",
   "version": "3.9.7"
  }
 },
 "nbformat": 4,
 "nbformat_minor": 5
}
