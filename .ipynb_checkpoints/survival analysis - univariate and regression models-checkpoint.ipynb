{
 "cells": [
  {
   "cell_type": "markdown",
   "id": "797dec05",
   "metadata": {},
   "source": [
    "## Survival Analysis: univariate and regression models"
   ]
  },
  {
   "cell_type": "markdown",
   "id": "aaa39b44",
   "metadata": {},
   "source": [
    "Materials:\n",
    "- A Guide to Model Selection For Survival Analysis [Link](https://towardsdatascience.com/a-guide-to-model-selection-for-survival-analysis-2500b211c733)\n",
    "- Survival Analysis — Part A [Link](https://towardsdatascience.com/survival-analysis-part-a-70213df21c2e)\n",
    "- The Cox Proportional Hazards Model [Link](https://towardsdatascience.com/the-cox-proportional-hazards-model-35e60e554d8f)\n",
    "- The Stratified Cox Proportional Hazards Regression Model [Link](https://towardsdatascience.com/the-stratified-cox-proportional-hazards-regression-model-fa1fa5de2bb1)"
   ]
  },
  {
   "cell_type": "markdown",
   "id": "c23f6173",
   "metadata": {},
   "source": [
    "Dataset load"
   ]
  },
  {
   "cell_type": "code",
   "execution_count": 80,
   "id": "6ffba247",
   "metadata": {
    "ExecuteTime": {
     "end_time": "2022-09-06T15:47:57.138841Z",
     "start_time": "2022-09-06T15:47:57.076658Z"
    }
   },
   "outputs": [
    {
     "data": {
      "text/html": [
       "<div>\n",
       "<style scoped>\n",
       "    .dataframe tbody tr th:only-of-type {\n",
       "        vertical-align: middle;\n",
       "    }\n",
       "\n",
       "    .dataframe tbody tr th {\n",
       "        vertical-align: top;\n",
       "    }\n",
       "\n",
       "    .dataframe thead th {\n",
       "        text-align: right;\n",
       "    }\n",
       "</style>\n",
       "<table border=\"1\" class=\"dataframe\">\n",
       "  <thead>\n",
       "    <tr style=\"text-align: right;\">\n",
       "      <th></th>\n",
       "      <th>week</th>\n",
       "      <th>arrest</th>\n",
       "      <th>fin</th>\n",
       "      <th>age</th>\n",
       "      <th>race</th>\n",
       "      <th>wexp</th>\n",
       "      <th>mar</th>\n",
       "      <th>paro</th>\n",
       "      <th>prio</th>\n",
       "    </tr>\n",
       "  </thead>\n",
       "  <tbody>\n",
       "    <tr>\n",
       "      <th>0</th>\n",
       "      <td>20</td>\n",
       "      <td>1</td>\n",
       "      <td>0</td>\n",
       "      <td>27</td>\n",
       "      <td>1</td>\n",
       "      <td>0</td>\n",
       "      <td>0</td>\n",
       "      <td>1</td>\n",
       "      <td>3</td>\n",
       "    </tr>\n",
       "    <tr>\n",
       "      <th>1</th>\n",
       "      <td>17</td>\n",
       "      <td>1</td>\n",
       "      <td>0</td>\n",
       "      <td>18</td>\n",
       "      <td>1</td>\n",
       "      <td>0</td>\n",
       "      <td>0</td>\n",
       "      <td>1</td>\n",
       "      <td>8</td>\n",
       "    </tr>\n",
       "    <tr>\n",
       "      <th>2</th>\n",
       "      <td>25</td>\n",
       "      <td>1</td>\n",
       "      <td>0</td>\n",
       "      <td>19</td>\n",
       "      <td>0</td>\n",
       "      <td>1</td>\n",
       "      <td>0</td>\n",
       "      <td>1</td>\n",
       "      <td>13</td>\n",
       "    </tr>\n",
       "    <tr>\n",
       "      <th>3</th>\n",
       "      <td>52</td>\n",
       "      <td>0</td>\n",
       "      <td>1</td>\n",
       "      <td>23</td>\n",
       "      <td>1</td>\n",
       "      <td>1</td>\n",
       "      <td>1</td>\n",
       "      <td>1</td>\n",
       "      <td>1</td>\n",
       "    </tr>\n",
       "    <tr>\n",
       "      <th>4</th>\n",
       "      <td>52</td>\n",
       "      <td>0</td>\n",
       "      <td>0</td>\n",
       "      <td>19</td>\n",
       "      <td>0</td>\n",
       "      <td>1</td>\n",
       "      <td>0</td>\n",
       "      <td>1</td>\n",
       "      <td>3</td>\n",
       "    </tr>\n",
       "  </tbody>\n",
       "</table>\n",
       "</div>"
      ],
      "text/plain": [
       "   week  arrest  fin  age  race  wexp  mar  paro  prio\n",
       "0    20       1    0   27     1     0    0     1     3\n",
       "1    17       1    0   18     1     0    0     1     8\n",
       "2    25       1    0   19     0     1    0     1    13\n",
       "3    52       0    1   23     1     1    1     1     1\n",
       "4    52       0    0   19     0     1    0     1     3"
      ]
     },
     "execution_count": 80,
     "metadata": {},
     "output_type": "execute_result"
    }
   ],
   "source": [
    "import pandas as pd\n",
    "from lifelines.datasets import load_rossi\n",
    "\n",
    "# load data set\n",
    "df = load_rossi()\n",
    "df.head()"
   ]
  },
  {
   "cell_type": "markdown",
   "id": "4bf60183",
   "metadata": {
    "heading_collapsed": true
   },
   "source": [
    "## Univariate models"
   ]
  },
  {
   "cell_type": "markdown",
   "id": "5ff49b65",
   "metadata": {
    "heading_collapsed": true,
    "hidden": true
   },
   "source": [
    "### 1 - Kaplan Meier Model\n",
    "The Kaplan-Meier model is arguably the most well-known model in survival analysis.\n",
    "\n",
    "It is classified as a non-parametric model, meaning that it does not assume the distribution of the data. It generates a survival function with only the information provided."
   ]
  },
  {
   "cell_type": "markdown",
   "id": "372bb6fe",
   "metadata": {
    "ExecuteTime": {
     "end_time": "2022-08-28T15:26:02.707084Z",
     "start_time": "2022-08-28T15:26:02.695026Z"
    },
    "hidden": true
   },
   "source": [
    "The Kaplan Meier model computes the survival function with the formula:"
   ]
  },
  {
   "cell_type": "markdown",
   "id": "89dbf97b",
   "metadata": {
    "ExecuteTime": {
     "end_time": "2022-08-28T15:21:32.356169Z",
     "start_time": "2022-08-28T15:21:32.332893Z"
    },
    "hidden": true
   },
   "source": [
    "$S(t) = \\prod\\limits_{i:t_t \\leq t}(1-\\dfrac{d_i}{n_i})$"
   ]
  },
  {
   "cell_type": "code",
   "execution_count": 69,
   "id": "89ec06cc",
   "metadata": {
    "ExecuteTime": {
     "end_time": "2022-09-06T12:52:24.761860Z",
     "start_time": "2022-09-06T12:52:24.737958Z"
    },
    "hidden": true
   },
   "outputs": [
    {
     "data": {
      "text/plain": [
       "<lifelines.KaplanMeierFitter:\"KM_estimate\", fitted with 432 total observations, 318 right-censored observations>"
      ]
     },
     "execution_count": 69,
     "metadata": {},
     "output_type": "execute_result"
    }
   ],
   "source": [
    "from lifelines import KaplanMeierFitter\n",
    "import matplotlib.pyplot as plt\n",
    "\n",
    "# fit data into Kaplan Meier estimator\n",
    "kmf = KaplanMeierFitter()\n",
    "kmf.fit(durations=df['week'], \n",
    "        event_observed=df['arrest'])"
   ]
  },
  {
   "cell_type": "code",
   "execution_count": 70,
   "id": "8df525aa",
   "metadata": {
    "ExecuteTime": {
     "end_time": "2022-09-06T12:52:25.035059Z",
     "start_time": "2022-09-06T12:52:24.899854Z"
    },
    "hidden": true
   },
   "outputs": [
    {
     "data": {
      "image/png": "[encoded data removed]",
      "text/plain": [
       "<Figure size 432x288 with 1 Axes>"
      ]
     },
     "metadata": {
      "needs_background": "light"
     },
     "output_type": "display_data"
    }
   ],
   "source": [
    "# plot survival curve\n",
    "kmf.plot(ci_show=False)\n",
    "plt.ylabel('Survival Rate')\n",
    "plt.title('Survival Curve')\n",
    "plt.show()"
   ]
  },
  {
   "cell_type": "code",
   "execution_count": null,
   "id": "feda8107",
   "metadata": {
    "hidden": true
   },
   "outputs": [],
   "source": []
  },
  {
   "cell_type": "markdown",
   "id": "ed60a5f9",
   "metadata": {
    "hidden": true
   },
   "source": [
    "The survival functions of different groups can be compared with the log-rank test, a non-parametric hypothesis test."
   ]
  },
  {
   "cell_type": "markdown",
   "id": "33027aac",
   "metadata": {
    "hidden": true
   },
   "source": [
    "As an example, we can compare the survival functions of subjects with and without financial aid to see if financial aid affects the survival duration using the logrank_test method"
   ]
  },
  {
   "cell_type": "code",
   "execution_count": 71,
   "id": "04251823",
   "metadata": {
    "ExecuteTime": {
     "end_time": "2022-09-06T12:52:25.862107Z",
     "start_time": "2022-09-06T12:52:25.855887Z"
    },
    "hidden": true
   },
   "outputs": [],
   "source": [
    "from lifelines.statistics import logrank_test\n",
    "\n",
    "# separating subjects with and without financial aid\n",
    "df_fin = df[df['fin']==1]\n",
    "df_no_fin = df[df['fin']==0]\n"
   ]
  },
  {
   "cell_type": "code",
   "execution_count": 72,
   "id": "b09096ab",
   "metadata": {
    "ExecuteTime": {
     "end_time": "2022-09-06T12:52:26.091008Z",
     "start_time": "2022-09-06T12:52:26.055843Z"
    },
    "hidden": true
   },
   "outputs": [
    {
     "name": "stdout",
     "output_type": "stream",
     "text": [
      "P-value: 0.050116117409005845\n"
     ]
    }
   ],
   "source": [
    "# perform log rank test to compare subjects with and without aid\n",
    "results = logrank_test(durations_A=df_fin['week'],\n",
    "                      event_observed_A=df_fin['arrest'],\n",
    "                      durations_B=df_no_fin['week'],\n",
    "                      event_observed_B=df_no_fin['arrest'])\n",
    "results = results.summary\n",
    "print(f'P-value: {results.p[0]}')"
   ]
  },
  {
   "cell_type": "markdown",
   "id": "349b8506",
   "metadata": {
    "hidden": true
   },
   "source": [
    "p-value < 0.05 (below the 5% level)is statistical significant which denotes that we have to regret null hypothesis and to extract the information that survival functions are significantly different."
   ]
  },
  {
   "cell_type": "markdown",
   "id": "e814da6d",
   "metadata": {
    "hidden": true
   },
   "source": [
    "The benefit of the Kaplan Meier model is that it is intuitive and easy to interpret. As it makes few underlying assumptions, **this model is often used as a baseline in survival analysis.**"
   ]
  },
  {
   "cell_type": "code",
   "execution_count": null,
   "id": "33c5a9ef",
   "metadata": {
    "hidden": true
   },
   "outputs": [],
   "source": []
  },
  {
   "cell_type": "code",
   "execution_count": 73,
   "id": "831be7b7",
   "metadata": {
    "ExecuteTime": {
     "end_time": "2022-09-06T12:52:27.138625Z",
     "start_time": "2022-09-06T12:52:27.127898Z"
    },
    "hidden": true
   },
   "outputs": [
    {
     "name": "stdout",
     "output_type": "stream",
     "text": [
      "      T  E    group\n",
      "0   6.0  1  miR-137\n",
      "1  13.0  1  miR-137\n",
      "2  13.0  1  miR-137\n",
      "3  13.0  1  miR-137\n",
      "4  19.0  1  miR-137\n"
     ]
    }
   ],
   "source": [
    "from lifelines.datasets import load_waltons\n",
    "df = load_waltons() # returns a Pandas DataFrame\n",
    "\n",
    "print(df.head())\n",
    "T = df['T']\n",
    "E = df['E']"
   ]
  },
  {
   "cell_type": "code",
   "execution_count": 74,
   "id": "04a600c1",
   "metadata": {
    "ExecuteTime": {
     "end_time": "2022-09-06T12:52:27.430084Z",
     "start_time": "2022-09-06T12:52:27.406194Z"
    },
    "hidden": true,
    "scrolled": true
   },
   "outputs": [
    {
     "data": {
      "text/plain": [
       "<lifelines.KaplanMeierFitter:\"KM_estimate\", fitted with 163 total observations, 7 right-censored observations>"
      ]
     },
     "execution_count": 74,
     "metadata": {},
     "output_type": "execute_result"
    }
   ],
   "source": [
    "from lifelines import KaplanMeierFitter\n",
    "kmf = KaplanMeierFitter()\n",
    "kmf.fit(T, event_observed=E)  # or, more succinctly, kmf.fit(T, E)"
   ]
  },
  {
   "cell_type": "code",
   "execution_count": 75,
   "id": "0bd08306",
   "metadata": {
    "ExecuteTime": {
     "end_time": "2022-09-06T12:52:27.801144Z",
     "start_time": "2022-09-06T12:52:27.789285Z"
    },
    "hidden": true
   },
   "outputs": [
    {
     "data": {
      "text/html": [
       "<div>\n",
       "<style scoped>\n",
       "    .dataframe tbody tr th:only-of-type {\n",
       "        vertical-align: middle;\n",
       "    }\n",
       "\n",
       "    .dataframe tbody tr th {\n",
       "        vertical-align: top;\n",
       "    }\n",
       "\n",
       "    .dataframe thead th {\n",
       "        text-align: right;\n",
       "    }\n",
       "</style>\n",
       "<table border=\"1\" class=\"dataframe\">\n",
       "  <thead>\n",
       "    <tr style=\"text-align: right;\">\n",
       "      <th></th>\n",
       "      <th>KM_estimate</th>\n",
       "    </tr>\n",
       "    <tr>\n",
       "      <th>timeline</th>\n",
       "      <th></th>\n",
       "    </tr>\n",
       "  </thead>\n",
       "  <tbody>\n",
       "    <tr>\n",
       "      <th>0.0</th>\n",
       "      <td>1.000000</td>\n",
       "    </tr>\n",
       "    <tr>\n",
       "      <th>6.0</th>\n",
       "      <td>0.993865</td>\n",
       "    </tr>\n",
       "    <tr>\n",
       "      <th>7.0</th>\n",
       "      <td>0.987730</td>\n",
       "    </tr>\n",
       "    <tr>\n",
       "      <th>9.0</th>\n",
       "      <td>0.969210</td>\n",
       "    </tr>\n",
       "    <tr>\n",
       "      <th>13.0</th>\n",
       "      <td>0.950690</td>\n",
       "    </tr>\n",
       "  </tbody>\n",
       "</table>\n",
       "</div>"
      ],
      "text/plain": [
       "          KM_estimate\n",
       "timeline             \n",
       "0.0          1.000000\n",
       "6.0          0.993865\n",
       "7.0          0.987730\n",
       "9.0          0.969210\n",
       "13.0         0.950690"
      ]
     },
     "execution_count": 75,
     "metadata": {},
     "output_type": "execute_result"
    }
   ],
   "source": [
    "kmf.survival_function_.head()"
   ]
  },
  {
   "cell_type": "code",
   "execution_count": 76,
   "id": "c9dc35fb",
   "metadata": {
    "ExecuteTime": {
     "end_time": "2022-09-06T12:52:28.152998Z",
     "start_time": "2022-09-06T12:52:28.139639Z"
    },
    "hidden": true
   },
   "outputs": [
    {
     "data": {
      "text/html": [
       "<div>\n",
       "<style scoped>\n",
       "    .dataframe tbody tr th:only-of-type {\n",
       "        vertical-align: middle;\n",
       "    }\n",
       "\n",
       "    .dataframe tbody tr th {\n",
       "        vertical-align: top;\n",
       "    }\n",
       "\n",
       "    .dataframe thead th {\n",
       "        text-align: right;\n",
       "    }\n",
       "</style>\n",
       "<table border=\"1\" class=\"dataframe\">\n",
       "  <thead>\n",
       "    <tr style=\"text-align: right;\">\n",
       "      <th></th>\n",
       "      <th>KM_estimate</th>\n",
       "    </tr>\n",
       "    <tr>\n",
       "      <th>timeline</th>\n",
       "      <th></th>\n",
       "    </tr>\n",
       "  </thead>\n",
       "  <tbody>\n",
       "    <tr>\n",
       "      <th>0.0</th>\n",
       "      <td>0.000000</td>\n",
       "    </tr>\n",
       "    <tr>\n",
       "      <th>6.0</th>\n",
       "      <td>0.006135</td>\n",
       "    </tr>\n",
       "    <tr>\n",
       "      <th>7.0</th>\n",
       "      <td>0.012270</td>\n",
       "    </tr>\n",
       "    <tr>\n",
       "      <th>9.0</th>\n",
       "      <td>0.030790</td>\n",
       "    </tr>\n",
       "    <tr>\n",
       "      <th>13.0</th>\n",
       "      <td>0.049310</td>\n",
       "    </tr>\n",
       "  </tbody>\n",
       "</table>\n",
       "</div>"
      ],
      "text/plain": [
       "          KM_estimate\n",
       "timeline             \n",
       "0.0          0.000000\n",
       "6.0          0.006135\n",
       "7.0          0.012270\n",
       "9.0          0.030790\n",
       "13.0         0.049310"
      ]
     },
     "execution_count": 76,
     "metadata": {},
     "output_type": "execute_result"
    }
   ],
   "source": [
    "kmf.cumulative_density_.head()"
   ]
  },
  {
   "cell_type": "code",
   "execution_count": 77,
   "id": "d337cbb6",
   "metadata": {
    "ExecuteTime": {
     "end_time": "2022-09-06T12:52:28.572729Z",
     "start_time": "2022-09-06T12:52:28.416411Z"
    },
    "hidden": true
   },
   "outputs": [
    {
     "data": {
      "text/plain": [
       "<AxesSubplot:xlabel='timeline'>"
      ]
     },
     "execution_count": 77,
     "metadata": {},
     "output_type": "execute_result"
    },
    {
     "data": {
      "image/png": "[encoded data removed]",
      "text/plain": [
       "<Figure size 432x288 with 1 Axes>"
      ]
     },
     "metadata": {
      "needs_background": "light"
     },
     "output_type": "display_data"
    }
   ],
   "source": [
    "kmf.plot_survival_function()"
   ]
  },
  {
   "cell_type": "markdown",
   "id": "b63aac04",
   "metadata": {
    "heading_collapsed": true,
    "hidden": true
   },
   "source": [
    "### 2 - Exponential Model\n",
    "The Exponential model is another popular model in survival analysis. Unlike the Kaplan Meier model, it is a parametric model, meaning that it assumes that the data fits a specific distribution.\n",
    "\n",
    "The survival function of the Exponential model is derived from the formula:"
   ]
  },
  {
   "cell_type": "markdown",
   "id": "7c17a9ac",
   "metadata": {
    "ExecuteTime": {
     "end_time": "2022-08-28T15:26:50.177866Z",
     "start_time": "2022-08-28T15:26:50.159686Z"
    },
    "hidden": true
   },
   "source": [
    "$S(t) = exp(-\\dfrac{t}{\\lambda})$"
   ]
  },
  {
   "cell_type": "markdown",
   "id": "4e93b78e",
   "metadata": {
    "ExecuteTime": {
     "end_time": "2022-08-28T15:28:50.603110Z",
     "start_time": "2022-08-28T15:28:50.580525Z"
    },
    "hidden": true
   },
   "source": [
    "The hazard rate of the Exponential model is derived from the formula:"
   ]
  },
  {
   "cell_type": "markdown",
   "id": "9ab18202",
   "metadata": {
    "ExecuteTime": {
     "end_time": "2022-08-28T15:27:10.979642Z",
     "start_time": "2022-08-28T15:27:10.970023Z"
    },
    "hidden": true
   },
   "source": [
    "$h(t) = \\dfrac{1}{\\lambda}$"
   ]
  },
  {
   "cell_type": "markdown",
   "id": "50e0a21f",
   "metadata": {
    "hidden": true
   },
   "source": [
    "The exponential model assumes that the hazard rate is constant. In other words, the risk of the event of interest occurring remains the same throughout the period of observation."
   ]
  },
  {
   "cell_type": "code",
   "execution_count": 81,
   "id": "e04de9a3",
   "metadata": {
    "ExecuteTime": {
     "end_time": "2022-09-06T15:48:02.745523Z",
     "start_time": "2022-09-06T15:48:02.658698Z"
    },
    "hidden": true
   },
   "outputs": [
    {
     "data": {
      "text/plain": [
       "<lifelines.ExponentialFitter:\"Exponential_estimate\", fitted with 432 total observations, 318 right-censored observations>"
      ]
     },
     "execution_count": 81,
     "metadata": {},
     "output_type": "execute_result"
    }
   ],
   "source": [
    "from lifelines import ExponentialFitter\n",
    "\n",
    "# fit data into Exponential estimator\n",
    "ef = ExponentialFitter()\n",
    "ef.fit(durations=df['week'], \n",
    "        event_observed=df['arrest'])"
   ]
  },
  {
   "cell_type": "code",
   "execution_count": 82,
   "id": "0bb444b6",
   "metadata": {
    "ExecuteTime": {
     "end_time": "2022-09-06T15:48:04.133298Z",
     "start_time": "2022-09-06T15:48:03.978929Z"
    },
    "hidden": true
   },
   "outputs": [
    {
     "data": {
      "image/png": "[encoded data removed]",
      "text/plain": [
       "<Figure size 432x288 with 1 Axes>"
      ]
     },
     "metadata": {
      "needs_background": "light"
     },
     "output_type": "display_data"
    }
   ],
   "source": [
    "# plot survival curve\n",
    "ef.survival_function_.plot()\n",
    "plt.xlabel('Time (weeks)')\n",
    "plt.ylabel('Survival Rate')\n",
    "plt.title('Survival Curve')\n",
    "plt.show()"
   ]
  },
  {
   "cell_type": "code",
   "execution_count": null,
   "id": "d2eb399e",
   "metadata": {
    "hidden": true
   },
   "outputs": [],
   "source": []
  },
  {
   "cell_type": "code",
   "execution_count": 83,
   "id": "e3c371c2",
   "metadata": {
    "ExecuteTime": {
     "end_time": "2022-09-06T15:48:04.524249Z",
     "start_time": "2022-09-06T15:48:04.518800Z"
    },
    "hidden": true
   },
   "outputs": [
    {
     "name": "stdout",
     "output_type": "stream",
     "text": [
      "λ = 173.76318376751396\n"
     ]
    }
   ],
   "source": [
    "# compute lambda\n",
    "lambda_value = ef.lambda_\n",
    "print(f'λ = {lambda_value}')"
   ]
  },
  {
   "cell_type": "code",
   "execution_count": 84,
   "id": "f1b60ef5",
   "metadata": {
    "ExecuteTime": {
     "end_time": "2022-09-06T15:48:04.686934Z",
     "start_time": "2022-09-06T15:48:04.670335Z"
    },
    "hidden": true
   },
   "outputs": [
    {
     "data": {
      "text/html": [
       "<div>\n",
       "<style scoped>\n",
       "    .dataframe tbody tr th:only-of-type {\n",
       "        vertical-align: middle;\n",
       "    }\n",
       "\n",
       "    .dataframe tbody tr th {\n",
       "        vertical-align: top;\n",
       "    }\n",
       "\n",
       "    .dataframe thead th {\n",
       "        text-align: right;\n",
       "    }\n",
       "</style>\n",
       "<table border=\"1\" class=\"dataframe\">\n",
       "  <thead>\n",
       "    <tr style=\"text-align: right;\">\n",
       "      <th></th>\n",
       "      <th>Hazard Rate</th>\n",
       "      <th>Cummulative Hazard</th>\n",
       "    </tr>\n",
       "  </thead>\n",
       "  <tbody>\n",
       "    <tr>\n",
       "      <th>1.000000</th>\n",
       "      <td>0.005755</td>\n",
       "      <td>0.005755</td>\n",
       "    </tr>\n",
       "    <tr>\n",
       "      <th>1.118329</th>\n",
       "      <td>0.005755</td>\n",
       "      <td>0.006436</td>\n",
       "    </tr>\n",
       "    <tr>\n",
       "      <th>1.236659</th>\n",
       "      <td>0.005755</td>\n",
       "      <td>0.007117</td>\n",
       "    </tr>\n",
       "    <tr>\n",
       "      <th>1.354988</th>\n",
       "      <td>0.005755</td>\n",
       "      <td>0.007798</td>\n",
       "    </tr>\n",
       "    <tr>\n",
       "      <th>1.473318</th>\n",
       "      <td>0.005755</td>\n",
       "      <td>0.008479</td>\n",
       "    </tr>\n",
       "  </tbody>\n",
       "</table>\n",
       "</div>"
      ],
      "text/plain": [
       "          Hazard Rate  Cummulative Hazard\n",
       "1.000000     0.005755            0.005755\n",
       "1.118329     0.005755            0.006436\n",
       "1.236659     0.005755            0.007117\n",
       "1.354988     0.005755            0.007798\n",
       "1.473318     0.005755            0.008479"
      ]
     },
     "execution_count": 84,
     "metadata": {},
     "output_type": "execute_result"
    }
   ],
   "source": [
    "hazard_df = pd.concat([ef.hazard_, ef.cumulative_hazard_], axis=1)\n",
    "hazard_df.columns = ['Hazard Rate', 'Cummulative Hazard']\n",
    "hazard_df.head()"
   ]
  },
  {
   "cell_type": "markdown",
   "id": "56eaafc6",
   "metadata": {
    "hidden": true
   },
   "source": [
    "Overall, the Exponential model provides substantial information on the survival function and the hazard function. Moreover, it can be used to compare the hazard rates of different groups.\n",
    "\n",
    "However, it makes the strong assumption that the hazard rate is constant at any given time, which may not suit the time-to-event data of interest."
   ]
  },
  {
   "cell_type": "code",
   "execution_count": null,
   "id": "abf306d8",
   "metadata": {
    "hidden": true
   },
   "outputs": [],
   "source": []
  },
  {
   "cell_type": "markdown",
   "id": "94044283",
   "metadata": {
    "heading_collapsed": true,
    "hidden": true
   },
   "source": [
    "### 3 - Weibull Model\n",
    "Another parametric model one can consider is the Weibull model."
   ]
  },
  {
   "cell_type": "markdown",
   "id": "d8198c29",
   "metadata": {
    "ExecuteTime": {
     "end_time": "2022-08-30T13:49:54.394362Z",
     "start_time": "2022-08-30T13:49:54.380716Z"
    },
    "hidden": true
   },
   "source": [
    "The survival rate in a Weibull model is determined by the following formula:"
   ]
  },
  {
   "cell_type": "markdown",
   "id": "f757d586",
   "metadata": {
    "ExecuteTime": {
     "end_time": "2022-08-28T15:30:39.371264Z",
     "start_time": "2022-08-28T15:30:39.361619Z"
    },
    "hidden": true
   },
   "source": [
    "$S(t) = exp(-(\\dfrac{t}{\\lambda})^\\rho)$"
   ]
  },
  {
   "cell_type": "markdown",
   "id": "d80ca5ec",
   "metadata": {
    "hidden": true
   },
   "source": [
    "The hazard rate in a Weibull model is determined by the following formula:"
   ]
  },
  {
   "cell_type": "markdown",
   "id": "675449d6",
   "metadata": {
    "ExecuteTime": {
     "end_time": "2022-08-28T15:31:20.218646Z",
     "start_time": "2022-08-28T15:31:20.208072Z"
    },
    "hidden": true
   },
   "source": [
    "$h(t) = \\dfrac{\\rho}{\\lambda}(\\dfrac{t}{\\lambda})^{\\rho-1}$"
   ]
  },
  {
   "cell_type": "markdown",
   "id": "2b7968d5",
   "metadata": {
    "hidden": true
   },
   "source": [
    "The data distribution in the Weibull model is determined by the two parameters: λ and ρ.\n",
    "\n",
    "The λ parameter indicates how long it takes for 63.2% of the subjects to experience the event.\n",
    "\n",
    "The ρ parameter indicates whether the hazard rate is increasing, decreasing, or constant. If ρ is greater than 1, the hazard rate is constantly increasing. If ρ is less than 1, the hazard rate is constantly decreasing."
   ]
  },
  {
   "cell_type": "markdown",
   "id": "45127bc5",
   "metadata": {
    "hidden": true
   },
   "source": [
    "In other words, the Weibull model assumes that the change in hazard rate is linear. The hazard rate can always increase, always decrease, or stay the same. However, the hazard rate can not fluctuate."
   ]
  },
  {
   "cell_type": "code",
   "execution_count": 85,
   "id": "54066d26",
   "metadata": {
    "ExecuteTime": {
     "end_time": "2022-09-06T15:48:06.696489Z",
     "start_time": "2022-09-06T15:48:06.517804Z"
    },
    "hidden": true
   },
   "outputs": [
    {
     "data": {
      "text/plain": [
       "<lifelines.WeibullFitter:\"Weibull_estimate\", fitted with 432 total observations, 318 right-censored observations>"
      ]
     },
     "execution_count": 85,
     "metadata": {},
     "output_type": "execute_result"
    }
   ],
   "source": [
    "from lifelines import WeibullFitter\n",
    "\n",
    "# fit data into Weibull estimator\n",
    "wf = WeibullFitter()\n",
    "wf.fit(durations=df['week'], \n",
    "        event_observed=df['arrest'])\n",
    "\n"
   ]
  },
  {
   "cell_type": "code",
   "execution_count": 86,
   "id": "559ce661",
   "metadata": {
    "ExecuteTime": {
     "end_time": "2022-09-06T15:48:06.844503Z",
     "start_time": "2022-09-06T15:48:06.699559Z"
    },
    "hidden": true
   },
   "outputs": [
    {
     "data": {
      "image/png": "[encoded data removed]",
      "text/plain": [
       "<Figure size 432x288 with 1 Axes>"
      ]
     },
     "metadata": {
      "needs_background": "light"
     },
     "output_type": "display_data"
    }
   ],
   "source": [
    "wf.survival_function_.plot()\n",
    "plt.xlabel('Time (weeks)')\n",
    "plt.ylabel('Survival Rate')\n",
    "plt.title('Survival Curve')\n",
    "plt.show()"
   ]
  },
  {
   "cell_type": "code",
   "execution_count": 87,
   "id": "27cbf253",
   "metadata": {
    "ExecuteTime": {
     "end_time": "2022-09-06T15:48:06.885968Z",
     "start_time": "2022-09-06T15:48:06.881473Z"
    },
    "hidden": true
   },
   "outputs": [
    {
     "name": "stdout",
     "output_type": "stream",
     "text": [
      "λ= 123.67708708943374\n",
      "ρ= 1.3651415090782515\n"
     ]
    }
   ],
   "source": [
    "# compute lambda and rho\n",
    "lambda_value = wf.lambda_\n",
    "rho_value = wf.rho_\n",
    "print(f'λ= {lambda_value}')\n",
    "print(f'ρ= {rho_value}')"
   ]
  },
  {
   "cell_type": "markdown",
   "id": "6a9ff679",
   "metadata": {
    "hidden": true
   },
   "source": [
    "Since the ρ value is greater than 1, the hazard rate in this model is always increasing.\n",
    "\n",
    "We can confirm this by deriving the hazard rate and cumulative hazard function."
   ]
  },
  {
   "cell_type": "code",
   "execution_count": 88,
   "id": "6eb1a773",
   "metadata": {
    "ExecuteTime": {
     "end_time": "2022-09-06T15:48:07.311234Z",
     "start_time": "2022-09-06T15:48:07.297760Z"
    },
    "hidden": true
   },
   "outputs": [
    {
     "data": {
      "text/html": [
       "<div>\n",
       "<style scoped>\n",
       "    .dataframe tbody tr th:only-of-type {\n",
       "        vertical-align: middle;\n",
       "    }\n",
       "\n",
       "    .dataframe tbody tr th {\n",
       "        vertical-align: top;\n",
       "    }\n",
       "\n",
       "    .dataframe thead th {\n",
       "        text-align: right;\n",
       "    }\n",
       "</style>\n",
       "<table border=\"1\" class=\"dataframe\">\n",
       "  <thead>\n",
       "    <tr style=\"text-align: right;\">\n",
       "      <th></th>\n",
       "      <th>Hazard Rate</th>\n",
       "      <th>Cummulative Hazard</th>\n",
       "    </tr>\n",
       "  </thead>\n",
       "  <tbody>\n",
       "    <tr>\n",
       "      <th>1.000000</th>\n",
       "      <td>0.001901</td>\n",
       "      <td>0.001392</td>\n",
       "    </tr>\n",
       "    <tr>\n",
       "      <th>1.118329</th>\n",
       "      <td>0.001980</td>\n",
       "      <td>0.001622</td>\n",
       "    </tr>\n",
       "    <tr>\n",
       "      <th>1.236659</th>\n",
       "      <td>0.002054</td>\n",
       "      <td>0.001861</td>\n",
       "    </tr>\n",
       "    <tr>\n",
       "      <th>1.354988</th>\n",
       "      <td>0.002124</td>\n",
       "      <td>0.002108</td>\n",
       "    </tr>\n",
       "    <tr>\n",
       "      <th>1.473318</th>\n",
       "      <td>0.002190</td>\n",
       "      <td>0.002363</td>\n",
       "    </tr>\n",
       "  </tbody>\n",
       "</table>\n",
       "</div>"
      ],
      "text/plain": [
       "          Hazard Rate  Cummulative Hazard\n",
       "1.000000     0.001901            0.001392\n",
       "1.118329     0.001980            0.001622\n",
       "1.236659     0.002054            0.001861\n",
       "1.354988     0.002124            0.002108\n",
       "1.473318     0.002190            0.002363"
      ]
     },
     "execution_count": 88,
     "metadata": {},
     "output_type": "execute_result"
    }
   ],
   "source": [
    "# Compute hazard function and cumulative hazard function\n",
    "hazard_df = pd.concat([wf.hazard_, wf.cumulative_hazard_], axis=1)\n",
    "hazard_df.columns = ['Hazard Rate', 'Cummulative Hazard']\n",
    "hazard_df.head()"
   ]
  },
  {
   "cell_type": "markdown",
   "id": "867df63e",
   "metadata": {
    "hidden": true
   },
   "source": [
    "Similar to the Exponential model, the Weibull model is capable of computing many of the relevant metrics in the survival analysis.\n",
    "\n",
    "However, its results are based on the strong assumption that the hazard rate changes linearly across time, which may not suit the time-to-event data in question."
   ]
  },
  {
   "cell_type": "markdown",
   "id": "944e1226",
   "metadata": {},
   "source": [
    "## Regression models"
   ]
  },
  {
   "cell_type": "markdown",
   "id": "a7fe22c0",
   "metadata": {},
   "source": [
    "> If you **know the parametric distribution** that your data follows then using a maximum likelihood approach and the distribution makes sense"
   ]
  },
  {
   "cell_type": "markdown",
   "id": "c71d4613",
   "metadata": {},
   "source": [
    "> The real advantage of Cox Proportional Hazards regression is that you can still fit survival models **without knowing (or assuming) the distribution**\n"
   ]
  },
  {
   "cell_type": "markdown",
   "id": "a7f001dd",
   "metadata": {},
   "source": [
    ">With censoring and covariates we cannot do a simple histogram and say \"that looks like a ... distribution to me\". So it is very useful to have a technique that **works well without needing a specific distribution**"
   ]
  },
  {
   "cell_type": "markdown",
   "id": "a693a090",
   "metadata": {},
   "source": [
    "### 4 - Cox Proportional-Hazards Model\n",
    "Although the Exponential model and the Weibull model can evaluate covariates, they can only examine each covariate individually."
   ]
  },
  {
   "cell_type": "markdown",
   "id": "7b1e4a9b",
   "metadata": {},
   "source": [
    "If the goal is to conduct a survival analysis that examines time-to-event data with respect to multiple variables at once, the Cox Proportional-Hazards model (also known as the Cox model) can be the preferable alternative."
   ]
  },
  {
   "cell_type": "markdown",
   "id": "aaebac36",
   "metadata": {},
   "source": [
    "It is based on the following hazard rate formula:"
   ]
  },
  {
   "cell_type": "markdown",
   "id": "19c599c1",
   "metadata": {
    "ExecuteTime": {
     "end_time": "2022-08-28T15:36:48.713606Z",
     "start_time": "2022-08-28T15:36:48.706211Z"
    }
   },
   "source": [
    "$h(t|x) = b_0(t) exp( \\sum\\limits_{i=1}^{n}(x_i-\\bar{x_i}) )$"
   ]
  },
  {
   "cell_type": "markdown",
   "id": "b3401467",
   "metadata": {},
   "source": [
    "The Cox model allows the hazard rate to fluctuate, as opposed to the parametric models where the hazard rate adheres to a fixed pattern."
   ]
  },
  {
   "cell_type": "markdown",
   "id": "f9ea6b43",
   "metadata": {},
   "source": [
    "The model is, however, dependent on **the proportional hazards assumption** <br/>\n",
    "It assumes that the hazard ratios between groups remain constant. In other words, no matter how the hazard rates of the subjects change during the period of observation, the hazard rate of one group relative to the other will always stay the same."
   ]
  },
  {
   "cell_type": "markdown",
   "id": "3a44ade1",
   "metadata": {},
   "source": [
    "**Estimation** <br/>\n",
    "The estimation of the model is obtained by Maximun Likelihood, particularly maximazing the \"partial\" likelihood function rather than a (complete) likelihood function. The term \"partial\" likelihood is used because the likelihood formula considers probabilities only for those subjects who fail, and does not explicitly consider probabilities for those subjects who are censored"
   ]
  },
  {
   "cell_type": "code",
   "execution_count": 89,
   "id": "3c769b3d",
   "metadata": {
    "ExecuteTime": {
     "end_time": "2022-09-06T15:48:09.595131Z",
     "start_time": "2022-09-06T15:48:09.511949Z"
    }
   },
   "outputs": [
    {
     "data": {
      "text/plain": [
       "<lifelines.CoxPHFitter: fitted with 432 total observations, 318 right-censored observations>"
      ]
     },
     "execution_count": 89,
     "metadata": {},
     "output_type": "execute_result"
    }
   ],
   "source": [
    "from lifelines import CoxPHFitter\n",
    "\n",
    "# fit the Cox Proportional-Hazards model\n",
    "cf = CoxPHFitter()\n",
    "cf.fit(df, 'week', 'arrest')\n"
   ]
  },
  {
   "cell_type": "code",
   "execution_count": 90,
   "id": "47661010",
   "metadata": {
    "ExecuteTime": {
     "end_time": "2022-09-06T15:48:09.983700Z",
     "start_time": "2022-09-06T15:48:09.843761Z"
    }
   },
   "outputs": [
    {
     "data": {
      "image/png": "[encoded data removed]",
      "text/plain": [
       "<Figure size 432x288 with 1 Axes>"
      ]
     },
     "metadata": {
      "needs_background": "light"
     },
     "output_type": "display_data"
    }
   ],
   "source": [
    "# baseline survival plot\n",
    "cf.baseline_survival_.plot()\n",
    "plt.title('Baseline Survival')\n",
    "plt.xlabel('Time (weeks)')\n",
    "plt.ylabel('Survival Function')\n",
    "plt.show()"
   ]
  },
  {
   "cell_type": "code",
   "execution_count": 91,
   "id": "9087bd2f",
   "metadata": {
    "ExecuteTime": {
     "end_time": "2022-09-06T15:48:10.182485Z",
     "start_time": "2022-09-06T15:48:10.153223Z"
    }
   },
   "outputs": [
    {
     "data": {
      "text/html": [
       "<div>\n",
       "<style scoped>\n",
       "    .dataframe tbody tr th:only-of-type {\n",
       "        vertical-align: middle;\n",
       "    }\n",
       "\n",
       "    .dataframe tbody tr th {\n",
       "        vertical-align: top;\n",
       "    }\n",
       "\n",
       "    .dataframe thead th {\n",
       "        text-align: right;\n",
       "    }\n",
       "</style>\n",
       "<table border=\"1\" class=\"dataframe\">\n",
       "  <thead>\n",
       "    <tr style=\"text-align: right;\">\n",
       "      <th></th>\n",
       "      <th>coef</th>\n",
       "      <th>exp(coef)</th>\n",
       "      <th>se(coef)</th>\n",
       "      <th>coef lower 95%</th>\n",
       "      <th>coef upper 95%</th>\n",
       "      <th>exp(coef) lower 95%</th>\n",
       "      <th>exp(coef) upper 95%</th>\n",
       "      <th>cmp to</th>\n",
       "      <th>z</th>\n",
       "      <th>p</th>\n",
       "      <th>-log2(p)</th>\n",
       "    </tr>\n",
       "    <tr>\n",
       "      <th>covariate</th>\n",
       "      <th></th>\n",
       "      <th></th>\n",
       "      <th></th>\n",
       "      <th></th>\n",
       "      <th></th>\n",
       "      <th></th>\n",
       "      <th></th>\n",
       "      <th></th>\n",
       "      <th></th>\n",
       "      <th></th>\n",
       "      <th></th>\n",
       "    </tr>\n",
       "  </thead>\n",
       "  <tbody>\n",
       "    <tr>\n",
       "      <th>fin</th>\n",
       "      <td>-0.379422</td>\n",
       "      <td>0.684257</td>\n",
       "      <td>0.191379</td>\n",
       "      <td>-0.754519</td>\n",
       "      <td>-0.004325</td>\n",
       "      <td>0.470237</td>\n",
       "      <td>0.995684</td>\n",
       "      <td>0.0</td>\n",
       "      <td>-1.982565</td>\n",
       "      <td>0.047416</td>\n",
       "      <td>4.398479</td>\n",
       "    </tr>\n",
       "    <tr>\n",
       "      <th>age</th>\n",
       "      <td>-0.057438</td>\n",
       "      <td>0.944181</td>\n",
       "      <td>0.021999</td>\n",
       "      <td>-0.100556</td>\n",
       "      <td>-0.014320</td>\n",
       "      <td>0.904335</td>\n",
       "      <td>0.985782</td>\n",
       "      <td>0.0</td>\n",
       "      <td>-2.610869</td>\n",
       "      <td>0.009031</td>\n",
       "      <td>6.790860</td>\n",
       "    </tr>\n",
       "    <tr>\n",
       "      <th>race</th>\n",
       "      <td>0.313900</td>\n",
       "      <td>1.368753</td>\n",
       "      <td>0.307993</td>\n",
       "      <td>-0.289755</td>\n",
       "      <td>0.917555</td>\n",
       "      <td>0.748447</td>\n",
       "      <td>2.503162</td>\n",
       "      <td>0.0</td>\n",
       "      <td>1.019179</td>\n",
       "      <td>0.308118</td>\n",
       "      <td>1.698445</td>\n",
       "    </tr>\n",
       "    <tr>\n",
       "      <th>wexp</th>\n",
       "      <td>-0.149796</td>\n",
       "      <td>0.860884</td>\n",
       "      <td>0.212224</td>\n",
       "      <td>-0.565748</td>\n",
       "      <td>0.266156</td>\n",
       "      <td>0.567935</td>\n",
       "      <td>1.304939</td>\n",
       "      <td>0.0</td>\n",
       "      <td>-0.705837</td>\n",
       "      <td>0.480290</td>\n",
       "      <td>1.058023</td>\n",
       "    </tr>\n",
       "    <tr>\n",
       "      <th>mar</th>\n",
       "      <td>-0.433704</td>\n",
       "      <td>0.648104</td>\n",
       "      <td>0.381868</td>\n",
       "      <td>-1.182152</td>\n",
       "      <td>0.314744</td>\n",
       "      <td>0.306618</td>\n",
       "      <td>1.369908</td>\n",
       "      <td>0.0</td>\n",
       "      <td>-1.135743</td>\n",
       "      <td>0.256064</td>\n",
       "      <td>1.965422</td>\n",
       "    </tr>\n",
       "    <tr>\n",
       "      <th>paro</th>\n",
       "      <td>-0.084871</td>\n",
       "      <td>0.918631</td>\n",
       "      <td>0.195757</td>\n",
       "      <td>-0.468547</td>\n",
       "      <td>0.298805</td>\n",
       "      <td>0.625911</td>\n",
       "      <td>1.348247</td>\n",
       "      <td>0.0</td>\n",
       "      <td>-0.433554</td>\n",
       "      <td>0.664612</td>\n",
       "      <td>0.589415</td>\n",
       "    </tr>\n",
       "    <tr>\n",
       "      <th>prio</th>\n",
       "      <td>0.091497</td>\n",
       "      <td>1.095814</td>\n",
       "      <td>0.028649</td>\n",
       "      <td>0.035347</td>\n",
       "      <td>0.147647</td>\n",
       "      <td>1.035979</td>\n",
       "      <td>1.159104</td>\n",
       "      <td>0.0</td>\n",
       "      <td>3.193777</td>\n",
       "      <td>0.001404</td>\n",
       "      <td>9.475989</td>\n",
       "    </tr>\n",
       "  </tbody>\n",
       "</table>\n",
       "</div>"
      ],
      "text/plain": [
       "               coef  exp(coef)  se(coef)  coef lower 95%  coef upper 95%  \\\n",
       "covariate                                                                  \n",
       "fin       -0.379422   0.684257  0.191379       -0.754519       -0.004325   \n",
       "age       -0.057438   0.944181  0.021999       -0.100556       -0.014320   \n",
       "race       0.313900   1.368753  0.307993       -0.289755        0.917555   \n",
       "wexp      -0.149796   0.860884  0.212224       -0.565748        0.266156   \n",
       "mar       -0.433704   0.648104  0.381868       -1.182152        0.314744   \n",
       "paro      -0.084871   0.918631  0.195757       -0.468547        0.298805   \n",
       "prio       0.091497   1.095814  0.028649        0.035347        0.147647   \n",
       "\n",
       "           exp(coef) lower 95%  exp(coef) upper 95%  cmp to         z  \\\n",
       "covariate                                                               \n",
       "fin                   0.470237             0.995684     0.0 -1.982565   \n",
       "age                   0.904335             0.985782     0.0 -2.610869   \n",
       "race                  0.748447             2.503162     0.0  1.019179   \n",
       "wexp                  0.567935             1.304939     0.0 -0.705837   \n",
       "mar                   0.306618             1.369908     0.0 -1.135743   \n",
       "paro                  0.625911             1.348247     0.0 -0.433554   \n",
       "prio                  1.035979             1.159104     0.0  3.193777   \n",
       "\n",
       "                  p  -log2(p)  \n",
       "covariate                      \n",
       "fin        0.047416  4.398479  \n",
       "age        0.009031  6.790860  \n",
       "race       0.308118  1.698445  \n",
       "wexp       0.480290  1.058023  \n",
       "mar        0.256064  1.965422  \n",
       "paro       0.664612  0.589415  \n",
       "prio       0.001404  9.475989  "
      ]
     },
     "execution_count": 91,
     "metadata": {},
     "output_type": "execute_result"
    }
   ],
   "source": [
    "# show the summary\n",
    "cf.summary"
   ]
  },
  {
   "cell_type": "markdown",
   "id": "5912c1ad",
   "metadata": {},
   "source": [
    "This means that being getting financial aid changes the hazard rate by a factor of 0.68 (i.e., a 32% decrease)."
   ]
  },
  {
   "cell_type": "markdown",
   "id": "46246597",
   "metadata": {},
   "source": [
    "Of course, the Cox model is only suitable if its assumption of proportional hazards befits the time-to-event data. To justify the use of the model, one can test this assumption using the check_assumptions method."
   ]
  },
  {
   "cell_type": "code",
   "execution_count": 92,
   "id": "56167f8f",
   "metadata": {
    "ExecuteTime": {
     "end_time": "2022-09-06T15:48:46.015208Z",
     "start_time": "2022-09-06T15:48:45.761341Z"
    }
   },
   "outputs": [
    {
     "name": "stdout",
     "output_type": "stream",
     "text": [
      "The ``p_value_threshold`` is set at 0.01. Even under the null hypothesis of no violations, some\n",
      "covariates will be below the threshold by chance. This is compounded when there are many covariates.\n",
      "Similarly, when there are lots of observations, even minor deviances from the proportional hazard\n",
      "assumption will be flagged.\n",
      "\n",
      "With that in mind, it's best to use a combination of statistical tests and visual tests to determine\n",
      "the most serious violations. Produce visual plots using ``check_assumptions(..., show_plots=True)``\n",
      "and looking for non-constant lines. See link [A] below for a full example.\n",
      "\n"
     ]
    },
    {
     "name": "stderr",
     "output_type": "stream",
     "text": [
      "/Users/antonermak/opt/anaconda3/lib/python3.9/site-packages/lifelines/statistics.py:143: FutureWarning: In future versions `DataFrame.to_latex` is expected to utilise the base implementation of `Styler.to_latex` for formatting and rendering. The arguments signature may therefore change. It is recommended instead to use `DataFrame.style.to_latex` which also contains additional functionality.\n",
      "  return self.summary.to_latex()\n"
     ]
    },
    {
     "data": {
      "text/html": [
       "<div>\n",
       "<style scoped>\n",
       "    .dataframe tbody tr th:only-of-type {\n",
       "        vertical-align: middle;\n",
       "    }\n",
       "\n",
       "    .dataframe tbody tr th {\n",
       "        vertical-align: top;\n",
       "    }\n",
       "\n",
       "    .dataframe thead th {\n",
       "        text-align: right;\n",
       "    }\n",
       "</style>\n",
       "<table border=\"1\" class=\"dataframe\">\n",
       "  <tbody>\n",
       "    <tr>\n",
       "      <th>null_distribution</th>\n",
       "      <td>chi squared</td>\n",
       "    </tr>\n",
       "    <tr>\n",
       "      <th>degrees_of_freedom</th>\n",
       "      <td>1</td>\n",
       "    </tr>\n",
       "    <tr>\n",
       "      <th>model</th>\n",
       "      <td>&lt;lifelines.CoxPHFitter: fitted with 432 total ...</td>\n",
       "    </tr>\n",
       "    <tr>\n",
       "      <th>test_name</th>\n",
       "      <td>proportional_hazard_test</td>\n",
       "    </tr>\n",
       "  </tbody>\n",
       "</table>\n",
       "</div><table border=\"1\" class=\"dataframe\">\n",
       "  <thead>\n",
       "    <tr style=\"text-align: right;\">\n",
       "      <th></th>\n",
       "      <th></th>\n",
       "      <th>test_statistic</th>\n",
       "      <th>p</th>\n",
       "      <th>-log2(p)</th>\n",
       "    </tr>\n",
       "  </thead>\n",
       "  <tbody>\n",
       "    <tr>\n",
       "      <th rowspan=\"2\" valign=\"top\">age</th>\n",
       "      <th>km</th>\n",
       "      <td>11.03</td>\n",
       "      <td>&lt;0.005</td>\n",
       "      <td>10.12</td>\n",
       "    </tr>\n",
       "    <tr>\n",
       "      <th>rank</th>\n",
       "      <td>11.45</td>\n",
       "      <td>&lt;0.005</td>\n",
       "      <td>10.45</td>\n",
       "    </tr>\n",
       "    <tr>\n",
       "      <th rowspan=\"2\" valign=\"top\">fin</th>\n",
       "      <th>km</th>\n",
       "      <td>0.02</td>\n",
       "      <td>0.89</td>\n",
       "      <td>0.17</td>\n",
       "    </tr>\n",
       "    <tr>\n",
       "      <th>rank</th>\n",
       "      <td>0.02</td>\n",
       "      <td>0.90</td>\n",
       "      <td>0.15</td>\n",
       "    </tr>\n",
       "    <tr>\n",
       "      <th rowspan=\"2\" valign=\"top\">mar</th>\n",
       "      <th>km</th>\n",
       "      <td>0.60</td>\n",
       "      <td>0.44</td>\n",
       "      <td>1.19</td>\n",
       "    </tr>\n",
       "    <tr>\n",
       "      <th>rank</th>\n",
       "      <td>0.71</td>\n",
       "      <td>0.40</td>\n",
       "      <td>1.32</td>\n",
       "    </tr>\n",
       "    <tr>\n",
       "      <th rowspan=\"2\" valign=\"top\">paro</th>\n",
       "      <th>km</th>\n",
       "      <td>0.12</td>\n",
       "      <td>0.73</td>\n",
       "      <td>0.45</td>\n",
       "    </tr>\n",
       "    <tr>\n",
       "      <th>rank</th>\n",
       "      <td>0.13</td>\n",
       "      <td>0.71</td>\n",
       "      <td>0.49</td>\n",
       "    </tr>\n",
       "    <tr>\n",
       "      <th rowspan=\"2\" valign=\"top\">prio</th>\n",
       "      <th>km</th>\n",
       "      <td>0.02</td>\n",
       "      <td>0.88</td>\n",
       "      <td>0.18</td>\n",
       "    </tr>\n",
       "    <tr>\n",
       "      <th>rank</th>\n",
       "      <td>0.02</td>\n",
       "      <td>0.89</td>\n",
       "      <td>0.17</td>\n",
       "    </tr>\n",
       "    <tr>\n",
       "      <th rowspan=\"2\" valign=\"top\">race</th>\n",
       "      <th>km</th>\n",
       "      <td>1.44</td>\n",
       "      <td>0.23</td>\n",
       "      <td>2.12</td>\n",
       "    </tr>\n",
       "    <tr>\n",
       "      <th>rank</th>\n",
       "      <td>1.43</td>\n",
       "      <td>0.23</td>\n",
       "      <td>2.11</td>\n",
       "    </tr>\n",
       "    <tr>\n",
       "      <th rowspan=\"2\" valign=\"top\">wexp</th>\n",
       "      <th>km</th>\n",
       "      <td>7.48</td>\n",
       "      <td>0.01</td>\n",
       "      <td>7.32</td>\n",
       "    </tr>\n",
       "    <tr>\n",
       "      <th>rank</th>\n",
       "      <td>7.31</td>\n",
       "      <td>0.01</td>\n",
       "      <td>7.19</td>\n",
       "    </tr>\n",
       "  </tbody>\n",
       "</table>"
      ],
      "text/latex": [
       "\\begin{tabular}{llrrr}\n",
       "\\toprule\n",
       "     &      &  test\\_statistic &         p &   -log2(p) \\\\\n",
       "\\midrule\n",
       "age & km &       11.030294 &  0.000896 &  10.123651 \\\\\n",
       "     & rank &       11.453497 &  0.000714 &  10.452605 \\\\\n",
       "fin & km &        0.019130 &  0.889994 &   0.168132 \\\\\n",
       "     & rank &        0.015056 &  0.902343 &   0.148252 \\\\\n",
       "mar & km &        0.600874 &  0.438245 &   1.190192 \\\\\n",
       "     & rank &        0.709474 &  0.399619 &   1.323304 \\\\\n",
       "paro & km &        0.115721 &  0.733723 &   0.446693 \\\\\n",
       "     & rank &        0.134266 &  0.714049 &   0.485905 \\\\\n",
       "prio & km &        0.022546 &  0.880645 &   0.183368 \\\\\n",
       "     & rank &        0.018834 &  0.890843 &   0.166757 \\\\\n",
       "race & km &        1.437456 &  0.230551 &   2.116839 \\\\\n",
       "     & rank &        1.426479 &  0.232340 &   2.105691 \\\\\n",
       "wexp & km &        7.475471 &  0.006255 &   7.320885 \\\\\n",
       "     & rank &        7.314934 &  0.006838 &   7.192127 \\\\\n",
       "\\bottomrule\n",
       "\\end{tabular}\n"
      ],
      "text/plain": [
       "<lifelines.StatisticalResult: proportional_hazard_test>\n",
       " null_distribution = chi squared\n",
       "degrees_of_freedom = 1\n",
       "             model = <lifelines.CoxPHFitter: fitted with 432 total observations, 318 right-censored observations>\n",
       "         test_name = proportional_hazard_test\n",
       "\n",
       "---\n",
       "           test_statistic      p  -log2(p)\n",
       "age  km             11.03 <0.005     10.12\n",
       "     rank           11.45 <0.005     10.45\n",
       "fin  km              0.02   0.89      0.17\n",
       "     rank            0.02   0.90      0.15\n",
       "mar  km              0.60   0.44      1.19\n",
       "     rank            0.71   0.40      1.32\n",
       "paro km              0.12   0.73      0.45\n",
       "     rank            0.13   0.71      0.49\n",
       "prio km              0.02   0.88      0.18\n",
       "     rank            0.02   0.89      0.17\n",
       "race km              1.44   0.23      2.12\n",
       "     rank            1.43   0.23      2.11\n",
       "wexp km              7.48   0.01      7.32\n",
       "     rank            7.31   0.01      7.19"
      ]
     },
     "metadata": {},
     "output_type": "display_data"
    },
    {
     "name": "stdout",
     "output_type": "stream",
     "text": [
      "\n",
      "\n",
      "1. Variable 'age' failed the non-proportional test: p-value is 0.0007.\n",
      "\n",
      "   Advice 1: the functional form of the variable 'age' might be incorrect. That is, there may be\n",
      "non-linear terms missing. The proportional hazard test used is very sensitive to incorrect\n",
      "functional forms. See documentation in link [D] below on how to specify a functional form.\n",
      "\n",
      "   Advice 2: try binning the variable 'age' using pd.cut, and then specify it in `strata=['age',\n",
      "...]` in the call in `.fit`. See documentation in link [B] below.\n",
      "\n",
      "   Advice 3: try adding an interaction term with your time variable. See documentation in link [C]\n",
      "below.\n",
      "\n",
      "\n",
      "2. Variable 'wexp' failed the non-proportional test: p-value is 0.0063.\n",
      "\n",
      "   Advice: with so few unique values (only 2), you can include `strata=['wexp', ...]` in the call in\n",
      "`.fit`. See documentation in link [E] below.\n",
      "\n",
      "---\n",
      "[A]  https://lifelines.readthedocs.io/en/latest/jupyter_notebooks/Proportional%20hazard%20assumption.html\n",
      "[B]  https://lifelines.readthedocs.io/en/latest/jupyter_notebooks/Proportional%20hazard%20assumption.html#Bin-variable-and-stratify-on-it\n",
      "[C]  https://lifelines.readthedocs.io/en/latest/jupyter_notebooks/Proportional%20hazard%20assumption.html#Introduce-time-varying-covariates\n",
      "[D]  https://lifelines.readthedocs.io/en/latest/jupyter_notebooks/Proportional%20hazard%20assumption.html#Modify-the-functional-form\n",
      "[E]  https://lifelines.readthedocs.io/en/latest/jupyter_notebooks/Proportional%20hazard%20assumption.html#Stratification\n",
      "\n"
     ]
    },
    {
     "data": {
      "text/plain": [
       "[]"
      ]
     },
     "execution_count": 92,
     "metadata": {},
     "output_type": "execute_result"
    }
   ],
   "source": [
    "# check assumptions\n",
    "cf.check_assumptions(training_df=df)"
   ]
  },
  {
   "cell_type": "markdown",
   "id": "5b7a3246",
   "metadata": {},
   "source": [
    "### Example with Rossi data"
   ]
  },
  {
   "cell_type": "code",
   "execution_count": 93,
   "id": "b8e73716",
   "metadata": {
    "ExecuteTime": {
     "end_time": "2022-09-06T15:48:46.074050Z",
     "start_time": "2022-09-06T15:48:46.070539Z"
    }
   },
   "outputs": [],
   "source": [
    "from lifelines.datasets import load_rossi"
   ]
  },
  {
   "cell_type": "code",
   "execution_count": 94,
   "id": "035f8184",
   "metadata": {
    "ExecuteTime": {
     "end_time": "2022-09-06T15:48:46.211783Z",
     "start_time": "2022-09-06T15:48:46.200593Z"
    }
   },
   "outputs": [],
   "source": [
    "rossi = load_rossi()"
   ]
  },
  {
   "cell_type": "code",
   "execution_count": 95,
   "id": "51436c79",
   "metadata": {
    "ExecuteTime": {
     "end_time": "2022-09-06T15:48:46.351588Z",
     "start_time": "2022-09-06T15:48:46.338393Z"
    }
   },
   "outputs": [
    {
     "data": {
      "text/html": [
       "<div>\n",
       "<style scoped>\n",
       "    .dataframe tbody tr th:only-of-type {\n",
       "        vertical-align: middle;\n",
       "    }\n",
       "\n",
       "    .dataframe tbody tr th {\n",
       "        vertical-align: top;\n",
       "    }\n",
       "\n",
       "    .dataframe thead th {\n",
       "        text-align: right;\n",
       "    }\n",
       "</style>\n",
       "<table border=\"1\" class=\"dataframe\">\n",
       "  <thead>\n",
       "    <tr style=\"text-align: right;\">\n",
       "      <th></th>\n",
       "      <th>week</th>\n",
       "      <th>arrest</th>\n",
       "      <th>fin</th>\n",
       "      <th>age</th>\n",
       "      <th>race</th>\n",
       "      <th>wexp</th>\n",
       "      <th>mar</th>\n",
       "      <th>paro</th>\n",
       "      <th>prio</th>\n",
       "    </tr>\n",
       "  </thead>\n",
       "  <tbody>\n",
       "    <tr>\n",
       "      <th>0</th>\n",
       "      <td>20</td>\n",
       "      <td>1</td>\n",
       "      <td>0</td>\n",
       "      <td>27</td>\n",
       "      <td>1</td>\n",
       "      <td>0</td>\n",
       "      <td>0</td>\n",
       "      <td>1</td>\n",
       "      <td>3</td>\n",
       "    </tr>\n",
       "    <tr>\n",
       "      <th>1</th>\n",
       "      <td>17</td>\n",
       "      <td>1</td>\n",
       "      <td>0</td>\n",
       "      <td>18</td>\n",
       "      <td>1</td>\n",
       "      <td>0</td>\n",
       "      <td>0</td>\n",
       "      <td>1</td>\n",
       "      <td>8</td>\n",
       "    </tr>\n",
       "    <tr>\n",
       "      <th>2</th>\n",
       "      <td>25</td>\n",
       "      <td>1</td>\n",
       "      <td>0</td>\n",
       "      <td>19</td>\n",
       "      <td>0</td>\n",
       "      <td>1</td>\n",
       "      <td>0</td>\n",
       "      <td>1</td>\n",
       "      <td>13</td>\n",
       "    </tr>\n",
       "    <tr>\n",
       "      <th>3</th>\n",
       "      <td>52</td>\n",
       "      <td>0</td>\n",
       "      <td>1</td>\n",
       "      <td>23</td>\n",
       "      <td>1</td>\n",
       "      <td>1</td>\n",
       "      <td>1</td>\n",
       "      <td>1</td>\n",
       "      <td>1</td>\n",
       "    </tr>\n",
       "    <tr>\n",
       "      <th>4</th>\n",
       "      <td>52</td>\n",
       "      <td>0</td>\n",
       "      <td>0</td>\n",
       "      <td>19</td>\n",
       "      <td>0</td>\n",
       "      <td>1</td>\n",
       "      <td>0</td>\n",
       "      <td>1</td>\n",
       "      <td>3</td>\n",
       "    </tr>\n",
       "  </tbody>\n",
       "</table>\n",
       "</div>"
      ],
      "text/plain": [
       "   week  arrest  fin  age  race  wexp  mar  paro  prio\n",
       "0    20       1    0   27     1     0    0     1     3\n",
       "1    17       1    0   18     1     0    0     1     8\n",
       "2    25       1    0   19     0     1    0     1    13\n",
       "3    52       0    1   23     1     1    1     1     1\n",
       "4    52       0    0   19     0     1    0     1     3"
      ]
     },
     "execution_count": 95,
     "metadata": {},
     "output_type": "execute_result"
    }
   ],
   "source": [
    "rossi.head()"
   ]
  },
  {
   "cell_type": "code",
   "execution_count": 96,
   "id": "07590ce4",
   "metadata": {
    "ExecuteTime": {
     "end_time": "2022-09-06T15:48:46.669581Z",
     "start_time": "2022-09-06T15:48:46.466865Z"
    }
   },
   "outputs": [
    {
     "name": "stdout",
     "output_type": "stream",
     "text": [
      "\r",
      "Iteration 1: norm_delta = 0.50881, step_size = 0.9500, log_lik = -675.38063, newton_decrement = 16.76434, seconds_since_start = 0.0\n",
      "\r",
      "Iteration 2: norm_delta = 0.13852, step_size = 0.9500, log_lik = -659.79004, newton_decrement = 0.99157, seconds_since_start = 0.0\n",
      "\r",
      "Iteration 3: norm_delta = 0.01802, step_size = 0.9500, log_lik = -658.76197, newton_decrement = 0.01422, seconds_since_start = 0.0\n",
      "\r",
      "Iteration 4: norm_delta = 0.00018, step_size = 1.0000, log_lik = -658.74766, newton_decrement = 0.00000, seconds_since_start = 0.0\n",
      "\r",
      "Iteration 5: norm_delta = 0.00000, step_size = 1.0000, log_lik = -658.74766, newton_decrement = 0.00000, seconds_since_start = 0.0\n",
      "Convergence success after 5 iterations.\n"
     ]
    },
    {
     "name": "stderr",
     "output_type": "stream",
     "text": [
      "/Users/antonermak/opt/anaconda3/lib/python3.9/site-packages/lifelines/utils/printer.py:62: FutureWarning: In future versions `DataFrame.to_latex` is expected to utilise the base implementation of `Styler.to_latex` for formatting and rendering. The arguments signature may therefore change. It is recommended instead to use `DataFrame.style.to_latex` which also contains additional functionality.\n",
      "  return summary_df[columns].to_latex(float_format=\"%.\" + str(self.decimals) + \"f\")\n"
     ]
    },
    {
     "data": {
      "text/html": [
       "<div>\n",
       "<style scoped>\n",
       "    .dataframe tbody tr th:only-of-type {\n",
       "        vertical-align: middle;\n",
       "    }\n",
       "\n",
       "    .dataframe tbody tr th {\n",
       "        vertical-align: top;\n",
       "    }\n",
       "\n",
       "    .dataframe thead th {\n",
       "        text-align: right;\n",
       "    }\n",
       "</style>\n",
       "<table border=\"1\" class=\"dataframe\">\n",
       "  <tbody>\n",
       "    <tr>\n",
       "      <th>model</th>\n",
       "      <td>lifelines.CoxPHFitter</td>\n",
       "    </tr>\n",
       "    <tr>\n",
       "      <th>duration col</th>\n",
       "      <td>'week'</td>\n",
       "    </tr>\n",
       "    <tr>\n",
       "      <th>event col</th>\n",
       "      <td>'arrest'</td>\n",
       "    </tr>\n",
       "    <tr>\n",
       "      <th>baseline estimation</th>\n",
       "      <td>breslow</td>\n",
       "    </tr>\n",
       "    <tr>\n",
       "      <th>number of observations</th>\n",
       "      <td>432</td>\n",
       "    </tr>\n",
       "    <tr>\n",
       "      <th>number of events observed</th>\n",
       "      <td>114</td>\n",
       "    </tr>\n",
       "    <tr>\n",
       "      <th>partial log-likelihood</th>\n",
       "      <td>-658.75</td>\n",
       "    </tr>\n",
       "    <tr>\n",
       "      <th>time fit was run</th>\n",
       "      <td>2022-09-06 15:48:46 UTC</td>\n",
       "    </tr>\n",
       "  </tbody>\n",
       "</table>\n",
       "</div><table border=\"1\" class=\"dataframe\">\n",
       "  <thead>\n",
       "    <tr style=\"text-align: right;\">\n",
       "      <th style=\"min-width: 12px;\"></th>\n",
       "      <th style=\"min-width: 12px;\">coef</th>\n",
       "      <th style=\"min-width: 12px;\">exp(coef)</th>\n",
       "      <th style=\"min-width: 12px;\">se(coef)</th>\n",
       "      <th style=\"min-width: 12px;\">coef lower 95%</th>\n",
       "      <th style=\"min-width: 12px;\">coef upper 95%</th>\n",
       "      <th style=\"min-width: 12px;\">exp(coef) lower 95%</th>\n",
       "      <th style=\"min-width: 12px;\">exp(coef) upper 95%</th>\n",
       "      <th style=\"min-width: 12px;\">cmp to</th>\n",
       "      <th style=\"min-width: 12px;\">z</th>\n",
       "      <th style=\"min-width: 12px;\">p</th>\n",
       "      <th style=\"min-width: 12px;\">-log2(p)</th>\n",
       "    </tr>\n",
       "  </thead>\n",
       "  <tbody>\n",
       "    <tr>\n",
       "      <th>fin</th>\n",
       "      <td>-0.38</td>\n",
       "      <td>0.68</td>\n",
       "      <td>0.19</td>\n",
       "      <td>-0.75</td>\n",
       "      <td>-0.00</td>\n",
       "      <td>0.47</td>\n",
       "      <td>1.00</td>\n",
       "      <td>0.00</td>\n",
       "      <td>-1.98</td>\n",
       "      <td>0.05</td>\n",
       "      <td>4.40</td>\n",
       "    </tr>\n",
       "    <tr>\n",
       "      <th>age</th>\n",
       "      <td>-0.06</td>\n",
       "      <td>0.94</td>\n",
       "      <td>0.02</td>\n",
       "      <td>-0.10</td>\n",
       "      <td>-0.01</td>\n",
       "      <td>0.90</td>\n",
       "      <td>0.99</td>\n",
       "      <td>0.00</td>\n",
       "      <td>-2.61</td>\n",
       "      <td>0.01</td>\n",
       "      <td>6.79</td>\n",
       "    </tr>\n",
       "    <tr>\n",
       "      <th>race</th>\n",
       "      <td>0.31</td>\n",
       "      <td>1.37</td>\n",
       "      <td>0.31</td>\n",
       "      <td>-0.29</td>\n",
       "      <td>0.92</td>\n",
       "      <td>0.75</td>\n",
       "      <td>2.50</td>\n",
       "      <td>0.00</td>\n",
       "      <td>1.02</td>\n",
       "      <td>0.31</td>\n",
       "      <td>1.70</td>\n",
       "    </tr>\n",
       "    <tr>\n",
       "      <th>wexp</th>\n",
       "      <td>-0.15</td>\n",
       "      <td>0.86</td>\n",
       "      <td>0.21</td>\n",
       "      <td>-0.57</td>\n",
       "      <td>0.27</td>\n",
       "      <td>0.57</td>\n",
       "      <td>1.30</td>\n",
       "      <td>0.00</td>\n",
       "      <td>-0.71</td>\n",
       "      <td>0.48</td>\n",
       "      <td>1.06</td>\n",
       "    </tr>\n",
       "    <tr>\n",
       "      <th>mar</th>\n",
       "      <td>-0.43</td>\n",
       "      <td>0.65</td>\n",
       "      <td>0.38</td>\n",
       "      <td>-1.18</td>\n",
       "      <td>0.31</td>\n",
       "      <td>0.31</td>\n",
       "      <td>1.37</td>\n",
       "      <td>0.00</td>\n",
       "      <td>-1.14</td>\n",
       "      <td>0.26</td>\n",
       "      <td>1.97</td>\n",
       "    </tr>\n",
       "    <tr>\n",
       "      <th>paro</th>\n",
       "      <td>-0.08</td>\n",
       "      <td>0.92</td>\n",
       "      <td>0.20</td>\n",
       "      <td>-0.47</td>\n",
       "      <td>0.30</td>\n",
       "      <td>0.63</td>\n",
       "      <td>1.35</td>\n",
       "      <td>0.00</td>\n",
       "      <td>-0.43</td>\n",
       "      <td>0.66</td>\n",
       "      <td>0.59</td>\n",
       "    </tr>\n",
       "    <tr>\n",
       "      <th>prio</th>\n",
       "      <td>0.09</td>\n",
       "      <td>1.10</td>\n",
       "      <td>0.03</td>\n",
       "      <td>0.04</td>\n",
       "      <td>0.15</td>\n",
       "      <td>1.04</td>\n",
       "      <td>1.16</td>\n",
       "      <td>0.00</td>\n",
       "      <td>3.19</td>\n",
       "      <td>&lt;0.005</td>\n",
       "      <td>9.48</td>\n",
       "    </tr>\n",
       "  </tbody>\n",
       "</table><br><div>\n",
       "<style scoped>\n",
       "    .dataframe tbody tr th:only-of-type {\n",
       "        vertical-align: middle;\n",
       "    }\n",
       "\n",
       "    .dataframe tbody tr th {\n",
       "        vertical-align: top;\n",
       "    }\n",
       "\n",
       "    .dataframe thead th {\n",
       "        text-align: right;\n",
       "    }\n",
       "</style>\n",
       "<table border=\"1\" class=\"dataframe\">\n",
       "  <tbody>\n",
       "    <tr>\n",
       "      <th>Concordance</th>\n",
       "      <td>0.64</td>\n",
       "    </tr>\n",
       "    <tr>\n",
       "      <th>Partial AIC</th>\n",
       "      <td>1331.50</td>\n",
       "    </tr>\n",
       "    <tr>\n",
       "      <th>log-likelihood ratio test</th>\n",
       "      <td>33.27 on 7 df</td>\n",
       "    </tr>\n",
       "    <tr>\n",
       "      <th>-log2(p) of ll-ratio test</th>\n",
       "      <td>15.37</td>\n",
       "    </tr>\n",
       "  </tbody>\n",
       "</table>\n",
       "</div>"
      ],
      "text/latex": [
       "\\begin{tabular}{lrrrrrrrrrrr}\n",
       "\\toprule\n",
       "{} &  coef &  exp(coef) &  se(coef) &  coef lower 95\\% &  coef upper 95\\% &  exp(coef) lower 95\\% &  exp(coef) upper 95\\% &  cmp to &     z &    p &  -log2(p) \\\\\n",
       "covariate &       &            &           &                 &                 &                      &                      &         &       &      &           \\\\\n",
       "\\midrule\n",
       "fin       & -0.38 &       0.68 &      0.19 &           -0.75 &           -0.00 &                 0.47 &                 1.00 &    0.00 & -1.98 & 0.05 &      4.40 \\\\\n",
       "age       & -0.06 &       0.94 &      0.02 &           -0.10 &           -0.01 &                 0.90 &                 0.99 &    0.00 & -2.61 & 0.01 &      6.79 \\\\\n",
       "race      &  0.31 &       1.37 &      0.31 &           -0.29 &            0.92 &                 0.75 &                 2.50 &    0.00 &  1.02 & 0.31 &      1.70 \\\\\n",
       "wexp      & -0.15 &       0.86 &      0.21 &           -0.57 &            0.27 &                 0.57 &                 1.30 &    0.00 & -0.71 & 0.48 &      1.06 \\\\\n",
       "mar       & -0.43 &       0.65 &      0.38 &           -1.18 &            0.31 &                 0.31 &                 1.37 &    0.00 & -1.14 & 0.26 &      1.97 \\\\\n",
       "paro      & -0.08 &       0.92 &      0.20 &           -0.47 &            0.30 &                 0.63 &                 1.35 &    0.00 & -0.43 & 0.66 &      0.59 \\\\\n",
       "prio      &  0.09 &       1.10 &      0.03 &            0.04 &            0.15 &                 1.04 &                 1.16 &    0.00 &  3.19 & 0.00 &      9.48 \\\\\n",
       "\\bottomrule\n",
       "\\end{tabular}\n"
      ],
      "text/plain": [
       "<lifelines.CoxPHFitter: fitted with 432 total observations, 318 right-censored observations>\n",
       "             duration col = 'week'\n",
       "                event col = 'arrest'\n",
       "      baseline estimation = breslow\n",
       "   number of observations = 432\n",
       "number of events observed = 114\n",
       "   partial log-likelihood = -658.75\n",
       "         time fit was run = 2022-09-06 15:48:46 UTC\n",
       "\n",
       "---\n",
       "            coef  exp(coef)   se(coef)   coef lower 95%   coef upper 95%  exp(coef) lower 95%  exp(coef) upper 95%\n",
       "covariate                                                                                                         \n",
       "fin        -0.38       0.68       0.19            -0.75            -0.00                 0.47                 1.00\n",
       "age        -0.06       0.94       0.02            -0.10            -0.01                 0.90                 0.99\n",
       "race        0.31       1.37       0.31            -0.29             0.92                 0.75                 2.50\n",
       "wexp       -0.15       0.86       0.21            -0.57             0.27                 0.57                 1.30\n",
       "mar        -0.43       0.65       0.38            -1.18             0.31                 0.31                 1.37\n",
       "paro       -0.08       0.92       0.20            -0.47             0.30                 0.63                 1.35\n",
       "prio        0.09       1.10       0.03             0.04             0.15                 1.04                 1.16\n",
       "\n",
       "            cmp to     z      p   -log2(p)\n",
       "covariate                                 \n",
       "fin           0.00 -1.98   0.05       4.40\n",
       "age           0.00 -2.61   0.01       6.79\n",
       "race          0.00  1.02   0.31       1.70\n",
       "wexp          0.00 -0.71   0.48       1.06\n",
       "mar           0.00 -1.14   0.26       1.97\n",
       "paro          0.00 -0.43   0.66       0.59\n",
       "prio          0.00  3.19 <0.005       9.48\n",
       "---\n",
       "Concordance = 0.64\n",
       "Partial AIC = 1331.50\n",
       "log-likelihood ratio test = 33.27 on 7 df\n",
       "-log2(p) of ll-ratio test = 15.37"
      ]
     },
     "metadata": {},
     "output_type": "display_data"
    }
   ],
   "source": [
    "cph = CoxPHFitter()\n",
    "cph.fit(rossi, duration_col='week', event_col='arrest', show_progress=True)\n",
    "\n",
    "cph.print_summary()"
   ]
  },
  {
   "cell_type": "code",
   "execution_count": 97,
   "id": "cdaf626e",
   "metadata": {
    "ExecuteTime": {
     "end_time": "2022-09-06T15:48:46.853306Z",
     "start_time": "2022-09-06T15:48:46.678847Z"
    }
   },
   "outputs": [
    {
     "data": {
      "text/plain": [
       "<AxesSubplot:xlabel='log(HR) (95% CI)'>"
      ]
     },
     "execution_count": 97,
     "metadata": {},
     "output_type": "execute_result"
    },
    {
     "data": {
      "image/png": "[encoded data removed]",
      "text/plain": [
       "<Figure size 432x288 with 1 Axes>"
      ]
     },
     "metadata": {
      "needs_background": "light"
     },
     "output_type": "display_data"
    }
   ],
   "source": [
    "cph.plot()"
   ]
  },
  {
   "cell_type": "code",
   "execution_count": 98,
   "id": "d2118dcb",
   "metadata": {
    "ExecuteTime": {
     "end_time": "2022-09-06T15:48:46.867234Z",
     "start_time": "2022-09-06T15:48:46.858245Z"
    }
   },
   "outputs": [
    {
     "data": {
      "text/plain": [
       "count    432.000000\n",
       "mean      24.597222\n",
       "std        6.113375\n",
       "min       17.000000\n",
       "25%       20.000000\n",
       "50%       23.000000\n",
       "75%       27.000000\n",
       "max       44.000000\n",
       "Name: age, dtype: float64"
      ]
     },
     "execution_count": 98,
     "metadata": {},
     "output_type": "execute_result"
    }
   ],
   "source": [
    "rossi['age'].describe()"
   ]
  },
  {
   "cell_type": "code",
   "execution_count": 99,
   "id": "92c578f5",
   "metadata": {
    "ExecuteTime": {
     "end_time": "2022-09-06T15:48:47.107935Z",
     "start_time": "2022-09-06T15:48:46.869794Z"
    }
   },
   "outputs": [
    {
     "data": {
      "text/plain": [
       "<AxesSubplot:>"
      ]
     },
     "execution_count": 99,
     "metadata": {},
     "output_type": "execute_result"
    },
    {
     "data": {
      "image/png": "[encoded data removed]",
      "text/plain": [
       "<Figure size 432x288 with 1 Axes>"
      ]
     },
     "metadata": {
      "needs_background": "light"
     },
     "output_type": "display_data"
    }
   ],
   "source": [
    "cph.plot_partial_effects_on_outcome(covariates='age', \n",
    "                                    values=[0, 2, 4, 6, 8, 10], \n",
    "                                    cmap='coolwarm')"
   ]
  },
  {
   "cell_type": "code",
   "execution_count": 100,
   "id": "0e98102b",
   "metadata": {
    "ExecuteTime": {
     "end_time": "2022-09-06T15:48:47.121164Z",
     "start_time": "2022-09-06T15:48:47.114575Z"
    }
   },
   "outputs": [
    {
     "data": {
      "text/plain": [
       "covariate\n",
       "fin    -0.379422\n",
       "age    -0.057438\n",
       "race    0.313900\n",
       "wexp   -0.149796\n",
       "mar    -0.433704\n",
       "paro   -0.084871\n",
       "prio    0.091497\n",
       "Name: coef, dtype: float64"
      ]
     },
     "execution_count": 100,
     "metadata": {},
     "output_type": "execute_result"
    }
   ],
   "source": [
    "cph.params_"
   ]
  },
  {
   "cell_type": "markdown",
   "id": "a31785e6",
   "metadata": {},
   "source": [
    "`prio` (the number of prior arrests) - a one unit increase in prio means the the baseline hazard will increase by a factor of exp(0.09)=1.10 - about a 10% increase "
   ]
  },
  {
   "cell_type": "markdown",
   "id": "7a959f2c",
   "metadata": {},
   "source": [
    "`mar` (whether the subject is married or not) - the value of coefficient exp(-.43) is the value of ratio of hazards associated with being married: <br/>\n",
    "\n",
    "$ exp(-.43) = \\dfrac{hazard \\ of \\ married \\ subjects \\ at \\ time \\ t}{hazard \\ of \\ unmarried \\ subjects \\ at \\ time \\ t} $"
   ]
  },
  {
   "cell_type": "markdown",
   "id": "885ae828",
   "metadata": {},
   "source": [
    "**The proportional hazard assumption** is that relationship between two factors that may vary with time is constant. two factors that may vary with time. That is, hazards can change over time, but their ratio between levels remains a constant."
   ]
  },
  {
   "cell_type": "code",
   "execution_count": 101,
   "id": "24d972f6",
   "metadata": {
    "ExecuteTime": {
     "end_time": "2022-09-06T15:48:48.002172Z",
     "start_time": "2022-09-06T15:48:47.992789Z"
    }
   },
   "outputs": [
    {
     "data": {
      "text/html": [
       "<div>\n",
       "<style scoped>\n",
       "    .dataframe tbody tr th:only-of-type {\n",
       "        vertical-align: middle;\n",
       "    }\n",
       "\n",
       "    .dataframe tbody tr th {\n",
       "        vertical-align: top;\n",
       "    }\n",
       "\n",
       "    .dataframe thead th {\n",
       "        text-align: right;\n",
       "    }\n",
       "</style>\n",
       "<table border=\"1\" class=\"dataframe\">\n",
       "  <thead>\n",
       "    <tr style=\"text-align: right;\">\n",
       "      <th></th>\n",
       "      <th>baseline hazard</th>\n",
       "    </tr>\n",
       "  </thead>\n",
       "  <tbody>\n",
       "    <tr>\n",
       "      <th>1.0</th>\n",
       "      <td>0.001958</td>\n",
       "    </tr>\n",
       "    <tr>\n",
       "      <th>2.0</th>\n",
       "      <td>0.001964</td>\n",
       "    </tr>\n",
       "    <tr>\n",
       "      <th>3.0</th>\n",
       "      <td>0.001965</td>\n",
       "    </tr>\n",
       "    <tr>\n",
       "      <th>4.0</th>\n",
       "      <td>0.001969</td>\n",
       "    </tr>\n",
       "    <tr>\n",
       "      <th>5.0</th>\n",
       "      <td>0.001975</td>\n",
       "    </tr>\n",
       "  </tbody>\n",
       "</table>\n",
       "</div>"
      ],
      "text/plain": [
       "     baseline hazard\n",
       "1.0         0.001958\n",
       "2.0         0.001964\n",
       "3.0         0.001965\n",
       "4.0         0.001969\n",
       "5.0         0.001975"
      ]
     },
     "execution_count": 101,
     "metadata": {},
     "output_type": "execute_result"
    }
   ],
   "source": [
    "cph.baseline_hazard_.head(5)"
   ]
  },
  {
   "cell_type": "code",
   "execution_count": 102,
   "id": "4b0e5b3b",
   "metadata": {
    "ExecuteTime": {
     "end_time": "2022-09-06T15:48:48.200037Z",
     "start_time": "2022-09-06T15:48:48.171764Z"
    }
   },
   "outputs": [
    {
     "data": {
      "text/html": [
       "<div>\n",
       "<style scoped>\n",
       "    .dataframe tbody tr th:only-of-type {\n",
       "        vertical-align: middle;\n",
       "    }\n",
       "\n",
       "    .dataframe tbody tr th {\n",
       "        vertical-align: top;\n",
       "    }\n",
       "\n",
       "    .dataframe thead th {\n",
       "        text-align: right;\n",
       "    }\n",
       "</style>\n",
       "<table border=\"1\" class=\"dataframe\">\n",
       "  <thead>\n",
       "    <tr style=\"text-align: right;\">\n",
       "      <th></th>\n",
       "      <th>0</th>\n",
       "      <th>1</th>\n",
       "      <th>2</th>\n",
       "      <th>3</th>\n",
       "      <th>4</th>\n",
       "      <th>5</th>\n",
       "      <th>6</th>\n",
       "      <th>7</th>\n",
       "      <th>8</th>\n",
       "      <th>9</th>\n",
       "      <th>...</th>\n",
       "      <th>422</th>\n",
       "      <th>423</th>\n",
       "      <th>424</th>\n",
       "      <th>425</th>\n",
       "      <th>426</th>\n",
       "      <th>427</th>\n",
       "      <th>428</th>\n",
       "      <th>429</th>\n",
       "      <th>430</th>\n",
       "      <th>431</th>\n",
       "    </tr>\n",
       "  </thead>\n",
       "  <tbody>\n",
       "    <tr>\n",
       "      <th>1.0</th>\n",
       "      <td>0.997616</td>\n",
       "      <td>0.993695</td>\n",
       "      <td>0.994083</td>\n",
       "      <td>0.999045</td>\n",
       "      <td>0.997626</td>\n",
       "      <td>0.997578</td>\n",
       "      <td>0.998865</td>\n",
       "      <td>0.997827</td>\n",
       "      <td>0.995453</td>\n",
       "      <td>0.997462</td>\n",
       "      <td>...</td>\n",
       "      <td>0.997826</td>\n",
       "      <td>0.996005</td>\n",
       "      <td>0.996031</td>\n",
       "      <td>0.997774</td>\n",
       "      <td>0.998892</td>\n",
       "      <td>0.999184</td>\n",
       "      <td>0.997033</td>\n",
       "      <td>0.998866</td>\n",
       "      <td>0.998170</td>\n",
       "      <td>0.998610</td>\n",
       "    </tr>\n",
       "    <tr>\n",
       "      <th>2.0</th>\n",
       "      <td>0.995230</td>\n",
       "      <td>0.987411</td>\n",
       "      <td>0.988183</td>\n",
       "      <td>0.998089</td>\n",
       "      <td>0.995250</td>\n",
       "      <td>0.995154</td>\n",
       "      <td>0.997728</td>\n",
       "      <td>0.995653</td>\n",
       "      <td>0.990914</td>\n",
       "      <td>0.994922</td>\n",
       "      <td>...</td>\n",
       "      <td>0.995649</td>\n",
       "      <td>0.992014</td>\n",
       "      <td>0.992067</td>\n",
       "      <td>0.995547</td>\n",
       "      <td>0.997782</td>\n",
       "      <td>0.998366</td>\n",
       "      <td>0.994065</td>\n",
       "      <td>0.997730</td>\n",
       "      <td>0.996337</td>\n",
       "      <td>0.997217</td>\n",
       "    </tr>\n",
       "    <tr>\n",
       "      <th>3.0</th>\n",
       "      <td>0.992848</td>\n",
       "      <td>0.981162</td>\n",
       "      <td>0.982314</td>\n",
       "      <td>0.997133</td>\n",
       "      <td>0.992878</td>\n",
       "      <td>0.992734</td>\n",
       "      <td>0.996592</td>\n",
       "      <td>0.993482</td>\n",
       "      <td>0.986392</td>\n",
       "      <td>0.992388</td>\n",
       "      <td>...</td>\n",
       "      <td>0.993476</td>\n",
       "      <td>0.988037</td>\n",
       "      <td>0.988115</td>\n",
       "      <td>0.993324</td>\n",
       "      <td>0.996673</td>\n",
       "      <td>0.997548</td>\n",
       "      <td>0.991105</td>\n",
       "      <td>0.996595</td>\n",
       "      <td>0.994507</td>\n",
       "      <td>0.995826</td>\n",
       "    </tr>\n",
       "    <tr>\n",
       "      <th>4.0</th>\n",
       "      <td>0.990468</td>\n",
       "      <td>0.974941</td>\n",
       "      <td>0.976468</td>\n",
       "      <td>0.996176</td>\n",
       "      <td>0.990507</td>\n",
       "      <td>0.990316</td>\n",
       "      <td>0.995455</td>\n",
       "      <td>0.991311</td>\n",
       "      <td>0.981882</td>\n",
       "      <td>0.989855</td>\n",
       "      <td>...</td>\n",
       "      <td>0.991304</td>\n",
       "      <td>0.984067</td>\n",
       "      <td>0.984171</td>\n",
       "      <td>0.991100</td>\n",
       "      <td>0.995563</td>\n",
       "      <td>0.996729</td>\n",
       "      <td>0.988147</td>\n",
       "      <td>0.995458</td>\n",
       "      <td>0.992676</td>\n",
       "      <td>0.994433</td>\n",
       "    </tr>\n",
       "    <tr>\n",
       "      <th>5.0</th>\n",
       "      <td>0.988085</td>\n",
       "      <td>0.968739</td>\n",
       "      <td>0.970639</td>\n",
       "      <td>0.995216</td>\n",
       "      <td>0.988135</td>\n",
       "      <td>0.987895</td>\n",
       "      <td>0.994315</td>\n",
       "      <td>0.989139</td>\n",
       "      <td>0.977378</td>\n",
       "      <td>0.987320</td>\n",
       "      <td>...</td>\n",
       "      <td>0.989129</td>\n",
       "      <td>0.980101</td>\n",
       "      <td>0.980231</td>\n",
       "      <td>0.988875</td>\n",
       "      <td>0.994450</td>\n",
       "      <td>0.995909</td>\n",
       "      <td>0.985189</td>\n",
       "      <td>0.994319</td>\n",
       "      <td>0.990843</td>\n",
       "      <td>0.993039</td>\n",
       "    </tr>\n",
       "  </tbody>\n",
       "</table>\n",
       "<p>5 rows × 432 columns</p>\n",
       "</div>"
      ],
      "text/plain": [
       "          0         1         2         3         4         5         6    \\\n",
       "1.0  0.997616  0.993695  0.994083  0.999045  0.997626  0.997578  0.998865   \n",
       "2.0  0.995230  0.987411  0.988183  0.998089  0.995250  0.995154  0.997728   \n",
       "3.0  0.992848  0.981162  0.982314  0.997133  0.992878  0.992734  0.996592   \n",
       "4.0  0.990468  0.974941  0.976468  0.996176  0.990507  0.990316  0.995455   \n",
       "5.0  0.988085  0.968739  0.970639  0.995216  0.988135  0.987895  0.994315   \n",
       "\n",
       "          7         8         9    ...       422       423       424  \\\n",
       "1.0  0.997827  0.995453  0.997462  ...  0.997826  0.996005  0.996031   \n",
       "2.0  0.995653  0.990914  0.994922  ...  0.995649  0.992014  0.992067   \n",
       "3.0  0.993482  0.986392  0.992388  ...  0.993476  0.988037  0.988115   \n",
       "4.0  0.991311  0.981882  0.989855  ...  0.991304  0.984067  0.984171   \n",
       "5.0  0.989139  0.977378  0.987320  ...  0.989129  0.980101  0.980231   \n",
       "\n",
       "          425       426       427       428       429       430       431  \n",
       "1.0  0.997774  0.998892  0.999184  0.997033  0.998866  0.998170  0.998610  \n",
       "2.0  0.995547  0.997782  0.998366  0.994065  0.997730  0.996337  0.997217  \n",
       "3.0  0.993324  0.996673  0.997548  0.991105  0.996595  0.994507  0.995826  \n",
       "4.0  0.991100  0.995563  0.996729  0.988147  0.995458  0.992676  0.994433  \n",
       "5.0  0.988875  0.994450  0.995909  0.985189  0.994319  0.990843  0.993039  \n",
       "\n",
       "[5 rows x 432 columns]"
      ]
     },
     "execution_count": 102,
     "metadata": {},
     "output_type": "execute_result"
    }
   ],
   "source": [
    "cph.predict_survival_function(rossi).head()"
   ]
  },
  {
   "cell_type": "code",
   "execution_count": 103,
   "id": "39233a24",
   "metadata": {
    "ExecuteTime": {
     "end_time": "2022-09-06T15:48:48.446510Z",
     "start_time": "2022-09-06T15:48:48.434609Z"
    }
   },
   "outputs": [
    {
     "data": {
      "text/plain": [
       "0    1.219126\n",
       "1    3.230250\n",
       "2    3.031058\n",
       "3    0.487712\n",
       "4    1.214025\n",
       "dtype: float64"
      ]
     },
     "execution_count": 103,
     "metadata": {},
     "output_type": "execute_result"
    }
   ],
   "source": [
    "cph.predict_partial_hazard(rossi).head()"
   ]
  },
  {
   "cell_type": "code",
   "execution_count": null,
   "id": "1b13e158",
   "metadata": {},
   "outputs": [],
   "source": []
  },
  {
   "cell_type": "markdown",
   "id": "ca95f348",
   "metadata": {},
   "source": [
    "### Goodness of fit"
   ]
  },
  {
   "cell_type": "markdown",
   "id": "9d5554b5",
   "metadata": {},
   "source": [
    "1. inspect the survival probability calibration plot "
   ]
  },
  {
   "cell_type": "code",
   "execution_count": 104,
   "id": "dafb28bc",
   "metadata": {
    "ExecuteTime": {
     "end_time": "2022-09-06T15:48:49.461918Z",
     "start_time": "2022-09-06T15:48:49.456293Z"
    }
   },
   "outputs": [],
   "source": [
    "from lifelines.calibration import survival_probability_calibration"
   ]
  },
  {
   "cell_type": "code",
   "execution_count": 105,
   "id": "377091ff",
   "metadata": {
    "ExecuteTime": {
     "end_time": "2022-09-06T15:48:50.471907Z",
     "start_time": "2022-09-06T15:48:49.881609Z"
    }
   },
   "outputs": [
    {
     "name": "stdout",
     "output_type": "stream",
     "text": [
      "ICI =  0.010252513188766254\n",
      "E50 =  0.00963384110482235\n"
     ]
    },
    {
     "data": {
      "text/plain": [
       "(<AxesSubplot:title={'center':'Smoothed calibration curve of \\npredicted vs observed probabilities of t ≤ 25 mortality'}, xlabel='Predicted probability of \\nt ≤ 25 mortality', ylabel='Observed probability of \\nt ≤ 25 mortality'>,\n",
       " 0.010252513188766254,\n",
       " 0.00963384110482235)"
      ]
     },
     "execution_count": 105,
     "metadata": {},
     "output_type": "execute_result"
    },
    {
     "data": {
      "image/png": "[encoded data removed]",
      "text/plain": [
       "<Figure size 432x288 with 2 Axes>"
      ]
     },
     "metadata": {
      "needs_background": "light"
     },
     "output_type": "display_data"
    }
   ],
   "source": [
    "survival_probability_calibration(cph, rossi, t0=25)"
   ]
  },
  {
   "cell_type": "code",
   "execution_count": null,
   "id": "10f21502",
   "metadata": {},
   "outputs": [],
   "source": []
  },
  {
   "cell_type": "markdown",
   "id": "08d4b213",
   "metadata": {},
   "source": [
    "2. look at the concordance-index  <br/>\n",
    "Evaluates the accuracy of the ranking of predicted time"
   ]
  },
  {
   "cell_type": "markdown",
   "id": "d57ca533",
   "metadata": {},
   "source": [
    "It is in fact a generalization of AUC, another common loss function, and is interpreted similarly:\n",
    "\n",
    "- 0.5 is the expected result from random predictions,\n",
    "- 1.0 is perfect concordance and,\n",
    "- 0.0 is perfect anti-concordance (multiply predictions with -1 to get 1.0)"
   ]
  },
  {
   "cell_type": "markdown",
   "id": "b922a0cd",
   "metadata": {},
   "source": [
    "For the Cox model, it depends on the estimated hazard-ratio. If the ratio, 𝑒𝛽 is >1 then larger values of 𝑋 imply larger risks thus shorter times. So if $𝑒^𝛽$>1 a couple is concordant if 𝑋1>𝑋2 and 𝑇1<𝑇2, and if $𝑒^𝛽$<1 a couple is concordant if 𝑋1<𝑋2 and 𝑇1<𝑇2."
   ]
  },
  {
   "cell_type": "code",
   "execution_count": 106,
   "id": "54314724",
   "metadata": {
    "ExecuteTime": {
     "end_time": "2022-09-06T15:49:00.385483Z",
     "start_time": "2022-09-06T15:49:00.379559Z"
    }
   },
   "outputs": [
    {
     "data": {
      "text/plain": [
       "0.6403292470997135"
      ]
     },
     "execution_count": 106,
     "metadata": {},
     "output_type": "execute_result"
    }
   ],
   "source": [
    "cph.concordance_index_"
   ]
  },
  {
   "cell_type": "markdown",
   "id": "eb07e90c",
   "metadata": {},
   "source": [
    "3. look at the log-likelihood test <br/>\n",
    "Compare the existing model (with all the covariates) to the trivial model of no covariates"
   ]
  },
  {
   "cell_type": "code",
   "execution_count": 22,
   "id": "a1e7e5a4",
   "metadata": {
    "ExecuteTime": {
     "end_time": "2022-09-06T09:36:16.004276Z",
     "start_time": "2022-09-06T09:36:15.972324Z"
    }
   },
   "outputs": [
    {
     "name": "stderr",
     "output_type": "stream",
     "text": [
      "/Users/antonermak/opt/anaconda3/lib/python3.9/site-packages/lifelines/statistics.py:143: FutureWarning: In future versions `DataFrame.to_latex` is expected to utilise the base implementation of `Styler.to_latex` for formatting and rendering. The arguments signature may therefore change. It is recommended instead to use `DataFrame.style.to_latex` which also contains additional functionality.\n",
      "  return self.summary.to_latex()\n"
     ]
    },
    {
     "data": {
      "text/html": [
       "<div>\n",
       "<style scoped>\n",
       "    .dataframe tbody tr th:only-of-type {\n",
       "        vertical-align: middle;\n",
       "    }\n",
       "\n",
       "    .dataframe tbody tr th {\n",
       "        vertical-align: top;\n",
       "    }\n",
       "\n",
       "    .dataframe thead th {\n",
       "        text-align: right;\n",
       "    }\n",
       "</style>\n",
       "<table border=\"1\" class=\"dataframe\">\n",
       "  <tbody>\n",
       "    <tr>\n",
       "      <th>null_distribution</th>\n",
       "      <td>chi squared</td>\n",
       "    </tr>\n",
       "    <tr>\n",
       "      <th>degrees_freedom</th>\n",
       "      <td>7</td>\n",
       "    </tr>\n",
       "    <tr>\n",
       "      <th>test_name</th>\n",
       "      <td>log-likelihood ratio test</td>\n",
       "    </tr>\n",
       "  </tbody>\n",
       "</table>\n",
       "</div><table border=\"1\" class=\"dataframe\">\n",
       "  <thead>\n",
       "    <tr style=\"text-align: right;\">\n",
       "      <th></th>\n",
       "      <th>test_statistic</th>\n",
       "      <th>p</th>\n",
       "      <th>-log2(p)</th>\n",
       "    </tr>\n",
       "  </thead>\n",
       "  <tbody>\n",
       "    <tr>\n",
       "      <th>0</th>\n",
       "      <td>33.27</td>\n",
       "      <td>&lt;0.005</td>\n",
       "      <td>15.37</td>\n",
       "    </tr>\n",
       "  </tbody>\n",
       "</table>"
      ],
      "text/latex": [
       "\\begin{tabular}{lrrr}\n",
       "\\toprule\n",
       "{} &  test\\_statistic &         p &   -log2(p) \\\\\n",
       "\\midrule\n",
       "0 &       33.265946 &  0.000024 &  15.369604 \\\\\n",
       "\\bottomrule\n",
       "\\end{tabular}\n"
      ],
      "text/plain": [
       "<lifelines.StatisticalResult: log-likelihood ratio test>\n",
       "null_distribution = chi squared\n",
       "  degrees_freedom = 7\n",
       "        test_name = log-likelihood ratio test\n",
       "\n",
       "---\n",
       " test_statistic      p  -log2(p)\n",
       "          33.27 <0.005     15.37"
      ]
     },
     "execution_count": 22,
     "metadata": {},
     "output_type": "execute_result"
    }
   ],
   "source": [
    "cph.log_likelihood_ratio_test()"
   ]
  },
  {
   "cell_type": "markdown",
   "id": "a80b7e28",
   "metadata": {},
   "source": [
    "4. check the proportional hazards assumption"
   ]
  },
  {
   "cell_type": "markdown",
   "id": "e320bb1a",
   "metadata": {},
   "source": [
    "### Checking the proportional hazards assumption"
   ]
  },
  {
   "cell_type": "code",
   "execution_count": 24,
   "id": "a23c7976",
   "metadata": {
    "ExecuteTime": {
     "end_time": "2022-09-06T09:37:12.754274Z",
     "start_time": "2022-09-06T09:37:12.618426Z"
    }
   },
   "outputs": [
    {
     "name": "stdout",
     "output_type": "stream",
     "text": [
      "The ``p_value_threshold`` is set at 0.01. Even under the null hypothesis of no violations, some\n",
      "covariates will be below the threshold by chance. This is compounded when there are many covariates.\n",
      "Similarly, when there are lots of observations, even minor deviances from the proportional hazard\n",
      "assumption will be flagged.\n",
      "\n",
      "With that in mind, it's best to use a combination of statistical tests and visual tests to determine\n",
      "the most serious violations. Produce visual plots using ``check_assumptions(..., show_plots=True)``\n",
      "and looking for non-constant lines. See link [A] below for a full example.\n",
      "\n"
     ]
    },
    {
     "name": "stderr",
     "output_type": "stream",
     "text": [
      "/Users/antonermak/opt/anaconda3/lib/python3.9/site-packages/lifelines/statistics.py:143: FutureWarning: In future versions `DataFrame.to_latex` is expected to utilise the base implementation of `Styler.to_latex` for formatting and rendering. The arguments signature may therefore change. It is recommended instead to use `DataFrame.style.to_latex` which also contains additional functionality.\n",
      "  return self.summary.to_latex()\n"
     ]
    },
    {
     "data": {
      "text/html": [
       "<div>\n",
       "<style scoped>\n",
       "    .dataframe tbody tr th:only-of-type {\n",
       "        vertical-align: middle;\n",
       "    }\n",
       "\n",
       "    .dataframe tbody tr th {\n",
       "        vertical-align: top;\n",
       "    }\n",
       "\n",
       "    .dataframe thead th {\n",
       "        text-align: right;\n",
       "    }\n",
       "</style>\n",
       "<table border=\"1\" class=\"dataframe\">\n",
       "  <tbody>\n",
       "    <tr>\n",
       "      <th>null_distribution</th>\n",
       "      <td>chi squared</td>\n",
       "    </tr>\n",
       "    <tr>\n",
       "      <th>degrees_of_freedom</th>\n",
       "      <td>1</td>\n",
       "    </tr>\n",
       "    <tr>\n",
       "      <th>model</th>\n",
       "      <td>&lt;lifelines.CoxPHFitter: fitted with 432 total ...</td>\n",
       "    </tr>\n",
       "    <tr>\n",
       "      <th>test_name</th>\n",
       "      <td>proportional_hazard_test</td>\n",
       "    </tr>\n",
       "  </tbody>\n",
       "</table>\n",
       "</div><table border=\"1\" class=\"dataframe\">\n",
       "  <thead>\n",
       "    <tr style=\"text-align: right;\">\n",
       "      <th></th>\n",
       "      <th></th>\n",
       "      <th>test_statistic</th>\n",
       "      <th>p</th>\n",
       "      <th>-log2(p)</th>\n",
       "    </tr>\n",
       "  </thead>\n",
       "  <tbody>\n",
       "    <tr>\n",
       "      <th rowspan=\"2\" valign=\"top\">age</th>\n",
       "      <th>km</th>\n",
       "      <td>11.03</td>\n",
       "      <td>&lt;0.005</td>\n",
       "      <td>10.12</td>\n",
       "    </tr>\n",
       "    <tr>\n",
       "      <th>rank</th>\n",
       "      <td>11.45</td>\n",
       "      <td>&lt;0.005</td>\n",
       "      <td>10.45</td>\n",
       "    </tr>\n",
       "    <tr>\n",
       "      <th rowspan=\"2\" valign=\"top\">fin</th>\n",
       "      <th>km</th>\n",
       "      <td>0.02</td>\n",
       "      <td>0.89</td>\n",
       "      <td>0.17</td>\n",
       "    </tr>\n",
       "    <tr>\n",
       "      <th>rank</th>\n",
       "      <td>0.02</td>\n",
       "      <td>0.90</td>\n",
       "      <td>0.15</td>\n",
       "    </tr>\n",
       "    <tr>\n",
       "      <th rowspan=\"2\" valign=\"top\">mar</th>\n",
       "      <th>km</th>\n",
       "      <td>0.60</td>\n",
       "      <td>0.44</td>\n",
       "      <td>1.19</td>\n",
       "    </tr>\n",
       "    <tr>\n",
       "      <th>rank</th>\n",
       "      <td>0.71</td>\n",
       "      <td>0.40</td>\n",
       "      <td>1.32</td>\n",
       "    </tr>\n",
       "    <tr>\n",
       "      <th rowspan=\"2\" valign=\"top\">paro</th>\n",
       "      <th>km</th>\n",
       "      <td>0.12</td>\n",
       "      <td>0.73</td>\n",
       "      <td>0.45</td>\n",
       "    </tr>\n",
       "    <tr>\n",
       "      <th>rank</th>\n",
       "      <td>0.13</td>\n",
       "      <td>0.71</td>\n",
       "      <td>0.49</td>\n",
       "    </tr>\n",
       "    <tr>\n",
       "      <th rowspan=\"2\" valign=\"top\">prio</th>\n",
       "      <th>km</th>\n",
       "      <td>0.02</td>\n",
       "      <td>0.88</td>\n",
       "      <td>0.18</td>\n",
       "    </tr>\n",
       "    <tr>\n",
       "      <th>rank</th>\n",
       "      <td>0.02</td>\n",
       "      <td>0.89</td>\n",
       "      <td>0.17</td>\n",
       "    </tr>\n",
       "    <tr>\n",
       "      <th rowspan=\"2\" valign=\"top\">race</th>\n",
       "      <th>km</th>\n",
       "      <td>1.44</td>\n",
       "      <td>0.23</td>\n",
       "      <td>2.12</td>\n",
       "    </tr>\n",
       "    <tr>\n",
       "      <th>rank</th>\n",
       "      <td>1.43</td>\n",
       "      <td>0.23</td>\n",
       "      <td>2.11</td>\n",
       "    </tr>\n",
       "    <tr>\n",
       "      <th rowspan=\"2\" valign=\"top\">wexp</th>\n",
       "      <th>km</th>\n",
       "      <td>7.48</td>\n",
       "      <td>0.01</td>\n",
       "      <td>7.32</td>\n",
       "    </tr>\n",
       "    <tr>\n",
       "      <th>rank</th>\n",
       "      <td>7.31</td>\n",
       "      <td>0.01</td>\n",
       "      <td>7.19</td>\n",
       "    </tr>\n",
       "  </tbody>\n",
       "</table>"
      ],
      "text/latex": [
       "\\begin{tabular}{llrrr}\n",
       "\\toprule\n",
       "     &      &  test\\_statistic &         p &   -log2(p) \\\\\n",
       "\\midrule\n",
       "age & km &       11.030294 &  0.000896 &  10.123651 \\\\\n",
       "     & rank &       11.453497 &  0.000714 &  10.452605 \\\\\n",
       "fin & km &        0.019130 &  0.889994 &   0.168132 \\\\\n",
       "     & rank &        0.015056 &  0.902343 &   0.148252 \\\\\n",
       "mar & km &        0.600874 &  0.438245 &   1.190192 \\\\\n",
       "     & rank &        0.709474 &  0.399619 &   1.323304 \\\\\n",
       "paro & km &        0.115721 &  0.733723 &   0.446693 \\\\\n",
       "     & rank &        0.134266 &  0.714049 &   0.485905 \\\\\n",
       "prio & km &        0.022546 &  0.880645 &   0.183368 \\\\\n",
       "     & rank &        0.018834 &  0.890843 &   0.166757 \\\\\n",
       "race & km &        1.437456 &  0.230551 &   2.116839 \\\\\n",
       "     & rank &        1.426479 &  0.232340 &   2.105691 \\\\\n",
       "wexp & km &        7.475471 &  0.006255 &   7.320885 \\\\\n",
       "     & rank &        7.314934 &  0.006838 &   7.192127 \\\\\n",
       "\\bottomrule\n",
       "\\end{tabular}\n"
      ],
      "text/plain": [
       "<lifelines.StatisticalResult: proportional_hazard_test>\n",
       " null_distribution = chi squared\n",
       "degrees_of_freedom = 1\n",
       "             model = <lifelines.CoxPHFitter: fitted with 432 total observations, 318 right-censored observations>\n",
       "         test_name = proportional_hazard_test\n",
       "\n",
       "---\n",
       "           test_statistic      p  -log2(p)\n",
       "age  km             11.03 <0.005     10.12\n",
       "     rank           11.45 <0.005     10.45\n",
       "fin  km              0.02   0.89      0.17\n",
       "     rank            0.02   0.90      0.15\n",
       "mar  km              0.60   0.44      1.19\n",
       "     rank            0.71   0.40      1.32\n",
       "paro km              0.12   0.73      0.45\n",
       "     rank            0.13   0.71      0.49\n",
       "prio km              0.02   0.88      0.18\n",
       "     rank            0.02   0.89      0.17\n",
       "race km              1.44   0.23      2.12\n",
       "     rank            1.43   0.23      2.11\n",
       "wexp km              7.48   0.01      7.32\n",
       "     rank            7.31   0.01      7.19"
      ]
     },
     "metadata": {},
     "output_type": "display_data"
    },
    {
     "name": "stdout",
     "output_type": "stream",
     "text": [
      "\n",
      "\n",
      "1. Variable 'age' failed the non-proportional test: p-value is 0.0007.\n",
      "\n",
      "   Advice 1: the functional form of the variable 'age' might be incorrect. That is, there may be\n",
      "non-linear terms missing. The proportional hazard test used is very sensitive to incorrect\n",
      "functional forms. See documentation in link [D] below on how to specify a functional form.\n",
      "\n",
      "   Advice 2: try binning the variable 'age' using pd.cut, and then specify it in `strata=['age',\n",
      "...]` in the call in `.fit`. See documentation in link [B] below.\n",
      "\n",
      "   Advice 3: try adding an interaction term with your time variable. See documentation in link [C]\n",
      "below.\n",
      "\n",
      "\n",
      "2. Variable 'wexp' failed the non-proportional test: p-value is 0.0063.\n",
      "\n",
      "   Advice: with so few unique values (only 2), you can include `strata=['wexp', ...]` in the call in\n",
      "`.fit`. See documentation in link [E] below.\n",
      "\n",
      "---\n",
      "[A]  https://lifelines.readthedocs.io/en/latest/jupyter_notebooks/Proportional%20hazard%20assumption.html\n",
      "[B]  https://lifelines.readthedocs.io/en/latest/jupyter_notebooks/Proportional%20hazard%20assumption.html#Bin-variable-and-stratify-on-it\n",
      "[C]  https://lifelines.readthedocs.io/en/latest/jupyter_notebooks/Proportional%20hazard%20assumption.html#Introduce-time-varying-covariates\n",
      "[D]  https://lifelines.readthedocs.io/en/latest/jupyter_notebooks/Proportional%20hazard%20assumption.html#Modify-the-functional-form\n",
      "[E]  https://lifelines.readthedocs.io/en/latest/jupyter_notebooks/Proportional%20hazard%20assumption.html#Stratification\n",
      "\n"
     ]
    },
    {
     "data": {
      "text/plain": [
       "[]"
      ]
     },
     "execution_count": 24,
     "metadata": {},
     "output_type": "execute_result"
    }
   ],
   "source": [
    "cph.check_assumptions(rossi)"
   ]
  },
  {
   "cell_type": "markdown",
   "id": "9a6de962",
   "metadata": {},
   "source": [
    "**Stratification** <br/>\n",
    "Sometimes one or more covariates may not obey the proportional hazard assumption. In this case, we can allow the covariate(s) to still be including in the model without estimating its effect."
   ]
  },
  {
   "cell_type": "code",
   "execution_count": 49,
   "id": "29feef7a",
   "metadata": {
    "ExecuteTime": {
     "end_time": "2022-09-06T12:16:22.082874Z",
     "start_time": "2022-09-06T12:16:21.879076Z"
    }
   },
   "outputs": [
    {
     "name": "stderr",
     "output_type": "stream",
     "text": [
      "/Users/antonermak/opt/anaconda3/lib/python3.9/site-packages/lifelines/utils/printer.py:62: FutureWarning: In future versions `DataFrame.to_latex` is expected to utilise the base implementation of `Styler.to_latex` for formatting and rendering. The arguments signature may therefore change. It is recommended instead to use `DataFrame.style.to_latex` which also contains additional functionality.\n",
      "  return summary_df[columns].to_latex(float_format=\"%.\" + str(self.decimals) + \"f\")\n"
     ]
    },
    {
     "data": {
      "text/html": [
       "<div>\n",
       "<style scoped>\n",
       "    .dataframe tbody tr th:only-of-type {\n",
       "        vertical-align: middle;\n",
       "    }\n",
       "\n",
       "    .dataframe tbody tr th {\n",
       "        vertical-align: top;\n",
       "    }\n",
       "\n",
       "    .dataframe thead th {\n",
       "        text-align: right;\n",
       "    }\n",
       "</style>\n",
       "<table border=\"1\" class=\"dataframe\">\n",
       "  <tbody>\n",
       "    <tr>\n",
       "      <th>model</th>\n",
       "      <td>lifelines.CoxPHFitter</td>\n",
       "    </tr>\n",
       "    <tr>\n",
       "      <th>duration col</th>\n",
       "      <td>'week'</td>\n",
       "    </tr>\n",
       "    <tr>\n",
       "      <th>event col</th>\n",
       "      <td>'arrest'</td>\n",
       "    </tr>\n",
       "    <tr>\n",
       "      <th>strata</th>\n",
       "      <td>[wexp]</td>\n",
       "    </tr>\n",
       "    <tr>\n",
       "      <th>baseline estimation</th>\n",
       "      <td>breslow</td>\n",
       "    </tr>\n",
       "    <tr>\n",
       "      <th>number of observations</th>\n",
       "      <td>432</td>\n",
       "    </tr>\n",
       "    <tr>\n",
       "      <th>number of events observed</th>\n",
       "      <td>114</td>\n",
       "    </tr>\n",
       "    <tr>\n",
       "      <th>partial log-likelihood</th>\n",
       "      <td>-580.89</td>\n",
       "    </tr>\n",
       "    <tr>\n",
       "      <th>time fit was run</th>\n",
       "      <td>2022-09-06 12:16:21 UTC</td>\n",
       "    </tr>\n",
       "  </tbody>\n",
       "</table>\n",
       "</div><table border=\"1\" class=\"dataframe\">\n",
       "  <thead>\n",
       "    <tr style=\"text-align: right;\">\n",
       "      <th style=\"min-width: 12px;\"></th>\n",
       "      <th style=\"min-width: 12px;\">coef</th>\n",
       "      <th style=\"min-width: 12px;\">exp(coef)</th>\n",
       "      <th style=\"min-width: 12px;\">se(coef)</th>\n",
       "      <th style=\"min-width: 12px;\">coef lower 95%</th>\n",
       "      <th style=\"min-width: 12px;\">coef upper 95%</th>\n",
       "      <th style=\"min-width: 12px;\">exp(coef) lower 95%</th>\n",
       "      <th style=\"min-width: 12px;\">exp(coef) upper 95%</th>\n",
       "      <th style=\"min-width: 12px;\">cmp to</th>\n",
       "      <th style=\"min-width: 12px;\">z</th>\n",
       "      <th style=\"min-width: 12px;\">p</th>\n",
       "      <th style=\"min-width: 12px;\">-log2(p)</th>\n",
       "    </tr>\n",
       "  </thead>\n",
       "  <tbody>\n",
       "    <tr>\n",
       "      <th>fin</th>\n",
       "      <td>-0.38</td>\n",
       "      <td>0.68</td>\n",
       "      <td>0.19</td>\n",
       "      <td>-0.76</td>\n",
       "      <td>-0.01</td>\n",
       "      <td>0.47</td>\n",
       "      <td>0.99</td>\n",
       "      <td>0.00</td>\n",
       "      <td>-1.99</td>\n",
       "      <td>0.05</td>\n",
       "      <td>4.42</td>\n",
       "    </tr>\n",
       "    <tr>\n",
       "      <th>age</th>\n",
       "      <td>-0.06</td>\n",
       "      <td>0.94</td>\n",
       "      <td>0.02</td>\n",
       "      <td>-0.10</td>\n",
       "      <td>-0.01</td>\n",
       "      <td>0.90</td>\n",
       "      <td>0.99</td>\n",
       "      <td>0.00</td>\n",
       "      <td>-2.64</td>\n",
       "      <td>0.01</td>\n",
       "      <td>6.91</td>\n",
       "    </tr>\n",
       "    <tr>\n",
       "      <th>race</th>\n",
       "      <td>0.31</td>\n",
       "      <td>1.36</td>\n",
       "      <td>0.31</td>\n",
       "      <td>-0.30</td>\n",
       "      <td>0.91</td>\n",
       "      <td>0.74</td>\n",
       "      <td>2.49</td>\n",
       "      <td>0.00</td>\n",
       "      <td>1.00</td>\n",
       "      <td>0.32</td>\n",
       "      <td>1.65</td>\n",
       "    </tr>\n",
       "    <tr>\n",
       "      <th>mar</th>\n",
       "      <td>-0.45</td>\n",
       "      <td>0.64</td>\n",
       "      <td>0.38</td>\n",
       "      <td>-1.20</td>\n",
       "      <td>0.29</td>\n",
       "      <td>0.30</td>\n",
       "      <td>1.34</td>\n",
       "      <td>0.00</td>\n",
       "      <td>-1.19</td>\n",
       "      <td>0.23</td>\n",
       "      <td>2.09</td>\n",
       "    </tr>\n",
       "    <tr>\n",
       "      <th>paro</th>\n",
       "      <td>-0.08</td>\n",
       "      <td>0.92</td>\n",
       "      <td>0.20</td>\n",
       "      <td>-0.47</td>\n",
       "      <td>0.30</td>\n",
       "      <td>0.63</td>\n",
       "      <td>1.35</td>\n",
       "      <td>0.00</td>\n",
       "      <td>-0.42</td>\n",
       "      <td>0.67</td>\n",
       "      <td>0.57</td>\n",
       "    </tr>\n",
       "    <tr>\n",
       "      <th>prio</th>\n",
       "      <td>0.09</td>\n",
       "      <td>1.09</td>\n",
       "      <td>0.03</td>\n",
       "      <td>0.03</td>\n",
       "      <td>0.15</td>\n",
       "      <td>1.04</td>\n",
       "      <td>1.16</td>\n",
       "      <td>0.00</td>\n",
       "      <td>3.16</td>\n",
       "      <td>&lt;0.005</td>\n",
       "      <td>9.33</td>\n",
       "    </tr>\n",
       "  </tbody>\n",
       "</table><br><div>\n",
       "<style scoped>\n",
       "    .dataframe tbody tr th:only-of-type {\n",
       "        vertical-align: middle;\n",
       "    }\n",
       "\n",
       "    .dataframe tbody tr th {\n",
       "        vertical-align: top;\n",
       "    }\n",
       "\n",
       "    .dataframe thead th {\n",
       "        text-align: right;\n",
       "    }\n",
       "</style>\n",
       "<table border=\"1\" class=\"dataframe\">\n",
       "  <tbody>\n",
       "    <tr>\n",
       "      <th>Concordance</th>\n",
       "      <td>0.61</td>\n",
       "    </tr>\n",
       "    <tr>\n",
       "      <th>Partial AIC</th>\n",
       "      <td>1173.77</td>\n",
       "    </tr>\n",
       "    <tr>\n",
       "      <th>log-likelihood ratio test</th>\n",
       "      <td>23.77 on 6 df</td>\n",
       "    </tr>\n",
       "    <tr>\n",
       "      <th>-log2(p) of ll-ratio test</th>\n",
       "      <td>10.77</td>\n",
       "    </tr>\n",
       "  </tbody>\n",
       "</table>\n",
       "</div>"
      ],
      "text/latex": [
       "\\begin{tabular}{lrrrrrrrrrrr}\n",
       "\\toprule\n",
       "{} &  coef &  exp(coef) &  se(coef) &  coef lower 95\\% &  coef upper 95\\% &  exp(coef) lower 95\\% &  exp(coef) upper 95\\% &  cmp to &     z &    p &  -log2(p) \\\\\n",
       "covariate &       &            &           &                 &                 &                      &                      &         &       &      &           \\\\\n",
       "\\midrule\n",
       "fin       & -0.38 &       0.68 &      0.19 &           -0.76 &           -0.01 &                 0.47 &                 0.99 &    0.00 & -1.99 & 0.05 &      4.42 \\\\\n",
       "age       & -0.06 &       0.94 &      0.02 &           -0.10 &           -0.01 &                 0.90 &                 0.99 &    0.00 & -2.64 & 0.01 &      6.91 \\\\\n",
       "race      &  0.31 &       1.36 &      0.31 &           -0.30 &            0.91 &                 0.74 &                 2.49 &    0.00 &  1.00 & 0.32 &      1.65 \\\\\n",
       "mar       & -0.45 &       0.64 &      0.38 &           -1.20 &            0.29 &                 0.30 &                 1.34 &    0.00 & -1.19 & 0.23 &      2.09 \\\\\n",
       "paro      & -0.08 &       0.92 &      0.20 &           -0.47 &            0.30 &                 0.63 &                 1.35 &    0.00 & -0.42 & 0.67 &      0.57 \\\\\n",
       "prio      &  0.09 &       1.09 &      0.03 &            0.03 &            0.15 &                 1.04 &                 1.16 &    0.00 &  3.16 & 0.00 &      9.33 \\\\\n",
       "\\bottomrule\n",
       "\\end{tabular}\n"
      ],
      "text/plain": [
       "<lifelines.CoxPHFitter: fitted with 432 total observations, 318 right-censored observations>\n",
       "             duration col = 'week'\n",
       "                event col = 'arrest'\n",
       "                   strata = ['wexp']\n",
       "      baseline estimation = breslow\n",
       "   number of observations = 432\n",
       "number of events observed = 114\n",
       "   partial log-likelihood = -580.89\n",
       "         time fit was run = 2022-09-06 12:16:21 UTC\n",
       "\n",
       "---\n",
       "            coef  exp(coef)   se(coef)   coef lower 95%   coef upper 95%  exp(coef) lower 95%  exp(coef) upper 95%\n",
       "covariate                                                                                                         \n",
       "fin        -0.38       0.68       0.19            -0.76            -0.01                 0.47                 0.99\n",
       "age        -0.06       0.94       0.02            -0.10            -0.01                 0.90                 0.99\n",
       "race        0.31       1.36       0.31            -0.30             0.91                 0.74                 2.49\n",
       "mar        -0.45       0.64       0.38            -1.20             0.29                 0.30                 1.34\n",
       "paro       -0.08       0.92       0.20            -0.47             0.30                 0.63                 1.35\n",
       "prio        0.09       1.09       0.03             0.03             0.15                 1.04                 1.16\n",
       "\n",
       "            cmp to     z      p   -log2(p)\n",
       "covariate                                 \n",
       "fin           0.00 -1.99   0.05       4.42\n",
       "age           0.00 -2.64   0.01       6.91\n",
       "race          0.00  1.00   0.32       1.65\n",
       "mar           0.00 -1.19   0.23       2.09\n",
       "paro          0.00 -0.42   0.67       0.57\n",
       "prio          0.00  3.16 <0.005       9.33\n",
       "---\n",
       "Concordance = 0.61\n",
       "Partial AIC = 1173.77\n",
       "log-likelihood ratio test = 23.77 on 6 df\n",
       "-log2(p) of ll-ratio test = 10.77"
      ]
     },
     "metadata": {},
     "output_type": "display_data"
    }
   ],
   "source": [
    "#To specify variables to be used in stratification, we define them in the call to fit()\n",
    "cph.fit(rossi, 'week', event_col='arrest', strata=['wexp'])\n",
    "cph.print_summary()"
   ]
  },
  {
   "cell_type": "code",
   "execution_count": 51,
   "id": "bff33e47",
   "metadata": {
    "ExecuteTime": {
     "end_time": "2022-09-06T12:34:53.433348Z",
     "start_time": "2022-09-06T12:34:53.306790Z"
    }
   },
   "outputs": [
    {
     "data": {
      "image/png": "[encoded data removed]",
      "text/plain": [
       "<Figure size 432x288 with 1 Axes>"
      ]
     },
     "metadata": {
      "needs_background": "light"
     },
     "output_type": "display_data"
    }
   ],
   "source": [
    "cph.baseline_survival_.shape\n",
    "# (49, 2)\n",
    "cph.baseline_cumulative_hazard_.plot(drawstyle=\"steps\");"
   ]
  },
  {
   "cell_type": "markdown",
   "id": "4d9af9c4",
   "metadata": {},
   "source": [
    "**Weights & robust errors** <br/>\n",
    "When using sampling weights, it’s correct to also change the standard error calculations. That is done by turning on the robust flag."
   ]
  },
  {
   "cell_type": "code",
   "execution_count": 107,
   "id": "08bff3c6",
   "metadata": {
    "ExecuteTime": {
     "end_time": "2022-09-06T15:55:12.087882Z",
     "start_time": "2022-09-06T15:55:11.707498Z"
    }
   },
   "outputs": [
    {
     "name": "stderr",
     "output_type": "stream",
     "text": [
      "/Users/antonermak/opt/anaconda3/lib/python3.9/site-packages/lifelines/utils/printer.py:62: FutureWarning: In future versions `DataFrame.to_latex` is expected to utilise the base implementation of `Styler.to_latex` for formatting and rendering. The arguments signature may therefore change. It is recommended instead to use `DataFrame.style.to_latex` which also contains additional functionality.\n",
      "  return summary_df[columns].to_latex(float_format=\"%.\" + str(self.decimals) + \"f\")\n"
     ]
    },
    {
     "data": {
      "text/html": [
       "<div>\n",
       "<style scoped>\n",
       "    .dataframe tbody tr th:only-of-type {\n",
       "        vertical-align: middle;\n",
       "    }\n",
       "\n",
       "    .dataframe tbody tr th {\n",
       "        vertical-align: top;\n",
       "    }\n",
       "\n",
       "    .dataframe thead th {\n",
       "        text-align: right;\n",
       "    }\n",
       "</style>\n",
       "<table border=\"1\" class=\"dataframe\">\n",
       "  <tbody>\n",
       "    <tr>\n",
       "      <th>model</th>\n",
       "      <td>lifelines.CoxPHFitter</td>\n",
       "    </tr>\n",
       "    <tr>\n",
       "      <th>duration col</th>\n",
       "      <td>'T'</td>\n",
       "    </tr>\n",
       "    <tr>\n",
       "      <th>event col</th>\n",
       "      <td>'E'</td>\n",
       "    </tr>\n",
       "    <tr>\n",
       "      <th>weights col</th>\n",
       "      <td>'weights'</td>\n",
       "    </tr>\n",
       "    <tr>\n",
       "      <th>robust variance</th>\n",
       "      <td>True</td>\n",
       "    </tr>\n",
       "    <tr>\n",
       "      <th>baseline estimation</th>\n",
       "      <td>breslow</td>\n",
       "    </tr>\n",
       "    <tr>\n",
       "      <th>number of observations</th>\n",
       "      <td>29.4</td>\n",
       "    </tr>\n",
       "    <tr>\n",
       "      <th>number of events observed</th>\n",
       "      <td>17.3</td>\n",
       "    </tr>\n",
       "    <tr>\n",
       "      <th>partial log-likelihood</th>\n",
       "      <td>-20.54</td>\n",
       "    </tr>\n",
       "    <tr>\n",
       "      <th>time fit was run</th>\n",
       "      <td>2022-09-06 15:55:11 UTC</td>\n",
       "    </tr>\n",
       "  </tbody>\n",
       "</table>\n",
       "</div><table border=\"1\" class=\"dataframe\">\n",
       "  <thead>\n",
       "    <tr style=\"text-align: right;\">\n",
       "      <th style=\"min-width: 12px;\"></th>\n",
       "      <th style=\"min-width: 12px;\">coef</th>\n",
       "      <th style=\"min-width: 12px;\">exp(coef)</th>\n",
       "      <th style=\"min-width: 12px;\">se(coef)</th>\n",
       "      <th style=\"min-width: 12px;\">coef lower 95%</th>\n",
       "      <th style=\"min-width: 12px;\">coef upper 95%</th>\n",
       "      <th style=\"min-width: 12px;\">exp(coef) lower 95%</th>\n",
       "      <th style=\"min-width: 12px;\">exp(coef) upper 95%</th>\n",
       "      <th style=\"min-width: 12px;\">cmp to</th>\n",
       "      <th style=\"min-width: 12px;\">z</th>\n",
       "      <th style=\"min-width: 12px;\">p</th>\n",
       "      <th style=\"min-width: 12px;\">-log2(p)</th>\n",
       "    </tr>\n",
       "  </thead>\n",
       "  <tbody>\n",
       "    <tr>\n",
       "      <th>month</th>\n",
       "      <td>-3.15</td>\n",
       "      <td>0.04</td>\n",
       "      <td>0.14</td>\n",
       "      <td>-3.42</td>\n",
       "      <td>-2.89</td>\n",
       "      <td>0.03</td>\n",
       "      <td>0.06</td>\n",
       "      <td>0.00</td>\n",
       "      <td>-22.98</td>\n",
       "      <td>&lt;0.005</td>\n",
       "      <td>385.78</td>\n",
       "    </tr>\n",
       "    <tr>\n",
       "      <th>age</th>\n",
       "      <td>-15.77</td>\n",
       "      <td>0.00</td>\n",
       "      <td>0.49</td>\n",
       "      <td>-16.73</td>\n",
       "      <td>-14.81</td>\n",
       "      <td>0.00</td>\n",
       "      <td>0.00</td>\n",
       "      <td>0.00</td>\n",
       "      <td>-32.12</td>\n",
       "      <td>&lt;0.005</td>\n",
       "      <td>749.50</td>\n",
       "    </tr>\n",
       "  </tbody>\n",
       "</table><br><div>\n",
       "<style scoped>\n",
       "    .dataframe tbody tr th:only-of-type {\n",
       "        vertical-align: middle;\n",
       "    }\n",
       "\n",
       "    .dataframe tbody tr th {\n",
       "        vertical-align: top;\n",
       "    }\n",
       "\n",
       "    .dataframe thead th {\n",
       "        text-align: right;\n",
       "    }\n",
       "</style>\n",
       "<table border=\"1\" class=\"dataframe\">\n",
       "  <tbody>\n",
       "    <tr>\n",
       "      <th>Concordance</th>\n",
       "      <td>0.97</td>\n",
       "    </tr>\n",
       "    <tr>\n",
       "      <th>Partial AIC</th>\n",
       "      <td>45.08</td>\n",
       "    </tr>\n",
       "    <tr>\n",
       "      <th>log-likelihood ratio test</th>\n",
       "      <td>46.45 on 2 df</td>\n",
       "    </tr>\n",
       "    <tr>\n",
       "      <th>-log2(p) of ll-ratio test</th>\n",
       "      <td>33.50</td>\n",
       "    </tr>\n",
       "  </tbody>\n",
       "</table>\n",
       "</div>"
      ],
      "text/latex": [
       "\\begin{tabular}{lrrrrrrrrrrr}\n",
       "\\toprule\n",
       "{} &   coef &  exp(coef) &  se(coef) &  coef lower 95\\% &  coef upper 95\\% &  exp(coef) lower 95\\% &  exp(coef) upper 95\\% &  cmp to &      z &    p &  -log2(p) \\\\\n",
       "covariate &        &            &           &                 &                 &                      &                      &         &        &      &           \\\\\n",
       "\\midrule\n",
       "month     &  -3.15 &       0.04 &      0.14 &           -3.42 &           -2.89 &                 0.03 &                 0.06 &    0.00 & -22.98 & 0.00 &    385.78 \\\\\n",
       "age       & -15.77 &       0.00 &      0.49 &          -16.73 &          -14.81 &                 0.00 &                 0.00 &    0.00 & -32.12 & 0.00 &    749.50 \\\\\n",
       "\\bottomrule\n",
       "\\end{tabular}\n"
      ],
      "text/plain": [
       "<lifelines.CoxPHFitter: fitted with 29.4 total observations, 12.1 right-censored observations>\n",
       "             duration col = 'T'\n",
       "                event col = 'E'\n",
       "              weights col = 'weights'\n",
       "          robust variance = True\n",
       "      baseline estimation = breslow\n",
       "   number of observations = 29.4\n",
       "number of events observed = 17.3\n",
       "   partial log-likelihood = -20.54\n",
       "         time fit was run = 2022-09-06 15:55:11 UTC\n",
       "\n",
       "---\n",
       "            coef  exp(coef)   se(coef)   coef lower 95%   coef upper 95%  exp(coef) lower 95%  exp(coef) upper 95%\n",
       "covariate                                                                                                         \n",
       "month      -3.15       0.04       0.14            -3.42            -2.89                 0.03                 0.06\n",
       "age       -15.77       0.00       0.49           -16.73           -14.81                 0.00                 0.00\n",
       "\n",
       "            cmp to      z      p   -log2(p)\n",
       "covariate                                  \n",
       "month         0.00 -22.98 <0.005     385.78\n",
       "age           0.00 -32.12 <0.005     749.50\n",
       "---\n",
       "Concordance = 0.97\n",
       "Partial AIC = 45.08\n",
       "log-likelihood ratio test = 46.45 on 2 df\n",
       "-log2(p) of ll-ratio test = 33.50"
      ]
     },
     "metadata": {},
     "output_type": "display_data"
    }
   ],
   "source": [
    "df = pd.DataFrame({\n",
    "    'T': [5, 3, 9, 8, 7, 4, 4, 3, 2, 5, 6, 7],\n",
    "    'E': [1, 1, 1, 1, 1, 1, 0, 0, 1, 1, 1, 0],\n",
    "    'weights': [1.1, 0.5, 2.0, 1.6, 1.2, 4.3, 1.4, 4.5, 3.0, 3.2, 0.4, 6.2],\n",
    "    'month': [10, 3, 9, 8, 7, 4, 4, 3, 2, 5, 6, 7],\n",
    "    'age': [4, 3, 9, 8, 7, 4, 4, 3, 2, 5, 6, 7],\n",
    "})\n",
    "\n",
    "cph = CoxPHFitter()\n",
    "cph.fit(df, 'T', 'E', weights_col='weights', robust=True)\n",
    "cph.print_summary()"
   ]
  },
  {
   "cell_type": "code",
   "execution_count": null,
   "id": "1d69eac0",
   "metadata": {},
   "outputs": [],
   "source": []
  },
  {
   "cell_type": "code",
   "execution_count": null,
   "id": "09d98d1b",
   "metadata": {},
   "outputs": [],
   "source": []
  },
  {
   "cell_type": "code",
   "execution_count": null,
   "id": "0bd7a4c0",
   "metadata": {},
   "outputs": [],
   "source": []
  },
  {
   "cell_type": "code",
   "execution_count": null,
   "id": "2edbfdac",
   "metadata": {},
   "outputs": [],
   "source": []
  },
  {
   "cell_type": "code",
   "execution_count": null,
   "id": "e71074b5",
   "metadata": {},
   "outputs": [],
   "source": []
  },
  {
   "cell_type": "code",
   "execution_count": null,
   "id": "c629d5ff",
   "metadata": {},
   "outputs": [],
   "source": []
  },
  {
   "cell_type": "code",
   "execution_count": null,
   "id": "1b190c82",
   "metadata": {},
   "outputs": [],
   "source": []
  }
 ],
 "metadata": {
  "kernelspec": {
   "display_name": "Python 3 (ipykernel)",
   "language": "python",
   "name": "python3"
  },
  "language_info": {
   "codemirror_mode": {
    "name": "ipython",
    "version": 3
   },
   "file_extension": ".py",
   "mimetype": "text/x-python",
   "name": "python",
   "nbconvert_exporter": "python",
   "pygments_lexer": "ipython3",
   "version": "3.9.7"
  }
 },
 "nbformat": 4,
 "nbformat_minor": 5
}
