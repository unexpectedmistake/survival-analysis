{
 "cells": [
  {
   "cell_type": "markdown",
   "id": "797dec05",
   "metadata": {},
   "source": [
    "## Survival Analysis: time varying survival regression"
   ]
  },
  {
   "cell_type": "markdown",
   "id": "aaa39b44",
   "metadata": {},
   "source": [
    "Materials:\n",
    "- Time varying survival regression [Link](https://lifelines.readthedocs.io/en/latest/Time%20varying%20survival%20regression.html)\n",
    "- TA Review on Accelerated Failure Time Models [Link](https://www.ripublication.com/ijss17/ijssv12n2_15.pdf)\n",
    "- The Cox Proportional Hazards Model [Link](https://bookdown.org/sestelo/sa_financial/cox.html)\n",
    "- On Ranking in Survival Analysis: Bounds on the Concordance Index [Link](https://proceedings.neurips.cc/paper/2007/file/33e8075e9970de0cfea955afd4644bb2-Paper.pdf)"
   ]
  },
  {
   "cell_type": "markdown",
   "id": "855f5ffb",
   "metadata": {},
   "source": [
    "**Dataset creation for time-varying regression** <br/>\n",
    "lifelines requires that the dataset be in what is called the long format. This looks like one row per state change, including an ID, the left (exclusive) time point, and right (inclusive) time point."
   ]
  },
  {
   "cell_type": "code",
   "execution_count": 42,
   "id": "e47bcea3",
   "metadata": {
    "ExecuteTime": {
     "end_time": "2022-09-07T07:31:07.460305Z",
     "start_time": "2022-09-07T07:31:07.456709Z"
    }
   },
   "outputs": [],
   "source": [
    "import pandas as pd\n",
    "from lifelines.utils import to_long_format"
   ]
  },
  {
   "cell_type": "code",
   "execution_count": 43,
   "id": "e25b4afd",
   "metadata": {
    "ExecuteTime": {
     "end_time": "2022-09-07T07:31:07.642155Z",
     "start_time": "2022-09-07T07:31:07.637752Z"
    }
   },
   "outputs": [],
   "source": [
    "# data from relational database with durations and event flags\n",
    "base_df = pd.DataFrame([\n",
    "  {'id': 1, 'duration': 10, 'event': True, 'var1': 0.1},\n",
    "  {'id': 2, 'duration': 12, 'event': True, 'var1': 0.5}\n",
    "])\n"
   ]
  },
  {
   "cell_type": "code",
   "execution_count": 44,
   "id": "cc5dee00",
   "metadata": {
    "ExecuteTime": {
     "end_time": "2022-09-07T07:31:07.791071Z",
     "start_time": "2022-09-07T07:31:07.782056Z"
    }
   },
   "outputs": [
    {
     "data": {
      "text/html": [
       "<div>\n",
       "<style scoped>\n",
       "    .dataframe tbody tr th:only-of-type {\n",
       "        vertical-align: middle;\n",
       "    }\n",
       "\n",
       "    .dataframe tbody tr th {\n",
       "        vertical-align: top;\n",
       "    }\n",
       "\n",
       "    .dataframe thead th {\n",
       "        text-align: right;\n",
       "    }\n",
       "</style>\n",
       "<table border=\"1\" class=\"dataframe\">\n",
       "  <thead>\n",
       "    <tr style=\"text-align: right;\">\n",
       "      <th></th>\n",
       "      <th>id</th>\n",
       "      <th>duration</th>\n",
       "      <th>event</th>\n",
       "      <th>var1</th>\n",
       "    </tr>\n",
       "  </thead>\n",
       "  <tbody>\n",
       "    <tr>\n",
       "      <th>0</th>\n",
       "      <td>1</td>\n",
       "      <td>10</td>\n",
       "      <td>True</td>\n",
       "      <td>0.1</td>\n",
       "    </tr>\n",
       "    <tr>\n",
       "      <th>1</th>\n",
       "      <td>2</td>\n",
       "      <td>12</td>\n",
       "      <td>True</td>\n",
       "      <td>0.5</td>\n",
       "    </tr>\n",
       "  </tbody>\n",
       "</table>\n",
       "</div>"
      ],
      "text/plain": [
       "   id  duration  event  var1\n",
       "0   1        10   True   0.1\n",
       "1   2        12   True   0.5"
      ]
     },
     "execution_count": 44,
     "metadata": {},
     "output_type": "execute_result"
    }
   ],
   "source": [
    "base_df"
   ]
  },
  {
   "cell_type": "code",
   "execution_count": 45,
   "id": "13dac50f",
   "metadata": {
    "ExecuteTime": {
     "end_time": "2022-09-07T07:31:08.090584Z",
     "start_time": "2022-09-07T07:31:08.039854Z"
    }
   },
   "outputs": [],
   "source": [
    "base_df = to_long_format(base_df, duration_col=\"duration\")"
   ]
  },
  {
   "cell_type": "code",
   "execution_count": 46,
   "id": "75751ab6",
   "metadata": {
    "ExecuteTime": {
     "end_time": "2022-09-07T07:31:08.357118Z",
     "start_time": "2022-09-07T07:31:08.346669Z"
    }
   },
   "outputs": [
    {
     "data": {
      "text/html": [
       "<div>\n",
       "<style scoped>\n",
       "    .dataframe tbody tr th:only-of-type {\n",
       "        vertical-align: middle;\n",
       "    }\n",
       "\n",
       "    .dataframe tbody tr th {\n",
       "        vertical-align: top;\n",
       "    }\n",
       "\n",
       "    .dataframe thead th {\n",
       "        text-align: right;\n",
       "    }\n",
       "</style>\n",
       "<table border=\"1\" class=\"dataframe\">\n",
       "  <thead>\n",
       "    <tr style=\"text-align: right;\">\n",
       "      <th></th>\n",
       "      <th>id</th>\n",
       "      <th>event</th>\n",
       "      <th>var1</th>\n",
       "      <th>start</th>\n",
       "      <th>stop</th>\n",
       "    </tr>\n",
       "  </thead>\n",
       "  <tbody>\n",
       "    <tr>\n",
       "      <th>0</th>\n",
       "      <td>1</td>\n",
       "      <td>True</td>\n",
       "      <td>0.1</td>\n",
       "      <td>0</td>\n",
       "      <td>10</td>\n",
       "    </tr>\n",
       "    <tr>\n",
       "      <th>1</th>\n",
       "      <td>2</td>\n",
       "      <td>True</td>\n",
       "      <td>0.5</td>\n",
       "      <td>0</td>\n",
       "      <td>12</td>\n",
       "    </tr>\n",
       "  </tbody>\n",
       "</table>\n",
       "</div>"
      ],
      "text/plain": [
       "   id  event  var1  start  stop\n",
       "0   1   True   0.1      0    10\n",
       "1   2   True   0.5      0    12"
      ]
     },
     "execution_count": 46,
     "metadata": {},
     "output_type": "execute_result"
    }
   ],
   "source": [
    "base_df"
   ]
  },
  {
   "cell_type": "code",
   "execution_count": null,
   "id": "ea3fbc29",
   "metadata": {},
   "outputs": [],
   "source": []
  },
  {
   "cell_type": "code",
   "execution_count": 47,
   "id": "7176d4da",
   "metadata": {
    "ExecuteTime": {
     "end_time": "2022-09-07T07:31:08.683398Z",
     "start_time": "2022-09-07T07:31:08.676378Z"
    }
   },
   "outputs": [],
   "source": [
    "from lifelines.utils import add_covariate_to_timeline"
   ]
  },
  {
   "cell_type": "code",
   "execution_count": 48,
   "id": "d56ffcf7",
   "metadata": {
    "ExecuteTime": {
     "end_time": "2022-09-07T07:31:08.921459Z",
     "start_time": "2022-09-07T07:31:08.915381Z"
    }
   },
   "outputs": [],
   "source": [
    "# secondary dataset that references future measurements - variables that change over time\n",
    "# time - duration from the entry point\n",
    "cv = pd.DataFrame([\n",
    "  {'id': 1, 'time': 0, 'var2': 1.4},\n",
    "  {'id': 1, 'time': 4, 'var2': 1.2},\n",
    "  {'id': 1, 'time': 8, 'var2': 1.5},\n",
    "  {'id': 2, 'time': 0, 'var2': 1.6},\n",
    "\n",
    "])"
   ]
  },
  {
   "cell_type": "code",
   "execution_count": 49,
   "id": "676c67c1",
   "metadata": {
    "ExecuteTime": {
     "end_time": "2022-09-07T07:31:09.101976Z",
     "start_time": "2022-09-07T07:31:09.090639Z"
    }
   },
   "outputs": [
    {
     "data": {
      "text/html": [
       "<div>\n",
       "<style scoped>\n",
       "    .dataframe tbody tr th:only-of-type {\n",
       "        vertical-align: middle;\n",
       "    }\n",
       "\n",
       "    .dataframe tbody tr th {\n",
       "        vertical-align: top;\n",
       "    }\n",
       "\n",
       "    .dataframe thead th {\n",
       "        text-align: right;\n",
       "    }\n",
       "</style>\n",
       "<table border=\"1\" class=\"dataframe\">\n",
       "  <thead>\n",
       "    <tr style=\"text-align: right;\">\n",
       "      <th></th>\n",
       "      <th>id</th>\n",
       "      <th>time</th>\n",
       "      <th>var2</th>\n",
       "    </tr>\n",
       "  </thead>\n",
       "  <tbody>\n",
       "    <tr>\n",
       "      <th>0</th>\n",
       "      <td>1</td>\n",
       "      <td>0</td>\n",
       "      <td>1.4</td>\n",
       "    </tr>\n",
       "    <tr>\n",
       "      <th>1</th>\n",
       "      <td>1</td>\n",
       "      <td>4</td>\n",
       "      <td>1.2</td>\n",
       "    </tr>\n",
       "    <tr>\n",
       "      <th>2</th>\n",
       "      <td>1</td>\n",
       "      <td>8</td>\n",
       "      <td>1.5</td>\n",
       "    </tr>\n",
       "    <tr>\n",
       "      <th>3</th>\n",
       "      <td>2</td>\n",
       "      <td>0</td>\n",
       "      <td>1.6</td>\n",
       "    </tr>\n",
       "  </tbody>\n",
       "</table>\n",
       "</div>"
      ],
      "text/plain": [
       "   id  time  var2\n",
       "0   1     0   1.4\n",
       "1   1     4   1.2\n",
       "2   1     8   1.5\n",
       "3   2     0   1.6"
      ]
     },
     "execution_count": 49,
     "metadata": {},
     "output_type": "execute_result"
    }
   ],
   "source": [
    "cv"
   ]
  },
  {
   "cell_type": "code",
   "execution_count": 52,
   "id": "1e094883",
   "metadata": {
    "ExecuteTime": {
     "end_time": "2022-09-07T07:48:50.898853Z",
     "start_time": "2022-09-07T07:48:50.828118Z"
    }
   },
   "outputs": [],
   "source": [
    "# use `add_covariate_to_timeline` to fold the covariate dataset into original dataset\n",
    "df = add_covariate_to_timeline(base_df, cv, \n",
    "                               duration_col=\"time\", \n",
    "                               id_col=\"id\", \n",
    "                               event_col=\"event\").columns()"
   ]
  },
  {
   "cell_type": "code",
   "execution_count": 54,
   "id": "9b7bc899",
   "metadata": {
    "ExecuteTime": {
     "end_time": "2022-09-07T07:54:53.721546Z",
     "start_time": "2022-09-07T07:54:53.717038Z"
    }
   },
   "outputs": [],
   "source": [
    "cols = ['id','start','stop','var1','var2','event']"
   ]
  },
  {
   "cell_type": "code",
   "execution_count": 56,
   "id": "28f4860f",
   "metadata": {
    "ExecuteTime": {
     "end_time": "2022-09-07T07:55:01.554546Z",
     "start_time": "2022-09-07T07:55:01.532628Z"
    }
   },
   "outputs": [
    {
     "data": {
      "text/html": [
       "<div>\n",
       "<style scoped>\n",
       "    .dataframe tbody tr th:only-of-type {\n",
       "        vertical-align: middle;\n",
       "    }\n",
       "\n",
       "    .dataframe tbody tr th {\n",
       "        vertical-align: top;\n",
       "    }\n",
       "\n",
       "    .dataframe thead th {\n",
       "        text-align: right;\n",
       "    }\n",
       "</style>\n",
       "<table border=\"1\" class=\"dataframe\">\n",
       "  <thead>\n",
       "    <tr style=\"text-align: right;\">\n",
       "      <th></th>\n",
       "      <th>id</th>\n",
       "      <th>start</th>\n",
       "      <th>stop</th>\n",
       "      <th>var1</th>\n",
       "      <th>var2</th>\n",
       "      <th>event</th>\n",
       "    </tr>\n",
       "  </thead>\n",
       "  <tbody>\n",
       "    <tr>\n",
       "      <th>0</th>\n",
       "      <td>1</td>\n",
       "      <td>0</td>\n",
       "      <td>4.0</td>\n",
       "      <td>0.1</td>\n",
       "      <td>1.4</td>\n",
       "      <td>False</td>\n",
       "    </tr>\n",
       "    <tr>\n",
       "      <th>1</th>\n",
       "      <td>1</td>\n",
       "      <td>4</td>\n",
       "      <td>8.0</td>\n",
       "      <td>0.1</td>\n",
       "      <td>1.2</td>\n",
       "      <td>False</td>\n",
       "    </tr>\n",
       "    <tr>\n",
       "      <th>2</th>\n",
       "      <td>1</td>\n",
       "      <td>8</td>\n",
       "      <td>10.0</td>\n",
       "      <td>0.1</td>\n",
       "      <td>1.5</td>\n",
       "      <td>True</td>\n",
       "    </tr>\n",
       "    <tr>\n",
       "      <th>3</th>\n",
       "      <td>2</td>\n",
       "      <td>0</td>\n",
       "      <td>12.0</td>\n",
       "      <td>0.5</td>\n",
       "      <td>1.6</td>\n",
       "      <td>True</td>\n",
       "    </tr>\n",
       "  </tbody>\n",
       "</table>\n",
       "</div>"
      ],
      "text/plain": [
       "   id  start  stop  var1  var2  event\n",
       "0   1      0   4.0   0.1   1.4  False\n",
       "1   1      4   8.0   0.1   1.2  False\n",
       "2   1      8  10.0   0.1   1.5   True\n",
       "3   2      0  12.0   0.5   1.6   True"
      ]
     },
     "execution_count": 56,
     "metadata": {},
     "output_type": "execute_result"
    }
   ],
   "source": [
    "df[cols]"
   ]
  },
  {
   "cell_type": "code",
   "execution_count": null,
   "id": "5db0420d",
   "metadata": {},
   "outputs": [],
   "source": [
    "# we can add multiple covariates with pipe:\n",
    "\n",
    "# df = base_df.pipe(add_covariate_to_timeline, cv1, duration_col=\"time\", id_col=\"id\", event_col=\"event\")\\\n",
    "#             .pipe(add_covariate_to_timeline, cv2, duration_col=\"time\", id_col=\"id\", event_col=\"event\")\\\n",
    "#             .pipe(add_covariate_to_timeline, cv3, duration_col=\"time\", id_col=\"id\", event_col=\"event\")"
   ]
  },
  {
   "cell_type": "code",
   "execution_count": 58,
   "id": "dc2b0c03",
   "metadata": {
    "ExecuteTime": {
     "end_time": "2022-09-07T07:58:44.089803Z",
     "start_time": "2022-09-07T07:58:44.078036Z"
    }
   },
   "outputs": [
    {
     "data": {
      "text/html": [
       "<div>\n",
       "<style scoped>\n",
       "    .dataframe tbody tr th:only-of-type {\n",
       "        vertical-align: middle;\n",
       "    }\n",
       "\n",
       "    .dataframe tbody tr th {\n",
       "        vertical-align: top;\n",
       "    }\n",
       "\n",
       "    .dataframe thead th {\n",
       "        text-align: right;\n",
       "    }\n",
       "</style>\n",
       "<table border=\"1\" class=\"dataframe\">\n",
       "  <thead>\n",
       "    <tr style=\"text-align: right;\">\n",
       "      <th></th>\n",
       "      <th>id</th>\n",
       "      <th>E1</th>\n",
       "    </tr>\n",
       "  </thead>\n",
       "  <tbody>\n",
       "    <tr>\n",
       "      <th>0</th>\n",
       "      <td>1</td>\n",
       "      <td>1.0</td>\n",
       "    </tr>\n",
       "    <tr>\n",
       "      <th>1</th>\n",
       "      <td>2</td>\n",
       "      <td>NaN</td>\n",
       "    </tr>\n",
       "    <tr>\n",
       "      <th>2</th>\n",
       "      <td>3</td>\n",
       "      <td>3.0</td>\n",
       "    </tr>\n",
       "  </tbody>\n",
       "</table>\n",
       "</div>"
      ],
      "text/plain": [
       "   id   E1\n",
       "0   1  1.0\n",
       "1   2  NaN\n",
       "2   3  3.0"
      ]
     },
     "execution_count": 58,
     "metadata": {},
     "output_type": "execute_result"
    }
   ],
   "source": [
    "# secondary dataset - event-based with values in the matrix denote times since the subject's birth\n",
    "\n",
    "event_df = pd.DataFrame([\n",
    "    {'id': 1, 'E1': 1.0},\n",
    "    {'id': 2, 'E1': None},\n",
    "    {'id': 3, 'E1': 3.0},\n",
    "])\n",
    "event_df"
   ]
  },
  {
   "cell_type": "code",
   "execution_count": null,
   "id": "95d09707",
   "metadata": {},
   "outputs": [],
   "source": [
    "# cannot add to baseline df, but can convert and add with `covariates_from_event_matrix`"
   ]
  },
  {
   "cell_type": "code",
   "execution_count": 59,
   "id": "9f0e0c33",
   "metadata": {
    "ExecuteTime": {
     "end_time": "2022-09-07T08:08:45.189285Z",
     "start_time": "2022-09-07T08:08:45.184224Z"
    }
   },
   "outputs": [],
   "source": [
    "from lifelines.utils import covariates_from_event_matrix"
   ]
  },
  {
   "cell_type": "code",
   "execution_count": 60,
   "id": "3a74caab",
   "metadata": {
    "ExecuteTime": {
     "end_time": "2022-09-07T08:08:55.568916Z",
     "start_time": "2022-09-07T08:08:55.489438Z"
    }
   },
   "outputs": [],
   "source": [
    "cv = covariates_from_event_matrix(event_df, id_col=\"id\")"
   ]
  },
  {
   "cell_type": "code",
   "execution_count": 61,
   "id": "b97345b4",
   "metadata": {
    "ExecuteTime": {
     "end_time": "2022-09-07T08:08:58.049120Z",
     "start_time": "2022-09-07T08:08:58.039089Z"
    }
   },
   "outputs": [
    {
     "data": {
      "text/html": [
       "<div>\n",
       "<style scoped>\n",
       "    .dataframe tbody tr th:only-of-type {\n",
       "        vertical-align: middle;\n",
       "    }\n",
       "\n",
       "    .dataframe tbody tr th {\n",
       "        vertical-align: top;\n",
       "    }\n",
       "\n",
       "    .dataframe thead th {\n",
       "        text-align: right;\n",
       "    }\n",
       "</style>\n",
       "<table border=\"1\" class=\"dataframe\">\n",
       "  <thead>\n",
       "    <tr style=\"text-align: right;\">\n",
       "      <th></th>\n",
       "      <th>id</th>\n",
       "      <th>duration</th>\n",
       "      <th>E1</th>\n",
       "    </tr>\n",
       "  </thead>\n",
       "  <tbody>\n",
       "    <tr>\n",
       "      <th>0</th>\n",
       "      <td>1</td>\n",
       "      <td>1.0</td>\n",
       "      <td>1</td>\n",
       "    </tr>\n",
       "    <tr>\n",
       "      <th>1</th>\n",
       "      <td>2</td>\n",
       "      <td>inf</td>\n",
       "      <td>1</td>\n",
       "    </tr>\n",
       "    <tr>\n",
       "      <th>2</th>\n",
       "      <td>3</td>\n",
       "      <td>3.0</td>\n",
       "      <td>1</td>\n",
       "    </tr>\n",
       "  </tbody>\n",
       "</table>\n",
       "</div>"
      ],
      "text/plain": [
       "   id  duration  E1\n",
       "0   1       1.0   1\n",
       "1   2       inf   1\n",
       "2   3       3.0   1"
      ]
     },
     "execution_count": 61,
     "metadata": {},
     "output_type": "execute_result"
    }
   ],
   "source": [
    "cv"
   ]
  },
  {
   "cell_type": "code",
   "execution_count": 63,
   "id": "143f9f82",
   "metadata": {
    "ExecuteTime": {
     "end_time": "2022-09-07T08:09:26.112995Z",
     "start_time": "2022-09-07T08:09:26.073056Z"
    }
   },
   "outputs": [],
   "source": [
    "base_df = add_covariate_to_timeline(base_df, cv, duration_col=\"duration\", id_col=\"id\", event_col=\"event\")\n"
   ]
  },
  {
   "cell_type": "code",
   "execution_count": 64,
   "id": "beffa8c8",
   "metadata": {
    "ExecuteTime": {
     "end_time": "2022-09-07T08:09:30.212255Z",
     "start_time": "2022-09-07T08:09:30.199251Z"
    }
   },
   "outputs": [
    {
     "data": {
      "text/html": [
       "<div>\n",
       "<style scoped>\n",
       "    .dataframe tbody tr th:only-of-type {\n",
       "        vertical-align: middle;\n",
       "    }\n",
       "\n",
       "    .dataframe tbody tr th {\n",
       "        vertical-align: top;\n",
       "    }\n",
       "\n",
       "    .dataframe thead th {\n",
       "        text-align: right;\n",
       "    }\n",
       "</style>\n",
       "<table border=\"1\" class=\"dataframe\">\n",
       "  <thead>\n",
       "    <tr style=\"text-align: right;\">\n",
       "      <th></th>\n",
       "      <th>start</th>\n",
       "      <th>E1</th>\n",
       "      <th>var1</th>\n",
       "      <th>stop</th>\n",
       "      <th>id</th>\n",
       "      <th>event</th>\n",
       "    </tr>\n",
       "  </thead>\n",
       "  <tbody>\n",
       "    <tr>\n",
       "      <th>0</th>\n",
       "      <td>0.0</td>\n",
       "      <td>NaN</td>\n",
       "      <td>0.1</td>\n",
       "      <td>1.0</td>\n",
       "      <td>1</td>\n",
       "      <td>False</td>\n",
       "    </tr>\n",
       "    <tr>\n",
       "      <th>1</th>\n",
       "      <td>1.0</td>\n",
       "      <td>1.0</td>\n",
       "      <td>0.1</td>\n",
       "      <td>10.0</td>\n",
       "      <td>1</td>\n",
       "      <td>True</td>\n",
       "    </tr>\n",
       "    <tr>\n",
       "      <th>2</th>\n",
       "      <td>0.0</td>\n",
       "      <td>NaN</td>\n",
       "      <td>0.5</td>\n",
       "      <td>12.0</td>\n",
       "      <td>2</td>\n",
       "      <td>True</td>\n",
       "    </tr>\n",
       "  </tbody>\n",
       "</table>\n",
       "</div>"
      ],
      "text/plain": [
       "   start   E1  var1  stop  id  event\n",
       "0    0.0  NaN   0.1   1.0   1  False\n",
       "1    1.0  1.0   0.1  10.0   1   True\n",
       "2    0.0  NaN   0.5  12.0   2   True"
      ]
     },
     "execution_count": 64,
     "metadata": {},
     "output_type": "execute_result"
    }
   ],
   "source": [
    "base_df"
   ]
  },
  {
   "cell_type": "code",
   "execution_count": null,
   "id": "eb98388c",
   "metadata": {},
   "outputs": [],
   "source": []
  },
  {
   "cell_type": "code",
   "execution_count": null,
   "id": "ceca8e6c",
   "metadata": {},
   "outputs": [],
   "source": []
  },
  {
   "cell_type": "code",
   "execution_count": null,
   "id": "ba3434c1",
   "metadata": {},
   "outputs": [],
   "source": []
  },
  {
   "cell_type": "code",
   "execution_count": null,
   "id": "6403de96",
   "metadata": {},
   "outputs": [],
   "source": []
  }
 ],
 "metadata": {
  "kernelspec": {
   "display_name": "Python 3 (ipykernel)",
   "language": "python",
   "name": "python3"
  },
  "language_info": {
   "codemirror_mode": {
    "name": "ipython",
    "version": 3
   },
   "file_extension": ".py",
   "mimetype": "text/x-python",
   "name": "python",
   "nbconvert_exporter": "python",
   "pygments_lexer": "ipython3",
   "version": "3.9.7"
  }
 },
 "nbformat": 4,
 "nbformat_minor": 5
}
