{
 "cells": [
  {
   "cell_type": "markdown",
   "id": "797dec05",
   "metadata": {},
   "source": [
    "## Survival Analysis: time varying survival regression"
   ]
  },
  {
   "cell_type": "markdown",
   "id": "aaa39b44",
   "metadata": {},
   "source": [
    "Materials:\n",
    "- Time varying survival regression [Link](https://lifelines.readthedocs.io/en/latest/Time%20varying%20survival%20regression.html)\n",
    "- TA Review on Accelerated Failure Time Models [Link](https://www.ripublication.com/ijss17/ijssv12n2_15.pdf)\n",
    "- The Cox Proportional Hazards Model [Link](https://bookdown.org/sestelo/sa_financial/cox.html)\n",
    "- On Ranking in Survival Analysis: Bounds on the Concordance Index [Link](https://proceedings.neurips.cc/paper/2007/file/33e8075e9970de0cfea955afd4644bb2-Paper.pdf)"
   ]
  },
  {
   "cell_type": "markdown",
   "id": "3ea805c0",
   "metadata": {},
   "source": [
    "### Cox's time-varying proportional hazard model: <br/>\n",
    "$ h(t|x(t) = h_0(t) \\ exp([x(t)- \\bar{x}]' \\ \\beta) $"
   ]
  },
  {
   "cell_type": "markdown",
   "id": "cef4da17",
   "metadata": {},
   "source": [
    "**Dataset creation for time-varying regression** <br/>\n",
    "lifelines requires that the dataset be in what is called the long format. This looks like one row per state change, including an ID, the left (exclusive) time point, and right (inclusive) time point."
   ]
  },
  {
   "cell_type": "code",
   "execution_count": 42,
   "id": "ec8a3916",
   "metadata": {
    "ExecuteTime": {
     "end_time": "2022-09-07T07:31:07.460305Z",
     "start_time": "2022-09-07T07:31:07.456709Z"
    }
   },
   "outputs": [],
   "source": [
    "import pandas as pd\n",
    "from lifelines.utils import to_long_format"
   ]
  },
  {
   "cell_type": "code",
   "execution_count": 43,
   "id": "2cc1dae2",
   "metadata": {
    "ExecuteTime": {
     "end_time": "2022-09-07T07:31:07.642155Z",
     "start_time": "2022-09-07T07:31:07.637752Z"
    }
   },
   "outputs": [],
   "source": [
    "# data from relational database with durations and event flags\n",
    "base_df = pd.DataFrame([\n",
    "  {'id': 1, 'duration': 10, 'event': True, 'var1': 0.1},\n",
    "  {'id': 2, 'duration': 12, 'event': True, 'var1': 0.5}\n",
    "])\n"
   ]
  },
  {
   "cell_type": "code",
   "execution_count": 44,
   "id": "197e1ea0",
   "metadata": {
    "ExecuteTime": {
     "end_time": "2022-09-07T07:31:07.791071Z",
     "start_time": "2022-09-07T07:31:07.782056Z"
    }
   },
   "outputs": [
    {
     "data": {
      "text/html": [
       "<div>\n",
       "<style scoped>\n",
       "    .dataframe tbody tr th:only-of-type {\n",
       "        vertical-align: middle;\n",
       "    }\n",
       "\n",
       "    .dataframe tbody tr th {\n",
       "        vertical-align: top;\n",
       "    }\n",
       "\n",
       "    .dataframe thead th {\n",
       "        text-align: right;\n",
       "    }\n",
       "</style>\n",
       "<table border=\"1\" class=\"dataframe\">\n",
       "  <thead>\n",
       "    <tr style=\"text-align: right;\">\n",
       "      <th></th>\n",
       "      <th>id</th>\n",
       "      <th>duration</th>\n",
       "      <th>event</th>\n",
       "      <th>var1</th>\n",
       "    </tr>\n",
       "  </thead>\n",
       "  <tbody>\n",
       "    <tr>\n",
       "      <th>0</th>\n",
       "      <td>1</td>\n",
       "      <td>10</td>\n",
       "      <td>True</td>\n",
       "      <td>0.1</td>\n",
       "    </tr>\n",
       "    <tr>\n",
       "      <th>1</th>\n",
       "      <td>2</td>\n",
       "      <td>12</td>\n",
       "      <td>True</td>\n",
       "      <td>0.5</td>\n",
       "    </tr>\n",
       "  </tbody>\n",
       "</table>\n",
       "</div>"
      ],
      "text/plain": [
       "   id  duration  event  var1\n",
       "0   1        10   True   0.1\n",
       "1   2        12   True   0.5"
      ]
     },
     "execution_count": 44,
     "metadata": {},
     "output_type": "execute_result"
    }
   ],
   "source": [
    "base_df"
   ]
  },
  {
   "cell_type": "code",
   "execution_count": 45,
   "id": "f95fe7e1",
   "metadata": {
    "ExecuteTime": {
     "end_time": "2022-09-07T07:31:08.090584Z",
     "start_time": "2022-09-07T07:31:08.039854Z"
    }
   },
   "outputs": [],
   "source": [
    "base_df = to_long_format(base_df, duration_col=\"duration\")"
   ]
  },
  {
   "cell_type": "code",
   "execution_count": 46,
   "id": "d88fc272",
   "metadata": {
    "ExecuteTime": {
     "end_time": "2022-09-07T07:31:08.357118Z",
     "start_time": "2022-09-07T07:31:08.346669Z"
    }
   },
   "outputs": [
    {
     "data": {
      "text/html": [
       "<div>\n",
       "<style scoped>\n",
       "    .dataframe tbody tr th:only-of-type {\n",
       "        vertical-align: middle;\n",
       "    }\n",
       "\n",
       "    .dataframe tbody tr th {\n",
       "        vertical-align: top;\n",
       "    }\n",
       "\n",
       "    .dataframe thead th {\n",
       "        text-align: right;\n",
       "    }\n",
       "</style>\n",
       "<table border=\"1\" class=\"dataframe\">\n",
       "  <thead>\n",
       "    <tr style=\"text-align: right;\">\n",
       "      <th></th>\n",
       "      <th>id</th>\n",
       "      <th>event</th>\n",
       "      <th>var1</th>\n",
       "      <th>start</th>\n",
       "      <th>stop</th>\n",
       "    </tr>\n",
       "  </thead>\n",
       "  <tbody>\n",
       "    <tr>\n",
       "      <th>0</th>\n",
       "      <td>1</td>\n",
       "      <td>True</td>\n",
       "      <td>0.1</td>\n",
       "      <td>0</td>\n",
       "      <td>10</td>\n",
       "    </tr>\n",
       "    <tr>\n",
       "      <th>1</th>\n",
       "      <td>2</td>\n",
       "      <td>True</td>\n",
       "      <td>0.5</td>\n",
       "      <td>0</td>\n",
       "      <td>12</td>\n",
       "    </tr>\n",
       "  </tbody>\n",
       "</table>\n",
       "</div>"
      ],
      "text/plain": [
       "   id  event  var1  start  stop\n",
       "0   1   True   0.1      0    10\n",
       "1   2   True   0.5      0    12"
      ]
     },
     "execution_count": 46,
     "metadata": {},
     "output_type": "execute_result"
    }
   ],
   "source": [
    "base_df"
   ]
  },
  {
   "cell_type": "code",
   "execution_count": null,
   "id": "c91ce721",
   "metadata": {},
   "outputs": [],
   "source": []
  },
  {
   "cell_type": "code",
   "execution_count": 47,
   "id": "00709051",
   "metadata": {
    "ExecuteTime": {
     "end_time": "2022-09-07T07:31:08.683398Z",
     "start_time": "2022-09-07T07:31:08.676378Z"
    }
   },
   "outputs": [],
   "source": [
    "from lifelines.utils import add_covariate_to_timeline"
   ]
  },
  {
   "cell_type": "code",
   "execution_count": 48,
   "id": "9756eeec",
   "metadata": {
    "ExecuteTime": {
     "end_time": "2022-09-07T07:31:08.921459Z",
     "start_time": "2022-09-07T07:31:08.915381Z"
    }
   },
   "outputs": [],
   "source": [
    "# secondary dataset that references future measurements - variables that change over time\n",
    "# time - duration from the entry point\n",
    "cv = pd.DataFrame([\n",
    "  {'id': 1, 'time': 0, 'var2': 1.4},\n",
    "  {'id': 1, 'time': 4, 'var2': 1.2},\n",
    "  {'id': 1, 'time': 8, 'var2': 1.5},\n",
    "  {'id': 2, 'time': 0, 'var2': 1.6},\n",
    "\n",
    "])"
   ]
  },
  {
   "cell_type": "code",
   "execution_count": 49,
   "id": "922d4765",
   "metadata": {
    "ExecuteTime": {
     "end_time": "2022-09-07T07:31:09.101976Z",
     "start_time": "2022-09-07T07:31:09.090639Z"
    }
   },
   "outputs": [
    {
     "data": {
      "text/html": [
       "<div>\n",
       "<style scoped>\n",
       "    .dataframe tbody tr th:only-of-type {\n",
       "        vertical-align: middle;\n",
       "    }\n",
       "\n",
       "    .dataframe tbody tr th {\n",
       "        vertical-align: top;\n",
       "    }\n",
       "\n",
       "    .dataframe thead th {\n",
       "        text-align: right;\n",
       "    }\n",
       "</style>\n",
       "<table border=\"1\" class=\"dataframe\">\n",
       "  <thead>\n",
       "    <tr style=\"text-align: right;\">\n",
       "      <th></th>\n",
       "      <th>id</th>\n",
       "      <th>time</th>\n",
       "      <th>var2</th>\n",
       "    </tr>\n",
       "  </thead>\n",
       "  <tbody>\n",
       "    <tr>\n",
       "      <th>0</th>\n",
       "      <td>1</td>\n",
       "      <td>0</td>\n",
       "      <td>1.4</td>\n",
       "    </tr>\n",
       "    <tr>\n",
       "      <th>1</th>\n",
       "      <td>1</td>\n",
       "      <td>4</td>\n",
       "      <td>1.2</td>\n",
       "    </tr>\n",
       "    <tr>\n",
       "      <th>2</th>\n",
       "      <td>1</td>\n",
       "      <td>8</td>\n",
       "      <td>1.5</td>\n",
       "    </tr>\n",
       "    <tr>\n",
       "      <th>3</th>\n",
       "      <td>2</td>\n",
       "      <td>0</td>\n",
       "      <td>1.6</td>\n",
       "    </tr>\n",
       "  </tbody>\n",
       "</table>\n",
       "</div>"
      ],
      "text/plain": [
       "   id  time  var2\n",
       "0   1     0   1.4\n",
       "1   1     4   1.2\n",
       "2   1     8   1.5\n",
       "3   2     0   1.6"
      ]
     },
     "execution_count": 49,
     "metadata": {},
     "output_type": "execute_result"
    }
   ],
   "source": [
    "cv"
   ]
  },
  {
   "cell_type": "code",
   "execution_count": 52,
   "id": "c288bd3f",
   "metadata": {
    "ExecuteTime": {
     "end_time": "2022-09-07T07:48:50.898853Z",
     "start_time": "2022-09-07T07:48:50.828118Z"
    }
   },
   "outputs": [],
   "source": [
    "# use `add_covariate_to_timeline` to fold the covariate dataset into original dataset\n",
    "df = add_covariate_to_timeline(base_df, cv, \n",
    "                               duration_col=\"time\", \n",
    "                               id_col=\"id\", \n",
    "                               event_col=\"event\").columns()"
   ]
  },
  {
   "cell_type": "code",
   "execution_count": 54,
   "id": "3816c02a",
   "metadata": {
    "ExecuteTime": {
     "end_time": "2022-09-07T07:54:53.721546Z",
     "start_time": "2022-09-07T07:54:53.717038Z"
    }
   },
   "outputs": [],
   "source": [
    "cols = ['id','start','stop','var1','var2','event']"
   ]
  },
  {
   "cell_type": "code",
   "execution_count": 56,
   "id": "efd74935",
   "metadata": {
    "ExecuteTime": {
     "end_time": "2022-09-07T07:55:01.554546Z",
     "start_time": "2022-09-07T07:55:01.532628Z"
    }
   },
   "outputs": [
    {
     "data": {
      "text/html": [
       "<div>\n",
       "<style scoped>\n",
       "    .dataframe tbody tr th:only-of-type {\n",
       "        vertical-align: middle;\n",
       "    }\n",
       "\n",
       "    .dataframe tbody tr th {\n",
       "        vertical-align: top;\n",
       "    }\n",
       "\n",
       "    .dataframe thead th {\n",
       "        text-align: right;\n",
       "    }\n",
       "</style>\n",
       "<table border=\"1\" class=\"dataframe\">\n",
       "  <thead>\n",
       "    <tr style=\"text-align: right;\">\n",
       "      <th></th>\n",
       "      <th>id</th>\n",
       "      <th>start</th>\n",
       "      <th>stop</th>\n",
       "      <th>var1</th>\n",
       "      <th>var2</th>\n",
       "      <th>event</th>\n",
       "    </tr>\n",
       "  </thead>\n",
       "  <tbody>\n",
       "    <tr>\n",
       "      <th>0</th>\n",
       "      <td>1</td>\n",
       "      <td>0</td>\n",
       "      <td>4.0</td>\n",
       "      <td>0.1</td>\n",
       "      <td>1.4</td>\n",
       "      <td>False</td>\n",
       "    </tr>\n",
       "    <tr>\n",
       "      <th>1</th>\n",
       "      <td>1</td>\n",
       "      <td>4</td>\n",
       "      <td>8.0</td>\n",
       "      <td>0.1</td>\n",
       "      <td>1.2</td>\n",
       "      <td>False</td>\n",
       "    </tr>\n",
       "    <tr>\n",
       "      <th>2</th>\n",
       "      <td>1</td>\n",
       "      <td>8</td>\n",
       "      <td>10.0</td>\n",
       "      <td>0.1</td>\n",
       "      <td>1.5</td>\n",
       "      <td>True</td>\n",
       "    </tr>\n",
       "    <tr>\n",
       "      <th>3</th>\n",
       "      <td>2</td>\n",
       "      <td>0</td>\n",
       "      <td>12.0</td>\n",
       "      <td>0.5</td>\n",
       "      <td>1.6</td>\n",
       "      <td>True</td>\n",
       "    </tr>\n",
       "  </tbody>\n",
       "</table>\n",
       "</div>"
      ],
      "text/plain": [
       "   id  start  stop  var1  var2  event\n",
       "0   1      0   4.0   0.1   1.4  False\n",
       "1   1      4   8.0   0.1   1.2  False\n",
       "2   1      8  10.0   0.1   1.5   True\n",
       "3   2      0  12.0   0.5   1.6   True"
      ]
     },
     "execution_count": 56,
     "metadata": {},
     "output_type": "execute_result"
    }
   ],
   "source": [
    "df[cols]"
   ]
  },
  {
   "cell_type": "code",
   "execution_count": null,
   "id": "04469de7",
   "metadata": {},
   "outputs": [],
   "source": [
    "# we can add multiple covariates with pipe:\n",
    "\n",
    "# df = base_df.pipe(add_covariate_to_timeline, cv1, duration_col=\"time\", id_col=\"id\", event_col=\"event\")\\\n",
    "#             .pipe(add_covariate_to_timeline, cv2, duration_col=\"time\", id_col=\"id\", event_col=\"event\")\\\n",
    "#             .pipe(add_covariate_to_timeline, cv3, duration_col=\"time\", id_col=\"id\", event_col=\"event\")"
   ]
  },
  {
   "cell_type": "code",
   "execution_count": 58,
   "id": "2124e929",
   "metadata": {
    "ExecuteTime": {
     "end_time": "2022-09-07T07:58:44.089803Z",
     "start_time": "2022-09-07T07:58:44.078036Z"
    }
   },
   "outputs": [
    {
     "data": {
      "text/html": [
       "<div>\n",
       "<style scoped>\n",
       "    .dataframe tbody tr th:only-of-type {\n",
       "        vertical-align: middle;\n",
       "    }\n",
       "\n",
       "    .dataframe tbody tr th {\n",
       "        vertical-align: top;\n",
       "    }\n",
       "\n",
       "    .dataframe thead th {\n",
       "        text-align: right;\n",
       "    }\n",
       "</style>\n",
       "<table border=\"1\" class=\"dataframe\">\n",
       "  <thead>\n",
       "    <tr style=\"text-align: right;\">\n",
       "      <th></th>\n",
       "      <th>id</th>\n",
       "      <th>E1</th>\n",
       "    </tr>\n",
       "  </thead>\n",
       "  <tbody>\n",
       "    <tr>\n",
       "      <th>0</th>\n",
       "      <td>1</td>\n",
       "      <td>1.0</td>\n",
       "    </tr>\n",
       "    <tr>\n",
       "      <th>1</th>\n",
       "      <td>2</td>\n",
       "      <td>NaN</td>\n",
       "    </tr>\n",
       "    <tr>\n",
       "      <th>2</th>\n",
       "      <td>3</td>\n",
       "      <td>3.0</td>\n",
       "    </tr>\n",
       "  </tbody>\n",
       "</table>\n",
       "</div>"
      ],
      "text/plain": [
       "   id   E1\n",
       "0   1  1.0\n",
       "1   2  NaN\n",
       "2   3  3.0"
      ]
     },
     "execution_count": 58,
     "metadata": {},
     "output_type": "execute_result"
    }
   ],
   "source": [
    "# secondary dataset - event-based with values in the matrix denote times since the subject's birth\n",
    "\n",
    "event_df = pd.DataFrame([\n",
    "    {'id': 1, 'E1': 1.0},\n",
    "    {'id': 2, 'E1': None},\n",
    "    {'id': 3, 'E1': 3.0},\n",
    "])\n",
    "event_df"
   ]
  },
  {
   "cell_type": "code",
   "execution_count": null,
   "id": "f01e1867",
   "metadata": {},
   "outputs": [],
   "source": [
    "# cannot add to baseline df, but can convert and add with `covariates_from_event_matrix`"
   ]
  },
  {
   "cell_type": "code",
   "execution_count": 59,
   "id": "a7389a56",
   "metadata": {
    "ExecuteTime": {
     "end_time": "2022-09-07T08:08:45.189285Z",
     "start_time": "2022-09-07T08:08:45.184224Z"
    }
   },
   "outputs": [],
   "source": [
    "from lifelines.utils import covariates_from_event_matrix"
   ]
  },
  {
   "cell_type": "code",
   "execution_count": 60,
   "id": "cd3c2967",
   "metadata": {
    "ExecuteTime": {
     "end_time": "2022-09-07T08:08:55.568916Z",
     "start_time": "2022-09-07T08:08:55.489438Z"
    }
   },
   "outputs": [],
   "source": [
    "cv = covariates_from_event_matrix(event_df, id_col=\"id\")"
   ]
  },
  {
   "cell_type": "code",
   "execution_count": 61,
   "id": "f4c51378",
   "metadata": {
    "ExecuteTime": {
     "end_time": "2022-09-07T08:08:58.049120Z",
     "start_time": "2022-09-07T08:08:58.039089Z"
    }
   },
   "outputs": [
    {
     "data": {
      "text/html": [
       "<div>\n",
       "<style scoped>\n",
       "    .dataframe tbody tr th:only-of-type {\n",
       "        vertical-align: middle;\n",
       "    }\n",
       "\n",
       "    .dataframe tbody tr th {\n",
       "        vertical-align: top;\n",
       "    }\n",
       "\n",
       "    .dataframe thead th {\n",
       "        text-align: right;\n",
       "    }\n",
       "</style>\n",
       "<table border=\"1\" class=\"dataframe\">\n",
       "  <thead>\n",
       "    <tr style=\"text-align: right;\">\n",
       "      <th></th>\n",
       "      <th>id</th>\n",
       "      <th>duration</th>\n",
       "      <th>E1</th>\n",
       "    </tr>\n",
       "  </thead>\n",
       "  <tbody>\n",
       "    <tr>\n",
       "      <th>0</th>\n",
       "      <td>1</td>\n",
       "      <td>1.0</td>\n",
       "      <td>1</td>\n",
       "    </tr>\n",
       "    <tr>\n",
       "      <th>1</th>\n",
       "      <td>2</td>\n",
       "      <td>inf</td>\n",
       "      <td>1</td>\n",
       "    </tr>\n",
       "    <tr>\n",
       "      <th>2</th>\n",
       "      <td>3</td>\n",
       "      <td>3.0</td>\n",
       "      <td>1</td>\n",
       "    </tr>\n",
       "  </tbody>\n",
       "</table>\n",
       "</div>"
      ],
      "text/plain": [
       "   id  duration  E1\n",
       "0   1       1.0   1\n",
       "1   2       inf   1\n",
       "2   3       3.0   1"
      ]
     },
     "execution_count": 61,
     "metadata": {},
     "output_type": "execute_result"
    }
   ],
   "source": [
    "cv"
   ]
  },
  {
   "cell_type": "code",
   "execution_count": 63,
   "id": "e558f4d3",
   "metadata": {
    "ExecuteTime": {
     "end_time": "2022-09-07T08:09:26.112995Z",
     "start_time": "2022-09-07T08:09:26.073056Z"
    }
   },
   "outputs": [],
   "source": [
    "base_df = add_covariate_to_timeline(base_df, cv, duration_col=\"duration\", id_col=\"id\", event_col=\"event\")\n"
   ]
  },
  {
   "cell_type": "code",
   "execution_count": 64,
   "id": "0bcceca9",
   "metadata": {
    "ExecuteTime": {
     "end_time": "2022-09-07T08:09:30.212255Z",
     "start_time": "2022-09-07T08:09:30.199251Z"
    }
   },
   "outputs": [
    {
     "data": {
      "text/html": [
       "<div>\n",
       "<style scoped>\n",
       "    .dataframe tbody tr th:only-of-type {\n",
       "        vertical-align: middle;\n",
       "    }\n",
       "\n",
       "    .dataframe tbody tr th {\n",
       "        vertical-align: top;\n",
       "    }\n",
       "\n",
       "    .dataframe thead th {\n",
       "        text-align: right;\n",
       "    }\n",
       "</style>\n",
       "<table border=\"1\" class=\"dataframe\">\n",
       "  <thead>\n",
       "    <tr style=\"text-align: right;\">\n",
       "      <th></th>\n",
       "      <th>start</th>\n",
       "      <th>E1</th>\n",
       "      <th>var1</th>\n",
       "      <th>stop</th>\n",
       "      <th>id</th>\n",
       "      <th>event</th>\n",
       "    </tr>\n",
       "  </thead>\n",
       "  <tbody>\n",
       "    <tr>\n",
       "      <th>0</th>\n",
       "      <td>0.0</td>\n",
       "      <td>NaN</td>\n",
       "      <td>0.1</td>\n",
       "      <td>1.0</td>\n",
       "      <td>1</td>\n",
       "      <td>False</td>\n",
       "    </tr>\n",
       "    <tr>\n",
       "      <th>1</th>\n",
       "      <td>1.0</td>\n",
       "      <td>1.0</td>\n",
       "      <td>0.1</td>\n",
       "      <td>10.0</td>\n",
       "      <td>1</td>\n",
       "      <td>True</td>\n",
       "    </tr>\n",
       "    <tr>\n",
       "      <th>2</th>\n",
       "      <td>0.0</td>\n",
       "      <td>NaN</td>\n",
       "      <td>0.5</td>\n",
       "      <td>12.0</td>\n",
       "      <td>2</td>\n",
       "      <td>True</td>\n",
       "    </tr>\n",
       "  </tbody>\n",
       "</table>\n",
       "</div>"
      ],
      "text/plain": [
       "   start   E1  var1  stop  id  event\n",
       "0    0.0  NaN   0.1   1.0   1  False\n",
       "1    1.0  1.0   0.1  10.0   1   True\n",
       "2    0.0  NaN   0.5  12.0   2   True"
      ]
     },
     "execution_count": 64,
     "metadata": {},
     "output_type": "execute_result"
    }
   ],
   "source": [
    "base_df"
   ]
  },
  {
   "cell_type": "markdown",
   "id": "895ae466",
   "metadata": {},
   "source": [
    "**DFitting time-varying model** <br/>\n",
    "Fitting the Cox model to the data involves an iterative gradient descent. lifelines takes extra effort to help with convergence, so please be attentive to any warnings that appear."
   ]
  },
  {
   "cell_type": "code",
   "execution_count": 65,
   "id": "15647ddf",
   "metadata": {
    "ExecuteTime": {
     "end_time": "2022-09-07T08:28:54.302059Z",
     "start_time": "2022-09-07T08:28:54.286076Z"
    }
   },
   "outputs": [],
   "source": [
    "from lifelines import CoxTimeVaryingFitter"
   ]
  },
  {
   "cell_type": "code",
   "execution_count": 69,
   "id": "e34cadd6",
   "metadata": {
    "ExecuteTime": {
     "end_time": "2022-09-07T08:29:32.833112Z",
     "start_time": "2022-09-07T08:29:32.754762Z"
    }
   },
   "outputs": [
    {
     "name": "stdout",
     "output_type": "stream",
     "text": [
      "\r",
      "Iteration 1: norm_delta = 0.66626, step_size = 0.95000, ll = -0.69315, newton_decrement = 0.36538, seconds_since_start = 0.0\n",
      "\r",
      "Iteration 2: norm_delta = 0.12988, step_size = 0.95000, ll = -0.31149, newton_decrement = 0.01022, seconds_since_start = 0.0\n",
      "\r",
      "Iteration 3: norm_delta = 0.01422, step_size = 0.95000, ll = -0.30098, newton_decrement = 0.00011, seconds_since_start = 0.0\n",
      "\r",
      "Iteration 4: norm_delta = 0.00084, step_size = 1.00000, ll = -0.30087, newton_decrement = 0.00000, seconds_since_start = 0.0\n",
      "\r",
      "Iteration 5: norm_delta = 0.00000, step_size = 1.00000, ll = -0.30087, newton_decrement = 0.00000, seconds_since_start = 0.0\n",
      "Convergence completed after 5 iterations.\n"
     ]
    },
    {
     "name": "stderr",
     "output_type": "stream",
     "text": [
      "/Users/antonermak/opt/anaconda3/lib/python3.9/site-packages/lifelines/utils/__init__.py:1122: ConvergenceWarning: Column var1 have very low variance when conditioned on death event present or not. This may harm convergence. This could be a form of 'complete separation'. For example, try the following code:\n",
      "\n",
      ">>> events = df['event'].astype(bool)\n",
      ">>> print(df.loc[events, 'var1'].var())\n",
      ">>> print(df.loc[~events, 'var1'].var())\n",
      "\n",
      "A very low variance means that the column var1 completely determines whether a subject dies or not. See https://stats.stackexchange.com/questions/11109/how-to-deal-with-perfect-separation-in-logistic-regression.\n",
      "\n",
      "  warnings.warn(dedent(warning_text), ConvergenceWarning)\n"
     ]
    },
    {
     "data": {
      "text/plain": [
       "<lifelines.CoxTimeVaryingFitter: fitted with 4 periods, 2 subjects, 2 events>"
      ]
     },
     "execution_count": 69,
     "metadata": {},
     "output_type": "execute_result"
    }
   ],
   "source": [
    "ctv = CoxTimeVaryingFitter(penalizer=0.1)\n",
    "ctv.fit(df, id_col=\"id\", event_col=\"event\", start_col=\"start\", stop_col=\"stop\", show_progress=True)"
   ]
  },
  {
   "cell_type": "code",
   "execution_count": 70,
   "id": "b8d07c2f",
   "metadata": {
    "ExecuteTime": {
     "end_time": "2022-09-07T08:29:36.561948Z",
     "start_time": "2022-09-07T08:29:35.222598Z"
    }
   },
   "outputs": [
    {
     "name": "stderr",
     "output_type": "stream",
     "text": [
      "/Users/antonermak/opt/anaconda3/lib/python3.9/site-packages/lifelines/utils/printer.py:62: FutureWarning: In future versions `DataFrame.to_latex` is expected to utilise the base implementation of `Styler.to_latex` for formatting and rendering. The arguments signature may therefore change. It is recommended instead to use `DataFrame.style.to_latex` which also contains additional functionality.\n",
      "  return summary_df[columns].to_latex(float_format=\"%.\" + str(self.decimals) + \"f\")\n"
     ]
    },
    {
     "data": {
      "text/html": [
       "<div>\n",
       "<style scoped>\n",
       "    .dataframe tbody tr th:only-of-type {\n",
       "        vertical-align: middle;\n",
       "    }\n",
       "\n",
       "    .dataframe tbody tr th {\n",
       "        vertical-align: top;\n",
       "    }\n",
       "\n",
       "    .dataframe thead th {\n",
       "        text-align: right;\n",
       "    }\n",
       "</style>\n",
       "<table border=\"1\" class=\"dataframe\">\n",
       "  <tbody>\n",
       "    <tr>\n",
       "      <th>model</th>\n",
       "      <td>lifelines.CoxTimeVaryingFitter</td>\n",
       "    </tr>\n",
       "    <tr>\n",
       "      <th>event col</th>\n",
       "      <td>'event'</td>\n",
       "    </tr>\n",
       "    <tr>\n",
       "      <th>penalizer</th>\n",
       "      <td>0.1</td>\n",
       "    </tr>\n",
       "    <tr>\n",
       "      <th>number of subjects</th>\n",
       "      <td>2</td>\n",
       "    </tr>\n",
       "    <tr>\n",
       "      <th>number of periods</th>\n",
       "      <td>4</td>\n",
       "    </tr>\n",
       "    <tr>\n",
       "      <th>number of events</th>\n",
       "      <td>2</td>\n",
       "    </tr>\n",
       "    <tr>\n",
       "      <th>partial log-likelihood</th>\n",
       "      <td>-0.30</td>\n",
       "    </tr>\n",
       "    <tr>\n",
       "      <th>time fit was run</th>\n",
       "      <td>2022-09-07 08:29:32 UTC</td>\n",
       "    </tr>\n",
       "  </tbody>\n",
       "</table>\n",
       "</div><table border=\"1\" class=\"dataframe\">\n",
       "  <thead>\n",
       "    <tr style=\"text-align: right;\">\n",
       "      <th style=\"min-width: 12px;\"></th>\n",
       "      <th style=\"min-width: 12px;\">coef</th>\n",
       "      <th style=\"min-width: 12px;\">exp(coef)</th>\n",
       "      <th style=\"min-width: 12px;\">se(coef)</th>\n",
       "      <th style=\"min-width: 12px;\">coef lower 95%</th>\n",
       "      <th style=\"min-width: 12px;\">coef upper 95%</th>\n",
       "      <th style=\"min-width: 12px;\">exp(coef) lower 95%</th>\n",
       "      <th style=\"min-width: 12px;\">exp(coef) upper 95%</th>\n",
       "      <th style=\"min-width: 12px;\">cmp to</th>\n",
       "      <th style=\"min-width: 12px;\">z</th>\n",
       "      <th style=\"min-width: 12px;\">p</th>\n",
       "      <th style=\"min-width: 12px;\">-log2(p)</th>\n",
       "    </tr>\n",
       "  </thead>\n",
       "  <tbody>\n",
       "    <tr>\n",
       "      <th>var1</th>\n",
       "      <td>-3.89</td>\n",
       "      <td>0.02</td>\n",
       "      <td>5.35</td>\n",
       "      <td>-14.38</td>\n",
       "      <td>6.60</td>\n",
       "      <td>0.00</td>\n",
       "      <td>733.78</td>\n",
       "      <td>0.00</td>\n",
       "      <td>-0.73</td>\n",
       "      <td>0.47</td>\n",
       "      <td>1.10</td>\n",
       "    </tr>\n",
       "    <tr>\n",
       "      <th>var2</th>\n",
       "      <td>-1.33</td>\n",
       "      <td>0.26</td>\n",
       "      <td>9.04</td>\n",
       "      <td>-19.05</td>\n",
       "      <td>16.38</td>\n",
       "      <td>0.00</td>\n",
       "      <td>1.31e+07</td>\n",
       "      <td>0.00</td>\n",
       "      <td>-0.15</td>\n",
       "      <td>0.88</td>\n",
       "      <td>0.18</td>\n",
       "    </tr>\n",
       "  </tbody>\n",
       "</table><br><div>\n",
       "<style scoped>\n",
       "    .dataframe tbody tr th:only-of-type {\n",
       "        vertical-align: middle;\n",
       "    }\n",
       "\n",
       "    .dataframe tbody tr th {\n",
       "        vertical-align: top;\n",
       "    }\n",
       "\n",
       "    .dataframe thead th {\n",
       "        text-align: right;\n",
       "    }\n",
       "</style>\n",
       "<table border=\"1\" class=\"dataframe\">\n",
       "  <tbody>\n",
       "    <tr>\n",
       "      <th>Partial AIC</th>\n",
       "      <td>4.60</td>\n",
       "    </tr>\n",
       "    <tr>\n",
       "      <th>log-likelihood ratio test</th>\n",
       "      <td>0.78 on 2 df</td>\n",
       "    </tr>\n",
       "    <tr>\n",
       "      <th>-log2(p) of ll-ratio test</th>\n",
       "      <td>0.57</td>\n",
       "    </tr>\n",
       "  </tbody>\n",
       "</table>\n",
       "</div>"
      ],
      "text/latex": [
       "\\begin{tabular}{lrrrrrrrrrrr}\n",
       "\\toprule\n",
       "{} &  coef &  exp(coef) &  se(coef) &  coef lower 95\\% &  coef upper 95\\% &  exp(coef) lower 95\\% &  exp(coef) upper 95\\% &  cmp to &     z &    p &  -log2(p) \\\\\n",
       "covariate &       &            &           &                 &                 &                      &                      &         &       &      &           \\\\\n",
       "\\midrule\n",
       "var1      & -3.89 &       0.02 &      5.35 &          -14.38 &            6.60 &                 0.00 &               733.78 &    0.00 & -0.73 & 0.47 &      1.10 \\\\\n",
       "var2      & -1.33 &       0.26 &      9.04 &          -19.05 &           16.38 &                 0.00 &          13058137.36 &    0.00 & -0.15 & 0.88 &      0.18 \\\\\n",
       "\\bottomrule\n",
       "\\end{tabular}\n"
      ],
      "text/plain": [
       "<lifelines.CoxTimeVaryingFitter: fitted with 4 periods, 2 subjects, 2 events>\n",
       "         event col = 'event'\n",
       "         penalizer = 0.1\n",
       "number of subjects = 2\n",
       " number of periods = 4\n",
       "  number of events = 2\n",
       "partial log-likelihood = -0.30\n",
       "  time fit was run = 2022-09-07 08:29:32 UTC\n",
       "\n",
       "---\n",
       "            coef  exp(coef)   se(coef)   coef lower 95%   coef upper 95%  exp(coef) lower 95%  exp(coef) upper 95%\n",
       "covariate                                                                                                         \n",
       "var1       -3.89       0.02       5.35           -14.38             6.60                 0.00               733.78\n",
       "var2       -1.33       0.26       9.04           -19.05            16.38                 0.00             1.31e+07\n",
       "\n",
       "            cmp to     z    p   -log2(p)\n",
       "covariate                               \n",
       "var1          0.00 -0.73 0.47       1.10\n",
       "var2          0.00 -0.15 0.88       0.18\n",
       "---\n",
       "Partial AIC = 4.60\n",
       "log-likelihood ratio test = 0.78 on 2 df\n",
       "-log2(p) of ll-ratio test = 0.57"
      ]
     },
     "metadata": {},
     "output_type": "display_data"
    },
    {
     "data": {
      "text/plain": [
       "<AxesSubplot:xlabel='log(HR) (95% CI)'>"
      ]
     },
     "execution_count": 70,
     "metadata": {},
     "output_type": "execute_result"
    },
    {
     "data": {
      "image/png": "[encoded data removed]",
      "text/plain": [
       "<Figure size 432x288 with 1 Axes>"
      ]
     },
     "metadata": {
      "needs_background": "light"
     },
     "output_type": "display_data"
    }
   ],
   "source": [
    "ctv.print_summary()\n",
    "ctv.plot()"
   ]
  },
  {
   "cell_type": "code",
   "execution_count": null,
   "id": "901aee99",
   "metadata": {},
   "outputs": [],
   "source": []
  },
  {
   "cell_type": "code",
   "execution_count": null,
   "id": "59ede4ab",
   "metadata": {},
   "outputs": [],
   "source": []
  }
 ],
 "metadata": {
  "kernelspec": {
   "display_name": "Python 3 (ipykernel)",
   "language": "python",
   "name": "python3"
  },
  "language_info": {
   "codemirror_mode": {
    "name": "ipython",
    "version": 3
   },
   "file_extension": ".py",
   "mimetype": "text/x-python",
   "name": "python",
   "nbconvert_exporter": "python",
   "pygments_lexer": "ipython3",
   "version": "3.9.7"
  }
 },
 "nbformat": 4,
 "nbformat_minor": 5
}
